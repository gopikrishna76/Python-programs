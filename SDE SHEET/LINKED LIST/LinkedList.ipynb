{
 "cells": [
  {
   "cell_type": "code",
   "execution_count": 1,
   "id": "8c1d60fe",
   "metadata": {},
   "outputs": [],
   "source": [
    "#to create an linked list\n",
    "class Node:\n",
    "    def __init__(self,k):\n",
    "        self.key = k\n",
    "        self.next = None\n",
    "        \n",
    "    def printlist(head):\n",
    "        curr = head\n",
    "        while curr:\n",
    "            print(curr.key,end=\" \")\n",
    "            curr = curr.next\n",
    "            \n",
    "        \n",
    "    \n",
    "head = Node(10)\n",
    "head.next = Node(20)\n",
    "head.next.next =Node(30)\n",
    "head.next.next.next = Node(40)\n",
    "# 10 >> 20 >> 30 >> 40 >> None"
   ]
  },
  {
   "cell_type": "code",
   "execution_count": 2,
   "id": "db396afc",
   "metadata": {},
   "outputs": [
    {
     "name": "stdout",
     "output_type": "stream",
     "text": [
      "10 20 30 40 "
     ]
    }
   ],
   "source": [
    "def traverse(head):\n",
    "    current_element = head\n",
    "    while current_element:\n",
    "        print(current_element.key,end =\" \")\n",
    "        current_element = current_element.next\n",
    "        \n",
    "#10,20,30,40\n",
    "traverse(head)         #traversing in a linked list"
   ]
  },
  {
   "cell_type": "code",
   "execution_count": 3,
   "id": "c9bde927",
   "metadata": {},
   "outputs": [
    {
     "data": {
      "text/plain": [
       "4"
      ]
     },
     "execution_count": 3,
     "metadata": {},
     "output_type": "execute_result"
    }
   ],
   "source": [
    "def count(head):\n",
    "    count1 = 0\n",
    "    current_element = head\n",
    "    while current_element:\n",
    "        count1 +=1\n",
    "        current_element = current_element.next\n",
    "    return count1\n",
    "#10,20,30,40\n",
    "count(head) #to find the length of linked list"
   ]
  },
  {
   "cell_type": "code",
   "execution_count": 13,
   "id": "c54c0c8d",
   "metadata": {},
   "outputs": [
    {
     "data": {
      "text/plain": [
       "<__main__.Node at 0x27198e21a30>"
      ]
     },
     "execution_count": 13,
     "metadata": {},
     "output_type": "execute_result"
    }
   ],
   "source": [
    "#10,20,30,40\n",
    "\n",
    "def reverse_linkedlist(head):\n",
    "    result = []\n",
    "    curr2 = head\n",
    "    prev = None\n",
    "    while curr2!=None:\n",
    "        next = curr2.next\n",
    "        curr2.next = prev\n",
    "        prev = curr2\n",
    "        curr2 = next\n",
    "    return prev\n",
    "    \n",
    " \n",
    "\n",
    "reverse_linkedlist(head)\n",
    "#head.printlist(head)"
   ]
  },
  {
   "cell_type": "code",
   "execution_count": 20,
   "id": "48b772ad",
   "metadata": {},
   "outputs": [
    {
     "data": {
      "text/plain": [
       "10"
      ]
     },
     "execution_count": 20,
     "metadata": {},
     "output_type": "execute_result"
    }
   ],
   "source": [
    "def middle_element(head):  #tortoise - Haire approach\n",
    "                           #one step -   two steps\n",
    "    slow = fast = head\n",
    "    while head:\n",
    "        while fast.next and fast!=None:\n",
    "            fast = fast.next.next\n",
    "            slow = slow.next\n",
    "            \n",
    "        return slow.key\n",
    "    return None\n",
    "\n",
    "middle_element(head)"
   ]
  },
  {
   "cell_type": "code",
   "execution_count": null,
   "id": "2bcdb9e6",
   "metadata": {},
   "outputs": [],
   "source": [
    "#to create an linked list\n",
    "class Node:\n",
    "    def __init__(self,k):\n",
    "        self.key = k\n",
    "        self.next = None"
   ]
  }
 ],
 "metadata": {
  "kernelspec": {
   "display_name": "Python 3 (ipykernel)",
   "language": "python",
   "name": "python3"
  },
  "language_info": {
   "codemirror_mode": {
    "name": "ipython",
    "version": 3
   },
   "file_extension": ".py",
   "mimetype": "text/x-python",
   "name": "python",
   "nbconvert_exporter": "python",
   "pygments_lexer": "ipython3",
   "version": "3.9.12"
  }
 },
 "nbformat": 4,
 "nbformat_minor": 5
}
