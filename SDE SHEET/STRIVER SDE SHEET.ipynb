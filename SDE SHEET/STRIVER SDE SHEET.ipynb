{
 "cells": [
  {
   "cell_type": "markdown",
   "id": "aa770a82",
   "metadata": {},
   "source": [
    "# DAY1: ARRAYS"
   ]
  },
  {
   "cell_type": "markdown",
   "id": "92f1d88a",
   "metadata": {},
   "source": [
    "PASCALS TRAINGLE"
   ]
  },
  {
   "cell_type": "code",
   "execution_count": 15,
   "id": "657b8fb6",
   "metadata": {},
   "outputs": [
    {
     "data": {
      "text/plain": [
       "[[1], [1, 1], [1, 2, 1], [1, 3, 3, 1], [1, 4, 6, 4, 1]]"
      ]
     },
     "execution_count": 15,
     "metadata": {},
     "output_type": "execute_result"
    }
   ],
   "source": [
    "def pascalsTriangle(n):\n",
    "    \n",
    "    pascal = [[1]*(i+1) for i in range(n)]\n",
    "    \n",
    "    for i in range(n):\n",
    "        for j in range(1,i):\n",
    "            pascal[i][j] = pascal[i-1][j-1]+pascal[i-1][j]\n",
    "    return pascal\n",
    "\n",
    "n = 5\n",
    "\n",
    "pascalsTriangle(n)"
   ]
  },
  {
   "cell_type": "markdown",
   "id": "04bd1531",
   "metadata": {},
   "source": [
    "KANDANE'S ALGORITHM"
   ]
  },
  {
   "cell_type": "code",
   "execution_count": 9,
   "id": "0b3e2b82",
   "metadata": {},
   "outputs": [
    {
     "data": {
      "text/plain": [
       "6"
      ]
     },
     "execution_count": 9,
     "metadata": {},
     "output_type": "execute_result"
    }
   ],
   "source": [
    "def kandaneAlgorithm(arr, n):  #O(n)\n",
    "    \n",
    "    sum = arr[0]\n",
    "    res = arr[0]\n",
    "    for i in range(1,n):\n",
    "        sum = max((sum+arr[i]),arr[i])\n",
    "        res = max(res,sum)\n",
    "    return res\n",
    "    \n",
    "    \n",
    "arr = [-2,1,-3,4,-1,2,1,-5,4]\n",
    "n   = len(arr)\n",
    "\n",
    "#Output: 6\n",
    "\n",
    "kandaneAlgorithm(arr, n)"
   ]
  },
  {
   "cell_type": "markdown",
   "id": "23cc646b",
   "metadata": {},
   "source": [
    "SORT AN ARRAY OF 0'S 1'S 2'S"
   ]
  },
  {
   "cell_type": "code",
   "execution_count": 10,
   "id": "bfb18675",
   "metadata": {},
   "outputs": [
    {
     "data": {
      "text/plain": [
       "[0, 0, 1, 1, 2, 2]"
      ]
     },
     "execution_count": 10,
     "metadata": {},
     "output_type": "execute_result"
    }
   ],
   "source": [
    "def sort_an_array(arr, n):    #dutch national flag algorithm\n",
    "    \n",
    "    low = 0\n",
    "    mid = 0\n",
    "    high = n-1\n",
    "    \n",
    "    while mid<=high:\n",
    "        \n",
    "        if arr[mid]==0:\n",
    "            arr[low],arr[mid] = arr[mid],arr[low]\n",
    "            low += 1\n",
    "            mid += 1\n",
    "            \n",
    "        elif arr[mid]==1:\n",
    "            mid += 1\n",
    "            \n",
    "        else:\n",
    "            arr[high],arr[mid] = arr[mid],arr[high]\n",
    "            high -= 1\n",
    "            \n",
    "    return arr\n",
    "    \n",
    "    \n",
    "    \n",
    "    \n",
    "    \n",
    "    \n",
    "arr = [0,2,1,1,0,2]\n",
    "n   = len(arr)\n",
    "    \n",
    "sort_an_array(arr, n) #we can also solve in O(n) usinf another methods"
   ]
  },
  {
   "cell_type": "markdown",
   "id": "64750868",
   "metadata": {},
   "source": [
    "BEST TIME TO BUY AND SELL STOCK"
   ]
  },
  {
   "cell_type": "code",
   "execution_count": 12,
   "id": "aa1cc6c6",
   "metadata": {},
   "outputs": [
    {
     "data": {
      "text/plain": [
       "5"
      ]
     },
     "execution_count": 12,
     "metadata": {},
     "output_type": "execute_result"
    }
   ],
   "source": [
    "def buy_and_sell(prices, n):\n",
    "    \n",
    "    maxprofit = 0\n",
    "    min_price = float('inf')\n",
    "    \n",
    "    for i in range(n):\n",
    "        if min_price>prices[i]:\n",
    "            min_price = prices[i]\n",
    "        elif (prices[i] - min_price) > maxprofit:\n",
    "            maxprofit = (prices[i] - min_price)\n",
    "    return maxprofit\n",
    "\n",
    "\n",
    "\n",
    "\n",
    "prices = [7,1,5,3,6,4]\n",
    "n      = len(prices)\n",
    "#Output: 5\n",
    "\n",
    "buy_and_sell(prices, n)  #O(n) and O(1)"
   ]
  },
  {
   "cell_type": "markdown",
   "id": "85eedc35",
   "metadata": {},
   "source": [
    "SET MATRIX ZEROS"
   ]
  },
  {
   "cell_type": "raw",
   "id": "379c3cac",
   "metadata": {},
   "source": [
    "def setMatrix(mat, r, c):  # O(r*c) tc and O(r+c) sc\n",
    "    \n",
    "    rows = cols = set()\n",
    "    \n",
    "    for i in range(r):\n",
    "        for j in range(c):\n",
    "            if mat[i][j] == 0:\n",
    "                rows.add(i)\n",
    "                cols.add(j)\n",
    "    \n",
    "    for i in range(r):\n",
    "        for j in range(c):\n",
    "            if i in rows or j in cols:\n",
    "                mat[i][j] = 0\n",
    "    return mat"
   ]
  },
  {
   "cell_type": "code",
   "execution_count": 21,
   "id": "ff99f379",
   "metadata": {},
   "outputs": [
    {
     "data": {
      "text/plain": [
       "[[0, 0, 0, 0], [0, 4, 5, 0], [0, 3, 1, 0]]"
      ]
     },
     "execution_count": 21,
     "metadata": {},
     "output_type": "execute_result"
    }
   ],
   "source": [
    "def setMatrix(mat, r, c):  # O(r*c) tc and O(1) sc\n",
    "    \n",
    "    col0 = 1\n",
    "    \n",
    "    for i in range(r):\n",
    "        if mat[i][0] == 0:\n",
    "            col0 = 0\n",
    "        for j in range(1,c):\n",
    "            if mat[i][j] == 0:\n",
    "                mat[i][0] = mat[0][j] = 0\n",
    "    \n",
    "    for i in range(r-1,-1,-1):\n",
    "        for j in range(c-1,0,-1):\n",
    "            if mat[i][0] == 0 or mat[0][j] ==0:\n",
    "                mat[i][j] = 0\n",
    "        if col0 == 0:\n",
    "            mat[i][0] = 0          \n",
    "    return mat\n",
    "\n",
    "\n",
    "\n",
    "mat = [[0,1,2,0],[3,4,5,2],[1,3,1,5]]\n",
    "r   = len(mat)\n",
    "c   = len(mat[0])\n",
    "\n",
    "#Output:[[0,0,0,0],[0,4,5,0],[0,3,1,0]]\n",
    "\n",
    "\n",
    "setMatrix(mat, r, c)"
   ]
  },
  {
   "cell_type": "code",
   "execution_count": null,
   "id": "dd9ac6e3",
   "metadata": {},
   "outputs": [],
   "source": []
  },
  {
   "cell_type": "markdown",
   "id": "fae0d99a",
   "metadata": {},
   "source": [
    "ROTATE MATRIX (CLOCKWISE)"
   ]
  },
  {
   "cell_type": "code",
   "execution_count": 25,
   "id": "66d47bda",
   "metadata": {},
   "outputs": [
    {
     "data": {
      "text/plain": [
       "[[7, 4, 1], [8, 5, 2], [9, 6, 3]]"
      ]
     },
     "execution_count": 25,
     "metadata": {},
     "output_type": "execute_result"
    }
   ],
   "source": [
    "def rotateMatrix(mat, r, c):\n",
    "    #transpose the matrix\n",
    "    for i in range(r):\n",
    "        for j in range(i+1,c):\n",
    "            mat[i][j], mat[j][i] = mat[j][i], mat[i][j]\n",
    "            \n",
    "    #reverse the columns\n",
    "    for i in range(r):\n",
    "        low = 0\n",
    "        high = c-1\n",
    "        while low<high:\n",
    "            mat[i][low], mat[i][high] = mat[i][high], mat[i][low]\n",
    "            low += 1\n",
    "            high -= 1\n",
    "            \n",
    "            \n",
    "    return mat\n",
    "    \n",
    "    \n",
    "    \n",
    "    \n",
    "    \n",
    "mat = [[1,2,3],\n",
    "      [4,5,6],\n",
    "      [7,8,9]]\n",
    "\n",
    "r = c = 3\n",
    "\n",
    "rotateMatrix(mat, r, c) #O(r*c) and O(1)"
   ]
  },
  {
   "cell_type": "markdown",
   "id": "d779d90e",
   "metadata": {},
   "source": [
    "# DAY5: LINKED LIST"
   ]
  },
  {
   "cell_type": "markdown",
   "id": "e49676f7",
   "metadata": {},
   "source": [
    "REVERSE A LINKEDLIST"
   ]
  },
  {
   "cell_type": "code",
   "execution_count": 39,
   "id": "7fd33dd8",
   "metadata": {},
   "outputs": [
    {
     "name": "stdout",
     "output_type": "stream",
     "text": [
      "50 40 30 20 10 \n",
      "10 20 30 40 50 \n"
     ]
    }
   ],
   "source": [
    "class Node:\n",
    "    def __init__(self,key):\n",
    "        self.key = key\n",
    "        self.next = None\n",
    "        \n",
    "class linkedList:\n",
    "    def __init__(self):\n",
    "        self.head = None\n",
    "        \n",
    "    def push_node(self,new_data):\n",
    "        new_node = Node(new_data)\n",
    "        new_node.next = self.head\n",
    "        self.head = new_node\n",
    "        \n",
    "    def reverse(self):\n",
    "        curr = self.head\n",
    "        prev = None\n",
    "        while curr:\n",
    "            next = curr.next\n",
    "            curr.next = prev\n",
    "            prev = curr\n",
    "            curr = next\n",
    "        self.head = prev\n",
    "    \n",
    "    def print_List(self):\n",
    "        curr1 = self.head\n",
    "        while curr1:\n",
    "            print(curr1.key,end=\" \")\n",
    "            curr1 = curr1.next   \n",
    "        print()\n",
    "    \n",
    "        \n",
    "\n",
    "    \n",
    "Object = linkedList()\n",
    "Object.push_node(10)\n",
    "Object.push_node(20)\n",
    "Object.push_node(30)\n",
    "Object.push_node(40)\n",
    "Object.push_node(50)\n",
    "\n",
    "#given linked list\n",
    "Object.print_List()\n",
    "\n",
    "#reverse linked list\n",
    "Object.reverse()\n",
    "Object.print_List()\n",
    "\n",
    "    "
   ]
  },
  {
   "cell_type": "markdown",
   "id": "6607a180",
   "metadata": {},
   "source": [
    "MIDDLE OF LINKEDLIST"
   ]
  },
  {
   "cell_type": "code",
   "execution_count": 42,
   "id": "e3d2f24e",
   "metadata": {},
   "outputs": [
    {
     "data": {
      "text/plain": [
       "30"
      ]
     },
     "execution_count": 42,
     "metadata": {},
     "output_type": "execute_result"
    }
   ],
   "source": [
    "class Node:\n",
    "    def __init__(self,key):\n",
    "        self.key = key\n",
    "        self.next = None\n",
    "        \n",
    "class linkedList:\n",
    "    def __init__(self):\n",
    "        self.head = None\n",
    "        \n",
    "    def push_node(self,new_data):\n",
    "        new_node = Node(new_data)\n",
    "        new_node.next = self.head\n",
    "        self.head = new_node\n",
    "        \n",
    "    def middle(self):\n",
    "        \n",
    "        slow = fast = self.head\n",
    "        \n",
    "        while fast and fast.next!=None:\n",
    "            slow = slow.next\n",
    "            fast = fast.next.next\n",
    "        return slow.key\n",
    "    \n",
    "        \n",
    "\n",
    "    \n",
    "Object = linkedList()\n",
    "Object.push_node(10)\n",
    "Object.push_node(20)\n",
    "Object.push_node(30)\n",
    "Object.push_node(40)\n",
    "Object.push_node(50)\n",
    "\n",
    "\n",
    "Object.middle()\n",
    "\n",
    "    "
   ]
  },
  {
   "cell_type": "markdown",
   "id": "c986c6b8",
   "metadata": {},
   "source": [
    "# DAY 17 BINARY TREES"
   ]
  },
  {
   "cell_type": "markdown",
   "id": "22f20a59",
   "metadata": {},
   "source": [
    "INORDER TRAVERSAL"
   ]
  },
  {
   "cell_type": "code",
   "execution_count": 1,
   "id": "373e6c6e",
   "metadata": {},
   "outputs": [
    {
     "data": {
      "text/plain": [
       "[20, 10, 30]"
      ]
     },
     "execution_count": 1,
     "metadata": {},
     "output_type": "execute_result"
    }
   ],
   "source": [
    "class node:\n",
    "    def __init__(self,key):\n",
    "        self.data = key\n",
    "        self.left = None\n",
    "        self.right = None\n",
    "        \n",
    "    \n",
    "    \n",
    "def inorder(root):\n",
    "    \n",
    "    if not root:\n",
    "        return None\n",
    "    \n",
    "    stack  = []\n",
    "    result = []\n",
    "    \n",
    "    while root or stack:\n",
    "        while root:\n",
    "            stack.append(root)\n",
    "            root = root.left\n",
    "        root = stack.pop()\n",
    "        result.append(root.data)\n",
    "        root = root.right\n",
    "    return result\n",
    "    \n",
    "    \n",
    "    \n",
    "root = node(10)\n",
    "root.left = node(20)\n",
    "root.right = node(30)\n",
    "\n",
    "#                   10\n",
    "#               20      30\n",
    "\n",
    "# tree looks like this\n",
    "\n",
    "inorder(root)"
   ]
  },
  {
   "cell_type": "markdown",
   "id": "a296defc",
   "metadata": {},
   "source": [
    "preorder traversal"
   ]
  },
  {
   "cell_type": "code",
   "execution_count": 2,
   "id": "4475100e",
   "metadata": {},
   "outputs": [
    {
     "data": {
      "text/plain": [
       "[30, 20, 5, 15, 10]"
      ]
     },
     "execution_count": 2,
     "metadata": {},
     "output_type": "execute_result"
    }
   ],
   "source": [
    "class node:\n",
    "    def __init__(self,key):\n",
    "        self.data = key\n",
    "        self.left = None\n",
    "        self.right = None\n",
    "        \n",
    "        \n",
    "def preorder(root):\n",
    "    stack = [root]\n",
    "    result= []\n",
    "    \n",
    "    if not root:\n",
    "        return None\n",
    "    \n",
    "    while stack:\n",
    "        node1 = stack.pop()\n",
    "        if node1:\n",
    "            result.append(node1.data)\n",
    "            stack.append(node1.right)\n",
    "            stack.append(node1.left)\n",
    "    return result\n",
    "\n",
    "        \n",
    "root = node(30)\n",
    "root.left = node(20)\n",
    "root.right = node(10)\n",
    "root.left.left = node(5)\n",
    "root.left.right = node(15)\n",
    "\n",
    "#        30\n",
    "#     20    10\n",
    "#   5    15\n",
    "\n",
    "preorder(root)"
   ]
  },
  {
   "cell_type": "markdown",
   "id": "21962b2e",
   "metadata": {},
   "source": [
    "POSTORDER TRAVERSAL"
   ]
  },
  {
   "cell_type": "code",
   "execution_count": 3,
   "id": "2125c07d",
   "metadata": {},
   "outputs": [
    {
     "data": {
      "text/plain": [
       "[20, 30, 10]"
      ]
     },
     "execution_count": 3,
     "metadata": {},
     "output_type": "execute_result"
    }
   ],
   "source": [
    "class Node:\n",
    "    def __init__(self,key):\n",
    "        self.data = key\n",
    "        self.left = None\n",
    "        self.right = None\n",
    "    \n",
    "    \n",
    "def postorder(root):\n",
    "    \n",
    "    stack = [root]\n",
    "    result = []\n",
    "    if not root:\n",
    "        return None\n",
    "    \n",
    "    while stack:\n",
    "        node = stack.pop()\n",
    "        if node:\n",
    "            stack.append(node.left)\n",
    "            stack.append(node.right)\n",
    "            result.append(node.data)\n",
    "    return result[::-1]\n",
    "    \n",
    "    \n",
    "    \n",
    "root = Node(10)\n",
    "root.left = Node(20)\n",
    "root.right = Node(30)\n",
    "\n",
    "#  tree looks like this\n",
    "#            10\n",
    "#         20    30\n",
    "\n",
    "postorder(root)"
   ]
  },
  {
   "cell_type": "markdown",
   "id": "b38a503b",
   "metadata": {},
   "source": [
    "# DAY 18: BINARY TREES 2"
   ]
  },
  {
   "cell_type": "markdown",
   "id": "e917931c",
   "metadata": {},
   "source": [
    "LEVEL ORDER TRAVERSAL IN SPIRAL FORM"
   ]
  },
  {
   "cell_type": "code",
   "execution_count": 4,
   "id": "471e2a7d",
   "metadata": {},
   "outputs": [
    {
     "data": {
      "text/plain": [
       "[[10], [20, 30], [50, 80]]"
      ]
     },
     "execution_count": 4,
     "metadata": {},
     "output_type": "execute_result"
    }
   ],
   "source": [
    "class Node:\n",
    "    def __init__(self,key):\n",
    "        self.data = key\n",
    "        self.left = None\n",
    "        self.right = None\n",
    "        \n",
    "from collections import deque\n",
    "def levelorder(root):\n",
    "    \n",
    "    queue = deque([root])\n",
    "    output = []\n",
    "    \n",
    "    if not root:\n",
    "        return None\n",
    "    \n",
    "    while queue:\n",
    "        level = []\n",
    "        for i in range(len(queue)):\n",
    "            node = queue.popleft()\n",
    "            level.append(node.data)\n",
    "            \n",
    "            if node.left:\n",
    "                queue.append(node.left)\n",
    "            if node.right:\n",
    "                queue.append(node.right)\n",
    "        output.append(level)\n",
    "    return output\n",
    "    \n",
    "    \n",
    "    \n",
    "\n",
    "root = Node(10)\n",
    "root.left = Node(20)\n",
    "root.right = Node(30)\n",
    "root.left.left = Node(50)\n",
    "root.left.right = Node(80)\n",
    "\n",
    "\n",
    "\n",
    "levelorder(root)\n",
    " \n",
    "#              10\n",
    "#           20     30\n",
    "#        50    80"
   ]
  },
  {
   "cell_type": "markdown",
   "id": "23298b7a",
   "metadata": {},
   "source": [
    "HEIGHT OF A BINARY TREE"
   ]
  },
  {
   "cell_type": "code",
   "execution_count": 8,
   "id": "67139a95",
   "metadata": {},
   "outputs": [
    {
     "data": {
      "text/plain": [
       "3"
      ]
     },
     "execution_count": 8,
     "metadata": {},
     "output_type": "execute_result"
    }
   ],
   "source": [
    "class Node:\n",
    "    def __init__(self,key):\n",
    "        self.data = key\n",
    "        self.left = None\n",
    "        self.right = None\n",
    "        \n",
    "from collections import deque\n",
    "def maxDepth(root):\n",
    "    \n",
    "    queue = deque([root])\n",
    "    if not root:\n",
    "        return None\n",
    "    height = 0\n",
    "    while queue: \n",
    "        for i in range(len(queue)):    \n",
    "            node = queue.popleft()\n",
    "            if node.left:\n",
    "                queue.append(node.left)\n",
    "            if node.right:\n",
    "                queue.append(node.right)\n",
    "        height += 1\n",
    "    return height\n",
    "    \n",
    "    \n",
    "    \n",
    "\n",
    "root = Node(10)\n",
    "root.left = Node(20)\n",
    "root.right = Node(30)\n",
    "root.left.left = Node(50)\n",
    "root.left.right = Node(80)\n",
    "\n",
    "\n",
    "\n",
    "maxDepth(root)\n",
    " \n",
    "#              10\n",
    "#           20     30\n",
    "#        50    80\n",
    "\n",
    "\n",
    "\n",
    "#recursive\n",
    "#if root==None:     return None\n",
    "#lh  = root.left\n",
    "#rh = root.right\n",
    "#return 1+max(lh,rh)"
   ]
  },
  {
   "cell_type": "markdown",
   "id": "8522da98",
   "metadata": {},
   "source": [
    "ZIGZAG TRAVERSAL OF A BINARY TREE "
   ]
  },
  {
   "cell_type": "code",
   "execution_count": 11,
   "id": "9b6bab45",
   "metadata": {},
   "outputs": [
    {
     "data": {
      "text/plain": [
       "[[10], [30, 20], [50, 80]]"
      ]
     },
     "execution_count": 11,
     "metadata": {},
     "output_type": "execute_result"
    }
   ],
   "source": [
    "class Node:\n",
    "    def __init__(self,key):\n",
    "        self.data = key\n",
    "        self.left = None\n",
    "        self.right = None\n",
    "        \n",
    "from collections import deque\n",
    "def zigzagTraversal(root):\n",
    "    \n",
    "    queue = deque([root])\n",
    "    output = []\n",
    "    \n",
    "    if not root:\n",
    "        return None\n",
    "    \n",
    "    direction = 1\n",
    "    \n",
    "    while queue:\n",
    "        level = []\n",
    "        for i in range(len(queue)):\n",
    "            node = queue.popleft()\n",
    "            level.append(node.data)\n",
    "            \n",
    "            if node.left:\n",
    "                queue.append(node.left)\n",
    "            if node.right:\n",
    "                queue.append(node.right)\n",
    "        output.append(level[::direction])\n",
    "        direction *= (-1)\n",
    "    return output\n",
    "    \n",
    "    \n",
    "    \n",
    "\n",
    "root = Node(10)\n",
    "root.left = Node(20)\n",
    "root.right = Node(30)\n",
    "root.left.left = Node(50)\n",
    "root.left.right = Node(80)\n",
    "\n",
    "\n",
    "\n",
    "zigzagTraversal(root)\n",
    " \n",
    "#              10\n",
    "#           20     30\n",
    "#        50    80"
   ]
  },
  {
   "cell_type": "markdown",
   "id": "a430dbed",
   "metadata": {},
   "source": [
    "# Day 21. Binary Search Tree _Part 2"
   ]
  },
  {
   "cell_type": "markdown",
   "id": "2f15502f",
   "metadata": {},
   "source": [
    "FLOOR IN BST TREE"
   ]
  },
  {
   "cell_type": "code",
   "execution_count": 25,
   "id": "fd2803c0",
   "metadata": {},
   "outputs": [
    {
     "data": {
      "text/plain": [
       "11"
      ]
     },
     "execution_count": 25,
     "metadata": {},
     "output_type": "execute_result"
    }
   ],
   "source": [
    "class Node:\n",
    "    def __init__(self,key):\n",
    "        self.data = key\n",
    "        self.left = None\n",
    "        self.right = None\n",
    "        \n",
    "def floor_in_BST(root, target):\n",
    "    \n",
    "    res = -1\n",
    "    while root:\n",
    "        if root.data == target:\n",
    "            return root.data\n",
    "        elif root.data > target:\n",
    "            root = root.left\n",
    "        else:\n",
    "            res = root.data\n",
    "            root = root.left\n",
    "    return res\n",
    "\n",
    "        \n",
    "        \n",
    "root = Node(16)\n",
    "root.left = Node(12)\n",
    "root.left.left = Node(11)\n",
    "root.left.right = Node(13)\n",
    "\n",
    "root.right = Node(18)\n",
    "root.right.left = Node(17)\n",
    "root.right.right = Node(19)\n",
    "\n",
    "target = 15\n",
    "\n",
    "floor_in_BST(root, target)\n",
    "\n",
    "\n",
    "#             16\n",
    "#        12      18\n",
    "#     11   13  17  19"
   ]
  },
  {
   "cell_type": "markdown",
   "id": "5eb1ee8f",
   "metadata": {},
   "source": [
    "ceil in BST"
   ]
  },
  {
   "cell_type": "code",
   "execution_count": 26,
   "id": "bb3fe163",
   "metadata": {},
   "outputs": [
    {
     "data": {
      "text/plain": [
       "16"
      ]
     },
     "execution_count": 26,
     "metadata": {},
     "output_type": "execute_result"
    }
   ],
   "source": [
    "class Node:\n",
    "    def __init__(self,key):\n",
    "        self.data = key\n",
    "        self.left = None\n",
    "        self.right = None\n",
    "        \n",
    "def ceil_in_BST(root, target):\n",
    "    res = -1\n",
    "    \n",
    "    while root:\n",
    "        if root.data == target:\n",
    "            return root.data\n",
    "        elif root.data < target:\n",
    "            root =  root.right\n",
    "        else:\n",
    "            res = root.data\n",
    "            root = root.left\n",
    "    return res\n",
    "    \n",
    "    \n",
    "\n",
    "        \n",
    "        \n",
    "root = Node(16)\n",
    "root.left = Node(12)\n",
    "root.left.left = Node(11)\n",
    "root.left.right = Node(13)\n",
    "\n",
    "root.right = Node(18)\n",
    "root.right.left = Node(17)\n",
    "root.right.right = Node(19)\n",
    "\n",
    "target = 15\n",
    "\n",
    "ceil_in_BST(root, target)\n",
    "\n",
    "\n",
    "#             16\n",
    "#        12      18\n",
    "#     11   13  17  19"
   ]
  },
  {
   "cell_type": "markdown",
   "id": "0322d91b",
   "metadata": {},
   "source": [
    "KTH SMALLEST ELEMENT IN THE TREE"
   ]
  },
  {
   "cell_type": "code",
   "execution_count": 16,
   "id": "d549c9e9",
   "metadata": {},
   "outputs": [
    {
     "data": {
      "text/plain": [
       "13"
      ]
     },
     "execution_count": 16,
     "metadata": {},
     "output_type": "execute_result"
    }
   ],
   "source": [
    "class Node:\n",
    "    def __init__(self,key):\n",
    "        self.data = key\n",
    "        self.left = None\n",
    "        self.right = None\n",
    "        \n",
    "def kth_smallest_element(root, k):\n",
    "    \n",
    "    stack = []\n",
    "    stack.append(root)\n",
    "    \n",
    "    while stack or root:\n",
    "        while root:\n",
    "            stack.append(root)\n",
    "            root = root.left\n",
    "        root = stack.pop()\n",
    "        k -= 1\n",
    "        if not k:\n",
    "            return root.data\n",
    "        root = root.right\n",
    "    return -1\n",
    "\n",
    "        \n",
    "        \n",
    "root = Node(16)\n",
    "root.left = Node(12)\n",
    "root.left.left = Node(11)\n",
    "root.left.right = Node(13)\n",
    "\n",
    "root.right = Node(18)\n",
    "root.right.left = Node(17)\n",
    "root.right.right = Node(19)\n",
    "\n",
    "k = 3\n",
    "\n",
    "kth_smallest_element(root, k)\n",
    "\n",
    "\n",
    "#             16\n",
    "#        12      18\n",
    "#     11   13  17  19"
   ]
  },
  {
   "cell_type": "markdown",
   "id": "3eacf7f0",
   "metadata": {},
   "source": [
    "KTH LARGEST ELEMENT IN THE TREE"
   ]
  },
  {
   "cell_type": "code",
   "execution_count": 19,
   "id": "2af2aa3f",
   "metadata": {},
   "outputs": [
    {
     "data": {
      "text/plain": [
       "13"
      ]
     },
     "execution_count": 19,
     "metadata": {},
     "output_type": "execute_result"
    }
   ],
   "source": [
    "class Node:\n",
    "    def __init__(self,key):\n",
    "        self.data = key\n",
    "        self.left = None\n",
    "        self.right = None\n",
    "        \n",
    "def kth_largest_element(root, k):\n",
    "    stack = []\n",
    "    stack.append(root)\n",
    "    \n",
    "    while stack or root:\n",
    "        while root:\n",
    "            stack.append(root)\n",
    "            root = root.right\n",
    "        root = stack.pop()\n",
    "        k -= 1\n",
    "        if not k:\n",
    "            return root.data\n",
    "        root = root.left\n",
    "        \n",
    "        \n",
    "root = Node(16)\n",
    "root.left = Node(12)\n",
    "root.left.left = Node(11)\n",
    "root.left.right = Node(13)\n",
    "\n",
    "root.right = Node(18)\n",
    "root.right.left = Node(17)\n",
    "root.right.right = Node(19)\n",
    "\n",
    "k = 5\n",
    "\n",
    "kth_largest_element(root, k)\n",
    "\n",
    "\n",
    "#             16\n",
    "#        12      18\n",
    "#     11   13  17  19"
   ]
  },
  {
   "cell_type": "code",
   "execution_count": null,
   "id": "fb227cc7",
   "metadata": {},
   "outputs": [],
   "source": []
  },
  {
   "cell_type": "markdown",
   "id": "4e4c0149",
   "metadata": {},
   "source": [
    "# Day 23. Graphs"
   ]
  },
  {
   "cell_type": "markdown",
   "id": "18e969bb",
   "metadata": {},
   "source": [
    "BFS"
   ]
  },
  {
   "cell_type": "code",
   "execution_count": null,
   "id": "dc46a712",
   "metadata": {},
   "outputs": [],
   "source": []
  },
  {
   "cell_type": "code",
   "execution_count": null,
   "id": "93580321",
   "metadata": {},
   "outputs": [],
   "source": []
  },
  {
   "cell_type": "code",
   "execution_count": null,
   "id": "db939a48",
   "metadata": {},
   "outputs": [],
   "source": []
  }
 ],
 "metadata": {
  "kernelspec": {
   "display_name": "Python 3 (ipykernel)",
   "language": "python",
   "name": "python3"
  },
  "language_info": {
   "codemirror_mode": {
    "name": "ipython",
    "version": 3
   },
   "file_extension": ".py",
   "mimetype": "text/x-python",
   "name": "python",
   "nbconvert_exporter": "python",
   "pygments_lexer": "ipython3",
   "version": "3.9.12"
  }
 },
 "nbformat": 4,
 "nbformat_minor": 5
}
