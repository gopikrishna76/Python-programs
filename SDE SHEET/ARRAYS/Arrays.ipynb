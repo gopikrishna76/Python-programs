{
 "cells": [
  {
   "cell_type": "markdown",
   "id": "d498c623",
   "metadata": {},
   "source": [
    "Two sum of an array"
   ]
  },
  {
   "cell_type": "code",
   "execution_count": 1,
   "id": "8ebd0d93",
   "metadata": {},
   "outputs": [],
   "source": [
    "#check if given array is sorted or not \n",
    "#if s0rted  the use two pointer approach O(n) and O(1).\n"
   ]
  },
  {
   "cell_type": "code",
   "execution_count": 2,
   "id": "8139b347",
   "metadata": {},
   "outputs": [
    {
     "data": {
      "text/plain": [
       "[2, 1]"
      ]
     },
     "execution_count": 2,
     "metadata": {},
     "output_type": "execute_result"
    }
   ],
   "source": [
    "#if not sorted , then run two loops O(n*n) and O(1)\n",
    "\n",
    "#optimal for when array is not sorted  \n",
    "\n",
    "def twosum(arr,n,target):  # O(N) and O(N)\n",
    "    hashmap = {}\n",
    "    for i in range(n):\n",
    "        complement = target - arr[i]\n",
    "        if complement in hashmap:\n",
    "            return [i,hashmap[complement]]\n",
    "        hashmap[arr[i]] = i\n",
    "        \n",
    "arr = [4,3,2,5,6,1]\n",
    "n = len(arr)\n",
    "target = 5\n",
    "        \n",
    "twosum(arr,n,target)"
   ]
  },
  {
   "cell_type": "markdown",
   "id": "fa066614",
   "metadata": {},
   "source": [
    "Trapping Rain Water"
   ]
  },
  {
   "cell_type": "code",
   "execution_count": 3,
   "id": "22d4b469",
   "metadata": {},
   "outputs": [
    {
     "data": {
      "text/plain": [
       "1"
      ]
     },
     "execution_count": 3,
     "metadata": {},
     "output_type": "execute_result"
    }
   ],
   "source": [
    "def trapping_rain_water(arr,n):  #O(n) and O(n) another optimal solution is there for this problem\n",
    "    left = [0]*n\n",
    "    right = [0]*n\n",
    "    \n",
    "    left[0] = arr[0]\n",
    "    for i in range(1,n):\n",
    "        left[i] = max(left[i-1],arr[i])\n",
    "    \n",
    "    right[n-1] = arr[n-1]\n",
    "    for i in range(n-2,-1,-1):\n",
    "        right[i] = max(right[i+1],arr[i])\n",
    "        \n",
    "    water = 0\n",
    "    for i in range(n):\n",
    "        water += min(left[i],right[i])-arr[i]\n",
    "    return water\n",
    "\n",
    "arr = [3,2,3]\n",
    "n = len(arr)\n",
    "\n",
    "trapping_rain_water(arr,n)"
   ]
  },
  {
   "cell_type": "markdown",
   "id": "6b6299eb",
   "metadata": {},
   "source": [
    "Max consecutive ones"
   ]
  },
  {
   "cell_type": "code",
   "execution_count": 4,
   "id": "c242f42c",
   "metadata": {},
   "outputs": [
    {
     "data": {
      "text/plain": [
       "4"
      ]
     },
     "execution_count": 4,
     "metadata": {},
     "output_type": "execute_result"
    }
   ],
   "source": [
    "def maxconsecutive_ones(arr,n): #given array is not sorted  #O(n) and O(1)\n",
    "    count = 0\n",
    "    ans = 0\n",
    "    for i in range(n):\n",
    "        if arr[i] ==1:\n",
    "            count += 1\n",
    "        else:\n",
    "            count -= 1\n",
    "        ans = max(ans,count)\n",
    "    return ans\n",
    "\n",
    "arr = [0,1,0,1,1,1,0,0,1,1,1,1]\n",
    "n = len(arr)\n",
    "\n",
    "maxconsecutive_ones(arr,n)  \n",
    "#if given array is sorted then find the first index of one(1) and then return length of array - First index  \n",
    "#sorted array O(n) and O(1) .But still we can reduce to O(logn) and O(1). \n",
    "              "
   ]
  },
  {
   "cell_type": "markdown",
   "id": "a7cb374d",
   "metadata": {},
   "source": [
    "Remove duplicates from sorted array"
   ]
  },
  {
   "cell_type": "code",
   "execution_count": 5,
   "id": "97f32437",
   "metadata": {},
   "outputs": [
    {
     "data": {
      "text/plain": [
       "5"
      ]
     },
     "execution_count": 5,
     "metadata": {},
     "output_type": "execute_result"
    }
   ],
   "source": [
    "def remove_duplicates(arr,n): #given array is sorted O(n) and O(1)\n",
    "    i = 0\n",
    "    for j in range(1,n):\n",
    "        if arr[i]!=arr[j]:\n",
    "            i += 1\n",
    "            arr[i] = arr[j]\n",
    "    return i+1  #length of unique elements\n",
    "    \n",
    "\n",
    "arr = [1,1,2,2,2,3,3,4,4,5]\n",
    "n = len(arr)\n",
    "\n",
    "\n",
    "remove_duplicates(arr,n)  "
   ]
  },
  {
   "cell_type": "markdown",
   "id": "354e1f1d",
   "metadata": {},
   "source": [
    "Sort the Colors/Sort 0,1,2"
   ]
  },
  {
   "cell_type": "code",
   "execution_count": 6,
   "id": "8dc3345b",
   "metadata": {},
   "outputs": [
    {
     "data": {
      "text/plain": [
       "[0, 0, 1, 1, 1, 2, 2]"
      ]
     },
     "execution_count": 6,
     "metadata": {},
     "output_type": "execute_result"
    }
   ],
   "source": [
    "def sort_colors(arr,n):\n",
    "    count1 = count2 = count3 = 0\n",
    "    for i in range(n):\n",
    "        if arr[i] == 0:\n",
    "            count1 += 1\n",
    "        elif arr[i] == 1:\n",
    "            count2 += 1\n",
    "        else:\n",
    "            count3 += 1\n",
    "    for i in range(n):\n",
    "        if count1 > 0:\n",
    "            arr[i] = 0\n",
    "            count1 -= 1\n",
    "        elif count2 > 0:\n",
    "            arr[i] = 1\n",
    "            count2 -= 1\n",
    "        else:\n",
    "            arr[i] = 2\n",
    "            count3 -= 1\n",
    "    return arr\n",
    "\n",
    "arr = [2,2,1,1,0,0,1]\n",
    "n = len(arr)\n",
    "\n",
    "sort_colors(arr,n) #O(n) and O(1) not used any extra space "
   ]
  },
  {
   "cell_type": "markdown",
   "id": "2301f73e",
   "metadata": {},
   "source": [
    "Kandanes Algorithm"
   ]
  },
  {
   "cell_type": "code",
   "execution_count": 7,
   "id": "e2af3442",
   "metadata": {},
   "outputs": [
    {
     "data": {
      "text/plain": [
       "6"
      ]
     },
     "execution_count": 7,
     "metadata": {},
     "output_type": "execute_result"
    }
   ],
   "source": [
    "def kandane_algorithm(arr,n):  # O(n) and O(1)\n",
    "    maxi = res = arr[0]\n",
    "    for i in range(1,n):\n",
    "        maxi = max(maxi+arr[i],arr[i])\n",
    "        res = max(res,maxi)\n",
    "    return res\n",
    "\n",
    "arr = [-2,1,-3,4,-1,2,1,-5,4] \n",
    "n = len(arr)\n",
    "\n",
    "kandane_algorithm(arr,n)"
   ]
  },
  {
   "cell_type": "markdown",
   "id": "2e697b2d",
   "metadata": {},
   "source": [
    "Matrix 90 clockwise"
   ]
  },
  {
   "cell_type": "code",
   "execution_count": 8,
   "id": "da3c16ef",
   "metadata": {},
   "outputs": [
    {
     "data": {
      "text/plain": [
       "[[7, 4, 1], [8, 5, 2], [9, 6, 3]]"
      ]
     },
     "execution_count": 8,
     "metadata": {},
     "output_type": "execute_result"
    }
   ],
   "source": [
    "def clockwise_matrix(matrix,r,c): \n",
    "    #tranpose the matrix \n",
    "    #then reversing the scheduled rows\n",
    "    for i in range(r):\n",
    "        for j in range(i+1,c):\n",
    "            matrix[i][j],matrix[j][i] = matrix[j][i],matrix[i][j]\n",
    "    \n",
    "    for i in range(r):\n",
    "        low = 0\n",
    "        high = c-1\n",
    "        while low<high:\n",
    "            matrix[i][low],matrix[i][high] = matrix[i][high],matrix[i][low]\n",
    "            low += 1\n",
    "            high -= 1\n",
    "    return matrix\n",
    "\n",
    "matrix = [[1,2,3],\n",
    "         [4,5,6],\n",
    "         [7,8,9]]\n",
    "r = len(matrix)\n",
    "c = len(matrix[0])\n",
    "\n",
    "clockwise_matrix(matrix,r,c)"
   ]
  },
  {
   "cell_type": "markdown",
   "id": "4f43d6e0",
   "metadata": {},
   "source": [
    "Search in a 2D Matrix"
   ]
  },
  {
   "cell_type": "code",
   "execution_count": 9,
   "id": "ea2fd67f",
   "metadata": {},
   "outputs": [
    {
     "data": {
      "text/plain": [
       "'Element found in the matrix'"
      ]
     },
     "execution_count": 9,
     "metadata": {},
     "output_type": "execute_result"
    }
   ],
   "source": [
    "#run two loops if value found return 1 and if element not found return -1\n",
    "# O(rows*columns) and O(1)\n",
    "\n",
    "\n",
    "def search_in_matrix(matrix,r,c,key):  # O(r+c) and O(1)\n",
    "    row = r\n",
    "    col = c\n",
    "    i = 0\n",
    "    j = c-1\n",
    "    while i<row and col>=0:\n",
    "        if matrix[i][j] == key:\n",
    "            return \"Element found in the matrix\"\n",
    "        elif matrix[i][j] > key:\n",
    "            j -= 1\n",
    "        else:\n",
    "            i += 1\n",
    "    return \"Element not found in the matrix\"\n",
    "\n",
    "matrix = [[1,2,3],\n",
    "         [1,5,6],\n",
    "         [1,8,9]]\n",
    "r = 3\n",
    "c = 3\n",
    "key = 8\n",
    "\n",
    "search_in_matrix(matrix,r,c,key)\n",
    "\n",
    "\n",
    "\n",
    "#what if the conditon was first row of each integer is greater than previous last element in the row"
   ]
  },
  {
   "cell_type": "code",
   "execution_count": 10,
   "id": "dde62bb8",
   "metadata": {},
   "outputs": [
    {
     "data": {
      "text/plain": [
       "'Element not found in the matrix'"
      ]
     },
     "execution_count": 10,
     "metadata": {},
     "output_type": "execute_result"
    }
   ],
   "source": [
    "def search_in_matrixII(matrix,r,c,key):  # Olog(r*c) and O(1)\n",
    "    row = r\n",
    "    col = c\n",
    "    i = 0\n",
    "    j = (r*c)-1\n",
    "    while i<=j:\n",
    "        mid = (i+j)//2\n",
    "        if matrix[mid//col][mid%col] == key:\n",
    "            return \"Element found in the matrix\"\n",
    "        elif matrix[mid//col][mid%col] > key:\n",
    "            j -= 1\n",
    "        else:\n",
    "            i += 1\n",
    "    return \"Element not found in the matrix\"\n",
    "\n",
    "matrix = [[1,2,3],\n",
    "         [4,5,6],\n",
    "         [7,8,9]]\n",
    "r = 3\n",
    "c = 3\n",
    "key = 81\n",
    "\n",
    "search_in_matrixII(matrix,r,c,key)\n"
   ]
  },
  {
   "cell_type": "markdown",
   "id": "bd5692bd",
   "metadata": {},
   "source": [
    "Majority element (N//2 times)"
   ]
  },
  {
   "cell_type": "code",
   "execution_count": 11,
   "id": "23a89550",
   "metadata": {},
   "outputs": [
    {
     "data": {
      "text/plain": [
       "2"
      ]
     },
     "execution_count": 11,
     "metadata": {},
     "output_type": "execute_result"
    }
   ],
   "source": [
    "def majorityelement(arr,n):  # O(n) and O(1)\n",
    "    count = 0 \n",
    "    candidate = 0\n",
    "    for x in arr:\n",
    "        if count==0:\n",
    "            candidate = x\n",
    "        elif x==candidate:\n",
    "            count += 1\n",
    "        else:\n",
    "            count -= 1\n",
    "    return candidate\n",
    "\n",
    "arr = [2,2,1,1,1,2,2]\n",
    "n = len(arr)\n",
    "\n",
    "majorityelement(arr,n)"
   ]
  },
  {
   "cell_type": "markdown",
   "id": "6d001f3b",
   "metadata": {},
   "source": [
    "Find the duplicate in an array (*not sorted)"
   ]
  },
  {
   "cell_type": "code",
   "execution_count": 12,
   "id": "bf24ac3e",
   "metadata": {},
   "outputs": [
    {
     "data": {
      "text/plain": [
       "3"
      ]
     },
     "execution_count": 12,
     "metadata": {},
     "output_type": "execute_result"
    }
   ],
   "source": [
    "#Sort the array and then check current element with previous element  # O(Nlogn)+O(n) and O(1) \n",
    "#if duplicate element found then return ith element\n",
    "\n",
    "#optimal\n",
    "def duplicate_element(arr,n):   # O(n) and O(1)\n",
    "    for i in arr:\n",
    "        curr = abs(i)\n",
    "        if arr[curr] < 0:\n",
    "            duplicate = curr\n",
    "            break\n",
    "        arr[curr] = -arr[curr]\n",
    "        \n",
    "    #restore numbers\n",
    "    for i in range(n):\n",
    "        arr[i] = abs(arr[i])\n",
    "    return duplicate\n",
    "\n",
    "arr = [2,1,3,4,5,3]\n",
    "n = len(arr)\n",
    "\n",
    "duplicate_element(arr,n)"
   ]
  },
  {
   "cell_type": "markdown",
   "id": "168f91c4",
   "metadata": {},
   "source": [
    "Repeating and Missing number in an array"
   ]
  },
  {
   "cell_type": "code",
   "execution_count": 13,
   "id": "215ae0c3",
   "metadata": {},
   "outputs": [
    {
     "data": {
      "text/plain": [
       "[3, 4]"
      ]
     },
     "execution_count": 13,
     "metadata": {},
     "output_type": "execute_result"
    }
   ],
   "source": [
    "#Sum of elements n*(n+1)//2\n",
    "#Sum of squares  (n*(n+1)*(((2*n)+1)//2)) //6\n",
    "\n",
    "def repeating_and_missing(arr,n): #array is not sorted  # O(n) and O(1)\n",
    "    \n",
    "    S = n*(n+1)//2\n",
    "    P = (n*(n+1)*((2*n)+1)) //6\n",
    "    \n",
    "    for i in range(n):\n",
    "        S -= arr[i]\n",
    "        P -= (arr[i]*arr[i])\n",
    "        \n",
    "    missing_number = (S+(P//S))//2\n",
    "    repeating_number = missing_number - S\n",
    "    return [repeating_number,missing_number]\n",
    "\n",
    "arr = [3,1,2,5,3]\n",
    "n = len(arr)\n",
    "\n",
    "repeating_and_missing(arr,n)"
   ]
  },
  {
   "cell_type": "markdown",
   "id": "3602e8b8",
   "metadata": {},
   "source": [
    "Majority element (N//3 times)\n"
   ]
  },
  {
   "cell_type": "raw",
   "id": "c4dc1081",
   "metadata": {},
   "source": [
    "'''\n",
    "def majorityElementII(arr): #O(n) and O(n)\n",
    "\t# Write your code here.\n",
    "    n =len(arr)\n",
    "    k =(n//3)\n",
    "    d =dict()\n",
    "    a =[]\n",
    "    for i in arr:\n",
    "        if i in d:\n",
    "            d[i]+=1\n",
    "        else:\n",
    "            d[i] = 1\n",
    "    for i in arr:\n",
    "        if d[i]>k and i not in a:\n",
    "            a.append(i)\n",
    "    return a\n",
    "    '''"
   ]
  },
  {
   "cell_type": "code",
   "execution_count": 14,
   "id": "77abfa82",
   "metadata": {},
   "outputs": [
    {
     "data": {
      "text/plain": [
       "[11, 33]"
      ]
     },
     "execution_count": 14,
     "metadata": {},
     "output_type": "execute_result"
    }
   ],
   "source": [
    "#optimal  *array is not sorted\n",
    "def majority(arr,n):\n",
    "    k = (n//3)\n",
    "    count1 = count2 = 0\n",
    "    num1 = num2 = -1\n",
    "    \n",
    "    for i in range(n):\n",
    "        if arr[i] == num1:\n",
    "            count1 += 1\n",
    "        elif arr[i] == num2:\n",
    "            count2 += 1\n",
    "        elif count1 ==0:\n",
    "            num1 = arr[i]\n",
    "            count1 = 1\n",
    "        else:\n",
    "            num2 = arr[i]\n",
    "            count2 = 1\n",
    "            \n",
    "    count1 = count2 = 0\n",
    "    for i in range(n):\n",
    "        if arr[i]==num1:\n",
    "            count1 += 1\n",
    "        elif arr[i] ==num2:\n",
    "            count2 += 1\n",
    "            \n",
    "    res = []\n",
    "    if count1 > k:\n",
    "        res.append(num1)\n",
    "    if count2 > k:\n",
    "        res.append(num2)\n",
    "    return res\n",
    "        \n",
    "arr  = [11,33,33,11,33,11]  \n",
    "n = len(arr)\n",
    "        \n",
    "majority(arr,n)  # O(n) and O(1)"
   ]
  },
  {
   "cell_type": "markdown",
   "id": "6cc343f2",
   "metadata": {},
   "source": [
    "Power(x,n) or x**n"
   ]
  },
  {
   "cell_type": "code",
   "execution_count": 15,
   "id": "96775137",
   "metadata": {},
   "outputs": [
    {
     "data": {
      "text/plain": [
       "1024.0"
      ]
     },
     "execution_count": 15,
     "metadata": {},
     "output_type": "execute_result"
    }
   ],
   "source": [
    "#keep ans =1.0 then run loop from 0 to n-1:\n",
    "# ans *= x\n",
    "#return ans \n",
    "# if it is negative then return (1//ans)\n",
    "# O(n) and O(1)\n",
    "\n",
    "class Solution():  # O(logn) and O(1)\n",
    "    def myPow(self, x, n):\n",
    "        \"\"\"\n",
    "        :type x: float\n",
    "        :type n: int\n",
    "        :rtype: float\n",
    "        \"\"\"\n",
    "        ans = 1.0\n",
    "        nn = n\n",
    "        if nn<0:\n",
    "            nn = -1*nn\n",
    "        while nn>0:\n",
    "            if nn%2==1:\n",
    "                ans = ans*x\n",
    "                nn = nn-1\n",
    "            else:\n",
    "                x = x*x\n",
    "                nn =nn/2\n",
    "        if n<0: #incase if n is negative\n",
    "            return 1.0/ans\n",
    "        else:\n",
    "            return ans\n",
    "        \n",
    "x = 2.00000\n",
    "n = 10\n",
    "\n",
    "obj = Solution()\n",
    "obj.myPow(x,n)"
   ]
  },
  {
   "cell_type": "markdown",
   "id": "2a2b14a7",
   "metadata": {},
   "source": [
    "Set matrix Zeros"
   ]
  },
  {
   "cell_type": "code",
   "execution_count": 16,
   "id": "1db3d949",
   "metadata": {},
   "outputs": [
    {
     "data": {
      "text/plain": [
       "[[0, 0, 0, 0], [0, 4, 5, 0], [0, 3, 1, 0]]"
      ]
     },
     "execution_count": 16,
     "metadata": {},
     "output_type": "execute_result"
    }
   ],
   "source": [
    "#take two sets row and col \n",
    "#run two loops whenever matrix[i][j]==0 then add  i to row set and j to column set\n",
    "#then run again run two loops \n",
    "#if i in row or j in col:\n",
    "#keep matrix[i][j] = 0\n",
    "#then return the matrix\n",
    "           ################Complexity O(m*n) and O(n) #####################\n",
    "    \n",
    "def set_matrix(matrix,r,c):\n",
    "    col0 = 1\n",
    "    \n",
    "    for i in range(r):\n",
    "        if matrix[i][0]==0:  #checking if 0 is present in the 0th column or not\n",
    "            col0 = 0  \n",
    "        for j in range(1,c):\n",
    "            if matrix[i][j] == 0:\n",
    "                matrix[i][0] = matrix[0][j] = 0\n",
    "                \n",
    "# traversing in the reverse direction and checking if the row or col has 0 or not and setting values of matrix accordingly.\n",
    "    for i in range(r-1,-1,-1):\n",
    "        for j in range(c-1,0,-1):\n",
    "            if matrix[i][0]==0 or matrix[0][j]==0:\n",
    "                matrix[i][j] = 0\n",
    "        if col0 == 0:\n",
    "            matrix[i][0] = 0\n",
    "    return matrix\n",
    "\n",
    "matrix = [[0, 1, 2, 0],\n",
    "          [3, 4, 5, 2],\n",
    "          [1, 3, 1, 5]]\n",
    "\n",
    "r = len(matrix)\n",
    "c = len(matrix[0])\n",
    "\n",
    "set_matrix(matrix,r,c)  # O(m*n) and O"
   ]
  },
  {
   "cell_type": "markdown",
   "id": "44fa204d",
   "metadata": {},
   "source": [
    "**Merge Two Sorted arrays**"
   ]
  },
  {
   "cell_type": "code",
   "execution_count": 17,
   "id": "aa50be0c",
   "metadata": {},
   "outputs": [
    {
     "data": {
      "text/plain": [
       "[[1, 2, 3, 4, 5], [6, 79, 81, 89]]"
      ]
     },
     "execution_count": 17,
     "metadata": {},
     "output_type": "execute_result"
    }
   ],
   "source": [
    "import math\n",
    "def mergetwo_sorted_arrays(arr1,n,arr2,m):   #array is sorted \n",
    "    \n",
    "    gap = math.ceil(float((n+m)/2))\n",
    "    while (gap > 0):\n",
    "        i = 0\n",
    "        j = gap\n",
    "        while j<(n+m):\n",
    "            if j<n and arr1[i] > arr1[j]:\n",
    "                arr1[i],arr1[j] = arr1[j],arr1[i]\n",
    "            elif j>=n and i<n and arr1[i] > arr2[j-n]:\n",
    "                arr1[i],arr2[j-n] = arr2[j-n],arr1[i]\n",
    "            elif j>=n and i>=n and arr2[i-n] > arr2[j-n]:\n",
    "                arr2[i-n],arr2[j-n] = arr2[j-n],arr2[i-n]\n",
    "            i += 1\n",
    "            j += 1\n",
    "        if gap == 1:\n",
    "            gap = 0\n",
    "        else:\n",
    "            gap = math.ceil(float(gap/2))\n",
    "            \n",
    "    return [arr1,arr2]\n",
    "\n",
    "arr1 = [1,2,4,6,89]\n",
    "n = len(arr1)\n",
    "arr2 = [3,5,79,81]\n",
    "m = len(arr2)\n",
    "\n",
    "mergetwo_sorted_arrays(arr1,n,arr2,m)  #O(n+m) and O(1) not used any extra space\n",
    "\n",
    "#we can solve this problem in another way also \n",
    "#take an dummy array and compare the both values like merge sort \n",
    "#complextiy will be  O(Nlogn) >> mergeSort and O(n) for space\n",
    "             "
   ]
  },
  {
   "cell_type": "markdown",
   "id": "1862222d",
   "metadata": {},
   "source": [
    "**Grid Unique paths**"
   ]
  },
  {
   "cell_type": "code",
   "execution_count": 18,
   "id": "7932b555",
   "metadata": {},
   "outputs": [
    {
     "data": {
      "text/plain": [
       "3"
      ]
     },
     "execution_count": 18,
     "metadata": {},
     "output_type": "execute_result"
    }
   ],
   "source": [
    "#optimal O(n) and O(1)\n",
    "\n",
    "def grid_unique_paths(n,m):\n",
    "    path = 1\n",
    "    \n",
    "    for i in range(n,m+n-1):\n",
    "        path *= i\n",
    "        path //= (i-n+1)\n",
    "    return path\n",
    "\n",
    "n = 3 #rows\n",
    "m = 2 #columns\n",
    "\n",
    "grid_unique_paths(n,m)\n",
    "#You can solve this problem using dp also but complexity is not efficient O(n*m) and O(n*m)\n"
   ]
  },
  {
   "cell_type": "markdown",
   "id": "1ddc997a",
   "metadata": {},
   "source": [
    "**Longest Consecutive Sequence in an Array**"
   ]
  },
  {
   "cell_type": "code",
   "execution_count": 20,
   "id": "ed2190e5",
   "metadata": {},
   "outputs": [
    {
     "data": {
      "text/plain": [
       "6"
      ]
     },
     "execution_count": 20,
     "metadata": {},
     "output_type": "execute_result"
    }
   ],
   "source": [
    "#Given array is not sorted\n",
    "\n",
    "def longest_consecutive_subsequence(arr,n):\n",
    "    set_li = set()\n",
    "    for i in arr:\n",
    "        set_li.add(i)\n",
    "    ans = 0\n",
    "    streak = 1\n",
    "    for i in arr:\n",
    "        if (i-1) not in set_li:\n",
    "            current = i\n",
    "            streak = 1\n",
    "            while (current+1) in set_li:\n",
    "                current += 1\n",
    "                streak += 1\n",
    "        ans = max(ans,streak)\n",
    "    return ans\n",
    "\n",
    "arr = [5,100,2,200,1,3,4,6]\n",
    "n = len(arr)\n",
    "\n",
    "longest_consecutive_subsequence(arr,n)  # O(n) and O(1)\n",
    "            "
   ]
  },
  {
   "cell_type": "code",
   "execution_count": null,
   "id": "ebf3c40e",
   "metadata": {},
   "outputs": [],
   "source": []
  }
 ],
 "metadata": {
  "kernelspec": {
   "display_name": "Python 3 (ipykernel)",
   "language": "python",
   "name": "python3"
  },
  "language_info": {
   "codemirror_mode": {
    "name": "ipython",
    "version": 3
   },
   "file_extension": ".py",
   "mimetype": "text/x-python",
   "name": "python",
   "nbconvert_exporter": "python",
   "pygments_lexer": "ipython3",
   "version": "3.9.12"
  }
 },
 "nbformat": 4,
 "nbformat_minor": 5
}
