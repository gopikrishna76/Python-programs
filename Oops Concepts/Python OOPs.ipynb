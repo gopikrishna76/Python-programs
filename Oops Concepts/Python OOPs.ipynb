{
 "cells": [
  {
   "cell_type": "markdown",
   "id": "c75132e3",
   "metadata": {},
   "source": [
    "# Main Concepts of Object-Oriented Programming (OOPs) \n",
    "\n",
    "\n",
    "Polymorphism\n",
    "\n",
    "Encapsulation\n",
    "\n",
    "Inheritance\n",
    "\n",
    "Data Abstraction"
   ]
  },
  {
   "cell_type": "markdown",
   "id": "01593dbd",
   "metadata": {},
   "source": [
    "these are the four pillars of oops concepts"
   ]
  },
  {
   "cell_type": "code",
   "execution_count": 2,
   "id": "6afe54ac",
   "metadata": {},
   "outputs": [
    {
     "name": "stdout",
     "output_type": "stream",
     "text": [
      "Rodger is a mammal\n",
      "Tommy is also a mammal\n",
      "My name is Rodger\n",
      "My name is Tommy\n"
     ]
    }
   ],
   "source": [
    "class Dog: #class name\n",
    "\t# class attribute\n",
    "\tattr1 = \"mammal\"\n",
    "\n",
    "\t# Instance attribute\n",
    "\tdef __init__(self, name):\n",
    "\t\tself.name = name\n",
    "\n",
    "\n",
    "# Object instantiation\n",
    "Rodger = Dog(\"Rodger\")\n",
    "Tommy = Dog(\"Tommy\")\n",
    "\n",
    "# Accessing class attributes\n",
    "print(\"Rodger is a {}\".format(Rodger.__class__.attr1))\n",
    "print(\"Tommy is also a {}\".format(Tommy.__class__.attr1))\n",
    "\n",
    "# Accessing instance attributes\n",
    "print(\"My name is {}\".format(Rodger.name))\n",
    "print(\"My name is {}\".format(Tommy.name))\n",
    "\n"
   ]
  },
  {
   "cell_type": "code",
   "execution_count": 3,
   "id": "6a3816f9",
   "metadata": {},
   "outputs": [
    {
     "name": "stdout",
     "output_type": "stream",
     "text": [
      "My name is Rodger\n",
      "My name is Tommy\n"
     ]
    }
   ],
   "source": [
    " #Creating Class and objects with methods\n",
    "\n",
    "class Dog:\n",
    " \n",
    "    # class attribute\n",
    "    attr1 = \"mammal\"\n",
    " \n",
    "    # Instance attribute\n",
    "    def __init__(self, name):\n",
    "        self.name = name\n",
    "         \n",
    "    def speak(self):\n",
    "        print(\"My name is {}\".format(self.name))\n",
    " \n",
    "# Driver code\n",
    "# Object instantiation\n",
    "Rodger = Dog(\"Rodger\")\n",
    "Tommy = Dog(\"Tommy\")\n",
    " \n",
    "# Accessing class methods\n",
    "Rodger.speak()\n",
    "Tommy.speak()"
   ]
  },
  {
   "cell_type": "markdown",
   "id": "56aa3e3c",
   "metadata": {},
   "source": [
    "# Inheritance\n",
    "\n",
    "Types of Inheritance – \n",
    "\n",
    "Single Inheritance:\n",
    "\n",
    "Single-level inheritance enables a derived class to inherit characteristics from a single-parent class.\n",
    "\n",
    "Multilevel Inheritance:\n",
    "\n",
    "Multi-level inheritance enables a derived class to inherit properties from an immediate parent class which in turn inherits properties from his parent class.\n",
    "\n",
    "Hierarchical Inheritance:\n",
    "\n",
    "Hierarchical level inheritance enables more than one derived class to inherit properties from a parent class.\n",
    "\n",
    "Multiple Inheritance:\n",
    "\n",
    "Multiple level inheritance enables one derived class to inherit properties from more than one base class."
   ]
  },
  {
   "cell_type": "code",
   "execution_count": 4,
   "id": "7aa7c10b",
   "metadata": {},
   "outputs": [
    {
     "name": "stdout",
     "output_type": "stream",
     "text": [
      "Rahul\n",
      "886012\n",
      "My name is Rahul\n",
      "IdNumber: 886012\n",
      "Post: Intern\n"
     ]
    }
   ],
   "source": [
    "# Python code to demonstrate how parent constructors are called.\n",
    "\n",
    "# parent class\n",
    "class Person(object):\n",
    "\n",
    "\t# __init__ is known as the constructor\n",
    "\tdef __init__(self, name, idnumber):\n",
    "\t\tself.name = name\n",
    "\t\tself.idnumber = idnumber\n",
    "\n",
    "\tdef display(self):\n",
    "\t\tprint(self.name)\n",
    "\t\tprint(self.idnumber)\n",
    "\t\t\n",
    "\tdef details(self):\n",
    "\t\tprint(\"My name is {}\".format(self.name))\n",
    "\t\tprint(\"IdNumber: {}\".format(self.idnumber))\n",
    "\t\n",
    "# child class\n",
    "class Employee(Person):\n",
    "\tdef __init__(self, name, idnumber, salary, post):\n",
    "\t\tself.salary = salary\n",
    "\t\tself.post = post\n",
    "\n",
    "\t\t# invoking the __init__ of the parent class\n",
    "\t\tPerson.__init__(self, name, idnumber)\n",
    "\t\t\n",
    "\tdef details(self):\n",
    "\t\tprint(\"My name is {}\".format(self.name))\n",
    "\t\tprint(\"IdNumber: {}\".format(self.idnumber))\n",
    "\t\tprint(\"Post: {}\".format(self.post))\n",
    "\n",
    "\n",
    "# creation of an object variable or an instance\n",
    "a = Employee('Rahul', 886012, 200000, \"Intern\")\n",
    "\n",
    "# calling a function of the class Person using its instance\n",
    "a.display()\n",
    "a.details()\n"
   ]
  },
  {
   "cell_type": "markdown",
   "id": "f1f6a20b",
   "metadata": {},
   "source": [
    "# Polymorphism\n",
    "\n",
    "Polymorphism simply means having many forms. For example, we need to determine if the given species of birds fly or not, using polymorphism we can do this using a single function.\n",
    "\n"
   ]
  },
  {
   "cell_type": "code",
   "execution_count": 7,
   "id": "fffa5e6b",
   "metadata": {},
   "outputs": [
    {
     "name": "stdout",
     "output_type": "stream",
     "text": [
      "There are many types of birds.\n",
      "Most of the birds can fly but some cannot.\n",
      "There are many types of birds.\n",
      "Sparrows can fly.\n",
      "There are many types of birds.\n",
      "Ostriches cannot fly.\n"
     ]
    }
   ],
   "source": [
    "class Bird:\n",
    "\n",
    "\tdef intro(self):\n",
    "\t\tprint(\"There are many types of birds.\")\n",
    "\n",
    "\tdef flight(self):\n",
    "\t\tprint(\"Most of the birds can fly but some cannot.\")\n",
    "\n",
    "class sparrow(Bird):\n",
    "\n",
    "\tdef flight(self):\n",
    "\t\tprint(\"Sparrows can fly.\")\n",
    "\n",
    "class ostrich(Bird):\n",
    "\n",
    "\tdef flight(self):\n",
    "\t\tprint(\"Ostriches cannot fly.\")\n",
    "\n",
    "obj_bird = Bird()\n",
    "obj_spr = sparrow()\n",
    "obj_ost = ostrich()\n",
    "\n",
    "obj_bird.intro()\n",
    "obj_bird.flight()\n",
    "\n",
    "obj_spr.intro()\n",
    "obj_spr.flight()\n",
    "\n",
    "obj_ost.intro()\n",
    "obj_ost.flight()\n"
   ]
  },
  {
   "cell_type": "markdown",
   "id": "da6b71f0",
   "metadata": {},
   "source": [
    "# Encapsulation\n",
    "\n",
    "Encapsulation is one of the fundamental concepts in object-oriented programming (OOP). It describes the idea of wrapping data and the methods that work on data within one unit."
   ]
  },
  {
   "cell_type": "code",
   "execution_count": 9,
   "id": "216e6747",
   "metadata": {},
   "outputs": [
    {
     "name": "stdout",
     "output_type": "stream",
     "text": [
      "Gopi\n"
     ]
    }
   ],
   "source": [
    "# Python program to demonstrate private members\n",
    "\n",
    "# Creating a Base class\n",
    "class Base:\n",
    "\tdef __init__(self):\n",
    "\t\tself.a = \"Gopi\"\n",
    "\t\tself.__c = \"Gopi\"\n",
    "\n",
    "# Creating a derived class\n",
    "class Derived(Base):\n",
    "\tdef __init__(self):\n",
    "\n",
    "\t\t# Calling constructor of\n",
    "\t\t# Base class\n",
    "\t\tBase.__init__(self)\n",
    "\t\tprint(\"Calling private member of base class: \")\n",
    "\t\tprint(self.__c)\n",
    "\n",
    "\n",
    "\n",
    "obj1 = Base()\n",
    "print(obj1.a)\n",
    "\n",
    "# Uncommenting print(obj1.c) will raise an AttributeError\n",
    "\n",
    "# Uncommenting obj2 = Derived() will also raise an AtrributeError as private member of base class is called inside derived class\n"
   ]
  },
  {
   "cell_type": "markdown",
   "id": "c8a30b76",
   "metadata": {},
   "source": [
    "# Data Abstraction \n",
    "\n",
    "It hides the unnecessary code details from the user. Also,  when we do not want to give out sensitive parts of our code implementation and this is where data abstraction came."
   ]
  },
  {
   "cell_type": "code",
   "execution_count": 11,
   "id": "8d488ce9",
   "metadata": {},
   "outputs": [
    {
     "name": "stdout",
     "output_type": "stream",
     "text": [
      "2\n",
      "7\n"
     ]
    },
    {
     "ename": "AttributeError",
     "evalue": "'MyClass' object has no attribute '__hiddenVariable'",
     "output_type": "error",
     "traceback": [
      "\u001b[1;31m---------------------------------------------------------------------------\u001b[0m",
      "\u001b[1;31mAttributeError\u001b[0m                            Traceback (most recent call last)",
      "Input \u001b[1;32mIn [11]\u001b[0m, in \u001b[0;36m<cell line: 16>\u001b[1;34m()\u001b[0m\n\u001b[0;32m     13\u001b[0m myObject\u001b[38;5;241m.\u001b[39madd(\u001b[38;5;241m5\u001b[39m)\n\u001b[0;32m     15\u001b[0m \u001b[38;5;66;03m# This line causes error\u001b[39;00m\n\u001b[1;32m---> 16\u001b[0m \u001b[38;5;28mprint\u001b[39m (\u001b[43mmyObject\u001b[49m\u001b[38;5;241;43m.\u001b[39;49m\u001b[43m__hiddenVariable\u001b[49m)\n",
      "\u001b[1;31mAttributeError\u001b[0m: 'MyClass' object has no attribute '__hiddenVariable'"
     ]
    }
   ],
   "source": [
    "class MyClass:\n",
    "\t# Hidden member of MyClass\n",
    "\t__hiddenVariable = 0\n",
    "\t\n",
    "\t# A member method that changes __hiddenVariable\n",
    "\tdef add(self, increment):\n",
    "\t\tself.__hiddenVariable += increment\n",
    "\t\tprint (self.__hiddenVariable)\n",
    "\n",
    "\n",
    "myObject = MyClass()\t\n",
    "myObject.add(2)\n",
    "myObject.add(5)\n",
    "\n",
    "# This line causes error\n",
    "print (myObject.__hiddenVariable)\n"
   ]
  },
  {
   "cell_type": "code",
   "execution_count": 12,
   "id": "be966a59",
   "metadata": {},
   "outputs": [
    {
     "name": "stdout",
     "output_type": "stream",
     "text": [
      "10\n"
     ]
    }
   ],
   "source": [
    "'''In the above program, we tried to access a hidden variable outside the class using an object and it threw an exception.\n",
    "We can access the value of a hidden attribute by a tricky syntax: '''\n",
    "\n",
    "\n",
    "# A Python program to demonstrate that hidden members can be accessed outside a class\n",
    "class MyClass:\n",
    "    # Hidden member of MyClass\n",
    "    __hiddenVariable = 10\n",
    "\n",
    "myObject = MyClass()     \n",
    "print(myObject._MyClass__hiddenVariable)"
   ]
  },
  {
   "cell_type": "code",
   "execution_count": 13,
   "id": "3be48c77",
   "metadata": {},
   "outputs": [
    {
     "name": "stdout",
     "output_type": "stream",
     "text": [
      "From str method of Test: a is 1234,b is 5678\n",
      "[Test a:1234 b:5678]\n"
     ]
    }
   ],
   "source": [
    "'''Printing objects give us information about objects we are working with. In C++, we can do this by adding a friend ostream& operator << (ostream&, const Foobar&) method for the class. In Java, we use toString() method.\n",
    "In python, this can be achieved by using __repr__ or __str__ methods.'''\n",
    "\n",
    "\n",
    "class Test:\n",
    "    def __init__(self, a, b):\n",
    "        self.a = a\n",
    "        self.b = b\n",
    "  \n",
    "    def __repr__(self):\n",
    "        return \"Test a:%s b:%s\" % (self.a, self.b)\n",
    "  \n",
    "    def __str__(self):\n",
    "        return \"From str method of Test: a is %s,\" \\\n",
    "              \"b is %s\" % (self.a, self.b)\n",
    "  \n",
    "      \n",
    "t = Test(1234, 5678)\n",
    "print(t) # This calls __str__()\n",
    "print([t]) # This calls __repr__()"
   ]
  },
  {
   "cell_type": "code",
   "execution_count": 14,
   "id": "f56554b3",
   "metadata": {},
   "outputs": [
    {
     "name": "stdout",
     "output_type": "stream",
     "text": [
      "Test a:1234 b:5678\n"
     ]
    }
   ],
   "source": [
    "#Important Points about Printing: \n",
    "\n",
    "#If no __str__ method is defined, print t (or print str(t)) uses __repr__. \n",
    "\n",
    "class Test:\n",
    "    def __init__(self, a, b):\n",
    "        self.a = a\n",
    "        self.b = b \n",
    "    def __repr__(self):\n",
    "        return \"Test a:%s b:%s\" % (self.a, self.b)\n",
    "  \n",
    "     \n",
    "t = Test(1234, 5678)\n",
    "print(t) "
   ]
  },
  {
   "cell_type": "code",
   "execution_count": 15,
   "id": "b0466049",
   "metadata": {},
   "outputs": [
    {
     "name": "stdout",
     "output_type": "stream",
     "text": [
      "<__main__.Test object at 0x0000020B6834BB80>\n"
     ]
    }
   ],
   "source": [
    "#If no __repr__ method is defined then the default is used. \n",
    "\n",
    "class Test:\n",
    "    def __init__(self, a, b):\n",
    "        self.a = a\n",
    "        self.b = b\n",
    "  \n",
    "        \n",
    "t = Test(1234, 5678)\n",
    "print(t) "
   ]
  },
  {
   "cell_type": "code",
   "execution_count": null,
   "id": "66852f1f",
   "metadata": {},
   "outputs": [],
   "source": []
  }
 ],
 "metadata": {
  "kernelspec": {
   "display_name": "Python 3 (ipykernel)",
   "language": "python",
   "name": "python3"
  },
  "language_info": {
   "codemirror_mode": {
    "name": "ipython",
    "version": 3
   },
   "file_extension": ".py",
   "mimetype": "text/x-python",
   "name": "python",
   "nbconvert_exporter": "python",
   "pygments_lexer": "ipython3",
   "version": "3.9.12"
  }
 },
 "nbformat": 4,
 "nbformat_minor": 5
}
