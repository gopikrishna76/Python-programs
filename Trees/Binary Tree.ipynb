{
 "cells": [
  {
   "cell_type": "markdown",
   "id": "cfd2a68f",
   "metadata": {},
   "source": [
    "# creating a binary tree "
   ]
  },
  {
   "cell_type": "code",
   "execution_count": 1,
   "id": "809f9978",
   "metadata": {},
   "outputs": [],
   "source": [
    "class Node:\n",
    "    def __init__(self, data):\n",
    "        self.data  = data\n",
    "        self.left = None\n",
    "        self.right = None       \n",
    "    "
   ]
  },
  {
   "cell_type": "code",
   "execution_count": 2,
   "id": "46e8e3cd",
   "metadata": {},
   "outputs": [],
   "source": [
    "def printTree(root):\n",
    "    if root == None:\n",
    "        return \n",
    "    print(root.data)\n",
    "    printTree(root.left)\n",
    "    printTree(root.right)"
   ]
  },
  {
   "cell_type": "code",
   "execution_count": 3,
   "id": "60ea4cbf",
   "metadata": {},
   "outputs": [],
   "source": [
    "\n",
    "#######   Driver code #############\n",
    "bt1 = Node(20)\n",
    "bt1.left = Node(30)\n",
    "bt1.right = Node(40)\n",
    "\n",
    "\n",
    "\n"
   ]
  },
  {
   "cell_type": "code",
   "execution_count": 4,
   "id": "64e2540d",
   "metadata": {},
   "outputs": [
    {
     "name": "stdout",
     "output_type": "stream",
     "text": [
      "20\n",
      "30\n",
      "40\n"
     ]
    }
   ],
   "source": [
    "printTree(bt1)"
   ]
  },
  {
   "cell_type": "markdown",
   "id": "8cf09692",
   "metadata": {},
   "source": [
    "# Another way of representing the binary tree to understand code to others with neatly manner......"
   ]
  },
  {
   "cell_type": "code",
   "execution_count": 5,
   "id": "7934426c",
   "metadata": {},
   "outputs": [],
   "source": [
    "def printTree(root): #Another way of representing the binary tree to understand \n",
    "    #code to others with neatly manner......\n",
    "    if root == None:\n",
    "        return \n",
    "    print(root.data,end = \" : \")\n",
    "    if root.left != None:\n",
    "        print(\"Left child \",root.left.data, end=\", \")\n",
    "    if root.right != None:\n",
    "        print(\"Right child \",root.right.data)\n",
    "    print()\n",
    "    printTree(root.left)\n",
    "    printTree(root.right)\n",
    "    \n",
    "    #10 : means it does not have any child node/terminate nodes.  "
   ]
  },
  {
   "cell_type": "code",
   "execution_count": 6,
   "id": "966e66fa",
   "metadata": {},
   "outputs": [
    {
     "name": "stdout",
     "output_type": "stream",
     "text": [
      "20 : Left child  30, Right child  40\n",
      "\n",
      "30 : Left child  10, Right child  5\n",
      "\n",
      "10 : \n",
      "5 : \n",
      "40 : \n"
     ]
    }
   ],
   "source": [
    "\n",
    "#######   Driver code #############\n",
    "bt1 = Node(20)\n",
    "bt1.left = Node(30)\n",
    "bt1.right = Node(40)\n",
    "bt1.left.left = Node(10)\n",
    "bt1.left.right = Node(5)\n",
    "\n",
    "\n",
    "printTree(bt1)"
   ]
  },
  {
   "cell_type": "markdown",
   "id": "28ca85a8",
   "metadata": {},
   "source": [
    "# Creating a binary tree Using from Input/User side"
   ]
  },
  {
   "cell_type": "code",
   "execution_count": 7,
   "id": "1118faf6",
   "metadata": {},
   "outputs": [],
   "source": [
    "def treeInput():\n",
    "    rootData = int(input())\n",
    "    if rootData == -1:\n",
    "        return None\n",
    "    \n",
    "    root = Node(rootData)\n",
    "    leftTree = treeInput()\n",
    "    rightTree = treeInput()\n",
    "    root.left = leftTree \n",
    "    root.right = rightTree\n",
    "    return root"
   ]
  },
  {
   "cell_type": "code",
   "execution_count": 8,
   "id": "94035436",
   "metadata": {},
   "outputs": [
    {
     "name": "stdout",
     "output_type": "stream",
     "text": [
      "1\n",
      "2\n",
      "4\n",
      "-1\n",
      "-1\n",
      "5\n",
      "-1\n",
      "-1\n",
      "3\n",
      "-1\n",
      "7\n",
      "-1\n",
      "-1\n",
      "1 : Left child  2, Right child  3\n",
      "\n",
      "2 : Left child  4, Right child  5\n",
      "\n",
      "4 : \n",
      "5 : \n",
      "3 : Right child  7\n",
      "\n",
      "7 : \n"
     ]
    }
   ],
   "source": [
    "root = treeInput()\n",
    "printTree(root)\n",
    "\n",
    "#                 1\n",
    "#             2       3\n",
    "#          4     5       7"
   ]
  },
  {
   "cell_type": "raw",
   "id": "ea7ca2ba",
   "metadata": {},
   "source": [
    "1 #root node\n",
    "2  \n",
    "4\n",
    "-1  #-1 represents no child for previouse node\n",
    "-1\n",
    "5\n",
    "-1\n",
    "-1\n",
    "3\n",
    "-1\n",
    "7\n",
    "-1\n",
    "-1\n",
    "\n",
    "#first root node\n",
    "#then left sub tree \n",
    "#then right sub tree"
   ]
  },
  {
   "cell_type": "code",
   "execution_count": null,
   "id": "91e371f6",
   "metadata": {},
   "outputs": [],
   "source": [
    "\n"
   ]
  },
  {
   "cell_type": "code",
   "execution_count": 12,
   "id": "86f3b299",
   "metadata": {},
   "outputs": [],
   "source": [
    " \n",
    "class Node:\n",
    "    def __init__(self, data):\n",
    "        self.data  = data\n",
    "        self.left = None\n",
    "        self.right = None      \n",
    "        \n",
    "\n",
    "    \n",
    "    \n",
    "#######   Driver code #############\n",
    "#previous data only"
   ]
  },
  {
   "cell_type": "markdown",
   "id": "16837eaa",
   "metadata": {},
   "source": [
    "# Inorder Traversal"
   ]
  },
  {
   "cell_type": "code",
   "execution_count": 14,
   "id": "d17cf09b",
   "metadata": {},
   "outputs": [
    {
     "name": "stdout",
     "output_type": "stream",
     "text": [
      "4 2 5 1 3 7 "
     ]
    }
   ],
   "source": [
    "\n",
    "#left sub tree\n",
    "#root node\n",
    "#right sub tree\n",
    "\n",
    "def inorder(root):\n",
    "    if root!=None:\n",
    "        inorder(root.left)\n",
    "        print(root.data,end=\" \")\n",
    "        inorder(root.right)\n",
    "        \n",
    "inorder(root)\n",
    "#time complexity : - O(n)\n",
    "#space complexity :- O(h)\n",
    "#                 1\n",
    "#             2       3\n",
    "#          4     5       7\n",
    "\n"
   ]
  },
  {
   "cell_type": "code",
   "execution_count": 16,
   "id": "3bfd3465",
   "metadata": {},
   "outputs": [
    {
     "data": {
      "text/plain": [
       "[4, 2, 5, 1, 3, 7, 1, 3, 7]"
      ]
     },
     "execution_count": 16,
     "metadata": {},
     "output_type": "execute_result"
    }
   ],
   "source": [
    "#iterative solution\n",
    "'''     stack = []\n",
    "        curr = root\n",
    "        while curr is not None:\n",
    "            stack.append(curr)\n",
    "            curr = curr.left\n",
    "        while len(stack)>0:\n",
    "            curr = stack.pop()\n",
    "            print(curr.root)\n",
    "            curr = curr.right\n",
    "            while curr is not None:\n",
    "                stack.append(curr)\n",
    "                curr = curr.left'''\n",
    "\n",
    "\n",
    "def inorder(root):\n",
    "    stack = []\n",
    "    stack.append(root)\n",
    "    res = []\n",
    "    while root or stack:\n",
    "        while root:\n",
    "            stack.append(root)\n",
    "            root= root.left\n",
    "        root = stack.pop()\n",
    "        res.append(root.data)\n",
    "        root= root.right\n",
    "    return res\n",
    "    \n",
    "\n",
    "inorder(root)"
   ]
  },
  {
   "cell_type": "markdown",
   "id": "12a93f1d",
   "metadata": {},
   "source": [
    "# Preorder Traversal"
   ]
  },
  {
   "cell_type": "code",
   "execution_count": null,
   "id": "fff88290",
   "metadata": {},
   "outputs": [],
   "source": [
    "#root node\n",
    "#left sub tree\n",
    "#right sub tree\n",
    "    \n",
    "def preorder(root):\n",
    "    if root != None:\n",
    "        print(root.data,end=\" \")  \n",
    "        preorder(root.left)\n",
    "        preorder(root.right)\n",
    "        \n",
    "        \n",
    "preorder(root)\n",
    "#time complexity : - O(n)\n",
    "#space complexity :- O(h)\n",
    "\n",
    "\n",
    "#                 1\n",
    "#             2       3\n",
    "#          4     5       7"
   ]
  },
  {
   "cell_type": "code",
   "execution_count": 17,
   "id": "0cb73d35",
   "metadata": {},
   "outputs": [
    {
     "data": {
      "text/plain": [
       "[1, 2, 4, 5, 3, 7]"
      ]
     },
     "execution_count": 17,
     "metadata": {},
     "output_type": "execute_result"
    }
   ],
   "source": [
    "def preorder(root): #iterative solution\n",
    "    stack = [root]\n",
    "    ans = []\n",
    "    while stack:\n",
    "        node = stack.pop()\n",
    "        if node:\n",
    "            ans.append(node.data)\n",
    "            stack.append(node.right)\n",
    "            stack.append(node.left)\n",
    "    return ans\n",
    "\n",
    "preorder(root)\n",
    "#                 1\n",
    "#             2       3\n",
    "#          4     5       7"
   ]
  },
  {
   "cell_type": "markdown",
   "id": "fedeaeb3",
   "metadata": {},
   "source": [
    "# Postorder Traversal"
   ]
  },
  {
   "cell_type": "code",
   "execution_count": 18,
   "id": "f5958ea8",
   "metadata": {},
   "outputs": [
    {
     "name": "stdout",
     "output_type": "stream",
     "text": [
      "4 5 2 7 3 1 "
     ]
    },
    {
     "data": {
      "text/plain": [
       "'def postorderTraversal(self, root):\\n       # Base case...\\n       if not root: return []\\n       # Create an array list to store the solution result...\\n       sol = []\\n       # Create an empty stack and push the root node...\\n       bag = [root]\\n       # Loop till stack is empty...\\n       while bag:\\n           # Pop a node from the stack...\\n           node = bag.pop()\\n           sol.append(node.val)\\n           # Push the left child of the popped node into the stack...\\n           if node.left:\\n               bag.append(node.left)\\n           # Append the right child of the popped node into the stack...\\n           if node.right:\\n               bag.append(node.right)\\n       return sol[::-1]       # Return the solution list...'"
      ]
     },
     "execution_count": 18,
     "metadata": {},
     "output_type": "execute_result"
    }
   ],
   "source": [
    " #left sub tree\n",
    "#right sub tree\n",
    "#root node\n",
    "    \n",
    "    \n",
    "def postorder(root):\n",
    "    if root != None:\n",
    "        \n",
    "        postorder(root.left)\n",
    "        postorder(root.right)\n",
    "        print(root.data,end=\" \")\n",
    "        \n",
    "        \n",
    "postorder(root)\n",
    "#time complexity : - O(n)\n",
    "#space complexity :- O(h)\n",
    "\n",
    "'''def postorderTraversal(self, root):\n",
    "        # Base case...\n",
    "        if not root: return []\n",
    "        # Create an array list to store the solution result...\n",
    "        sol = []\n",
    "        # Create an empty stack and push the root node...\n",
    "        bag = [root]\n",
    "        # Loop till stack is empty...\n",
    "        while bag:\n",
    "            # Pop a node from the stack...\n",
    "            node = bag.pop()\n",
    "            sol.append(node.val)\n",
    "            # Push the left child of the popped node into the stack...\n",
    "            if node.left:\n",
    "                bag.append(node.left)\n",
    "            # Append the right child of the popped node into the stack...\n",
    "            if node.right:\n",
    "                bag.append(node.right)\n",
    "        return sol[::-1]       # Return the solution list...'''"
   ]
  },
  {
   "cell_type": "markdown",
   "id": "9852ed9a",
   "metadata": {},
   "source": [
    "# Size/Total nodes of Binary Tree"
   ]
  },
  {
   "cell_type": "code",
   "execution_count": 19,
   "id": "9ebc9e51",
   "metadata": {},
   "outputs": [
    {
     "data": {
      "text/plain": [
       "6"
      ]
     },
     "execution_count": 19,
     "metadata": {},
     "output_type": "execute_result"
    }
   ],
   "source": [
    "def treeSize(root):\n",
    "    if root == None:\n",
    "        return 0\n",
    "    else:\n",
    "        left = treeSize(root.left)\n",
    "        right = treeSize(root.right)\n",
    "        return left+right+1\n",
    "    \n",
    "    #considering previous example of binary tree.......\n",
    "treeSize(root)"
   ]
  },
  {
   "cell_type": "markdown",
   "id": "7d49b8c1",
   "metadata": {},
   "source": [
    "# Maximum Value/Node in a Binary Tree"
   ]
  },
  {
   "cell_type": "code",
   "execution_count": 20,
   "id": "3b316a68",
   "metadata": {},
   "outputs": [
    {
     "data": {
      "text/plain": [
       "7"
      ]
     },
     "execution_count": 20,
     "metadata": {},
     "output_type": "execute_result"
    }
   ],
   "source": [
    "import math\n",
    "def maximumValue(root):\n",
    "    if root == None:\n",
    "        return -math.inf\n",
    "    else:\n",
    "        left  = maximumValue(root.left)\n",
    "        right = maximumValue(root.right)\n",
    "        return max(root.data,left,right)\n",
    "    \n",
    "maximumValue(root)\n",
    " #considering previous example of binary tree......."
   ]
  },
  {
   "cell_type": "markdown",
   "id": "3fa04201",
   "metadata": {},
   "source": [
    "# Search in a Binray Tree"
   ]
  },
  {
   "cell_type": "code",
   "execution_count": null,
   "id": "1746dab9",
   "metadata": {},
   "outputs": [],
   "source": [
    "key = 5\n",
    "def search(root, key):\n",
    "    if root is None:\n",
    "        return False\n",
    "    elif root.data == key:\n",
    "        return True\n",
    "    elif search(root.left,key) == True:\n",
    "        return True\n",
    "    else:\n",
    "        return search(root.right,key)\n",
    "    \n",
    "#considering previous example of binary tree.......\n",
    "search(root, key)"
   ]
  },
  {
   "cell_type": "markdown",
   "id": "c30a5c82",
   "metadata": {},
   "source": [
    "# Height of a Binary Tree"
   ]
  },
  {
   "cell_type": "code",
   "execution_count": null,
   "id": "50fdb5b0",
   "metadata": {},
   "outputs": [],
   "source": [
    "def height(root):\n",
    "    if root == None:\n",
    "        return 0\n",
    "    else:\n",
    "        left = height(root.left)\n",
    "        right = height(root.right)\n",
    "        return max(left, right)+1\n",
    "\n",
    "    \n",
    "#considering previous example of binary tree.......\n",
    "height(root)"
   ]
  },
  {
   "cell_type": "markdown",
   "id": "8b4214a7",
   "metadata": {},
   "source": [
    "# Level Order Traversal  \n",
    "Prints the tree in level wise"
   ]
  },
  {
   "cell_type": "code",
   "execution_count": null,
   "id": "afe09199",
   "metadata": {},
   "outputs": [],
   "source": [
    "from collections import deque\n",
    "\n",
    "def level(root):\n",
    "    if root is None:\n",
    "        return \n",
    "    q = deque()\n",
    "    q.append(root)\n",
    "    while len(q) > 0:\n",
    "        node = q.popleft()\n",
    "        print(node.data)\n",
    "        if node.left is not None:\n",
    "            q.append(node.left)\n",
    "        if node.right is not None:\n",
    "            q.append(node.right)  \n",
    "            \n",
    "level(root) \n",
    "#time complexity : - O(n)\n",
    "#space complexity :- O(1)\n"
   ]
  },
  {
   "cell_type": "code",
   "execution_count": null,
   "id": "25f7cd0f",
   "metadata": {},
   "outputs": [],
   "source": []
  },
  {
   "cell_type": "code",
   "execution_count": null,
   "id": "e6996989",
   "metadata": {},
   "outputs": [],
   "source": []
  }
 ],
 "metadata": {
  "kernelspec": {
   "display_name": "Python 3 (ipykernel)",
   "language": "python",
   "name": "python3"
  },
  "language_info": {
   "codemirror_mode": {
    "name": "ipython",
    "version": 3
   },
   "file_extension": ".py",
   "mimetype": "text/x-python",
   "name": "python",
   "nbconvert_exporter": "python",
   "pygments_lexer": "ipython3",
   "version": "3.9.12"
  }
 },
 "nbformat": 4,
 "nbformat_minor": 5
}
