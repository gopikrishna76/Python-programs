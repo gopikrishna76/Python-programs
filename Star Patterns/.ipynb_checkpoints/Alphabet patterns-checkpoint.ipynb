{
 "cells": [
  {
   "cell_type": "markdown",
   "id": "7d1cb932",
   "metadata": {},
   "source": [
    "#As you know every character has an ASCII value. For example, A has an ASCII value of 65 and Z has an ASCII value of 90.\n",
    "\n",
    "We are going to use these values and loop from 65 to 90, then convert the number value to the character and print it. To convert the ASCII value to the character we can use the chr() function."
   ]
  },
  {
   "cell_type": "markdown",
   "id": "2bee2e30",
   "metadata": {},
   "source": [
    "# Print A to Z in Python using for loop\n"
   ]
  },
  {
   "cell_type": "code",
   "execution_count": 1,
   "id": "112e0dcf",
   "metadata": {},
   "outputs": [
    {
     "name": "stdout",
     "output_type": "stream",
     "text": [
      "A B C D E F G H I J K L M N O P Q R S T U V W X Y Z "
     ]
    }
   ],
   "source": [
    "# loop through alphabets and print them\n",
    "\n",
    "# 65 in char is A\n",
    "# 90 in char is Z\n",
    "for i in range(65, 91):\n",
    "    print(chr(i), end=\" \")"
   ]
  },
  {
   "cell_type": "markdown",
   "id": "c3874803",
   "metadata": {},
   "source": [
    "# Square Patterns"
   ]
  },
  {
   "cell_type": "markdown",
   "id": "5dc7e625",
   "metadata": {},
   "source": [
    "## \n",
    "A B C D E \n",
    "\n",
    "F G H I J \n",
    "\n",
    "K L M N O \n",
    "\n",
    "P Q R S T \n",
    "\n",
    "U V W X Y "
   ]
  },
  {
   "cell_type": "code",
   "execution_count": 2,
   "id": "769f4405",
   "metadata": {},
   "outputs": [
    {
     "name": "stdout",
     "output_type": "stream",
     "text": [
      "A B C D E \n",
      "F G H I J \n",
      "K L M N O \n",
      "P Q R S T \n",
      "U V W X Y \n"
     ]
    }
   ],
   "source": [
    "# square alphabet pattern\n",
    "\n",
    "size = 5 #rows\n",
    "count = 0\n",
    "\n",
    "for i in range(size):\n",
    "    for j in range(size):\n",
    "        print(chr(65 + count), end=\" \")\n",
    "        # changing charater\n",
    "        count += 1\n",
    "    print()"
   ]
  },
  {
   "cell_type": "markdown",
   "id": "a21b24d2",
   "metadata": {},
   "source": [
    "#  Square pattern 2\n",
    "\n",
    "A A A A A \n",
    "\n",
    "B B B B B \n",
    "\n",
    "C C C C C \n",
    "\n",
    "D D D D D \n",
    "\n",
    "E E E E E"
   ]
  },
  {
   "cell_type": "code",
   "execution_count": 3,
   "id": "53ec2081",
   "metadata": {},
   "outputs": [
    {
     "name": "stdout",
     "output_type": "stream",
     "text": [
      "A A A A A \n",
      "B B B B B \n",
      "C C C C C \n",
      "D D D D D \n",
      "E E E E E \n"
     ]
    }
   ],
   "source": [
    "# square alphabet pattern\n",
    "\n",
    "size = 5\n",
    "\n",
    "for i in range(size):\n",
    "    for j in range(size):\n",
    "        print(chr(65 + i), end=\" \")\n",
    "    print()"
   ]
  },
  {
   "cell_type": "markdown",
   "id": "98eced80",
   "metadata": {},
   "source": [
    "# Square pattern 3\n",
    "\n",
    "A B C D E  \n",
    "\n",
    "A B C D E \n",
    "\n",
    "A B C D E \n",
    "\n",
    "A B C D E \n",
    "\n",
    "A B C D E\n"
   ]
  },
  {
   "cell_type": "code",
   "execution_count": 4,
   "id": "db2fb83c",
   "metadata": {},
   "outputs": [
    {
     "name": "stdout",
     "output_type": "stream",
     "text": [
      "A B C D E \n",
      "A B C D E \n",
      "A B C D E \n",
      "A B C D E \n",
      "A B C D E \n"
     ]
    }
   ],
   "source": [
    "# square alphabet pattern\n",
    "\n",
    "size = 5\n",
    "\n",
    "for i in range(size):\n",
    "    for j in range(65, 65+size):\n",
    "        print(chr(j), end=' ')\n",
    "    print()"
   ]
  },
  {
   "cell_type": "markdown",
   "id": "66954538",
   "metadata": {},
   "source": [
    "# 2. Left Triangle Alphabet Pattern\n",
    "A\n",
    "\n",
    "AB\n",
    "\n",
    "ABC\n",
    "\n",
    "ABCD\n",
    "\n",
    "ABCDE"
   ]
  },
  {
   "cell_type": "code",
   "execution_count": 5,
   "id": "3f11a6cb",
   "metadata": {},
   "outputs": [
    {
     "name": "stdout",
     "output_type": "stream",
     "text": [
      "A\n",
      "AB\n",
      "ABC\n",
      "ABCD\n",
      "ABCDE\n"
     ]
    }
   ],
   "source": [
    "# Left triangle pattern\n",
    "n = 5\n",
    "for i in range(n):\n",
    "    for j in range(i+1):\n",
    "        print(chr(j + 65), end=\"\")\n",
    "    print()"
   ]
  },
  {
   "cell_type": "code",
   "execution_count": 6,
   "id": "9b30e1a7",
   "metadata": {},
   "outputs": [
    {
     "name": "stdout",
     "output_type": "stream",
     "text": [
      "    A\n",
      "   AB\n",
      "  ABC\n",
      " ABCD\n",
      "ABCDE\n"
     ]
    }
   ],
   "source": [
    "# right triangle pattern\n",
    "size = 5\n",
    "for i in range(size):\n",
    "    for j in range(1, size - i):\n",
    "        print(\" \", end=\"\")\n",
    "    for k in range(i + 1):\n",
    "        print(chr(65 + k), end=\"\")\n",
    "    print()"
   ]
  },
  {
   "cell_type": "code",
   "execution_count": 7,
   "id": "677f2b51",
   "metadata": {},
   "outputs": [
    {
     "name": "stdout",
     "output_type": "stream",
     "text": [
      "      A\n",
      "     ABC\n",
      "    ABCDE\n",
      "   ABCDEFG\n",
      "  ABCDEFGHI\n",
      " ABCDEFGHIJK\n",
      "ABCDEFGHIJKLM\n"
     ]
    }
   ],
   "source": [
    "# pyramid alphabet pattern\n",
    "n = 7\n",
    "for i in range(n):\n",
    "    for j in range(n - i - 1):\n",
    "        print(' ', end='')\n",
    "    for k in range(2 * i + 1):\n",
    "        print(chr(65 + k), end='')\n",
    "    print()\n",
    "#You can see the pattern above has an odd number of alphabets in each row 1, 3, 5, 7, etc.\n",
    "\n",
    "#There will be 2 loops where the first loop will print spaces and the second loop will print the 2n + 1 alphabets."
   ]
  },
  {
   "cell_type": "code",
   "execution_count": 8,
   "id": "96ba64bd",
   "metadata": {},
   "outputs": [
    {
     "name": "stdout",
     "output_type": "stream",
     "text": [
      "ABCDEFGHIJKLM\n",
      " ABCDEFGHIJK\n",
      "  ABCDEFGHI\n",
      "   ABCDEFG\n",
      "    ABCDE\n",
      "     ABC\n",
      "      A\n"
     ]
    }
   ],
   "source": [
    "# reverse pyramid pattern\n",
    "n = 7\n",
    "\n",
    "for i in range(n):\n",
    "    # printing spaces\n",
    "    for j in range(i):\n",
    "        print(' ', end='')\n",
    "    # printing alphabet\n",
    "    for j in range(2*(n-i)-1):\n",
    "        print(chr(65 + j), end='')\n",
    "    print()"
   ]
  },
  {
   "cell_type": "code",
   "execution_count": 9,
   "id": "e7579644",
   "metadata": {},
   "outputs": [
    {
     "name": "stdout",
     "output_type": "stream",
     "text": [
      "      A\n",
      "     ABC\n",
      "    ABCDE\n",
      "   ABCDEFG\n",
      "  ABCDEFGHI\n",
      " ABCDEFGHIJK\n",
      "ABCDEFGHIJKLM\n",
      " ABCDEFGHIJK\n",
      "  ABCDEFGHI\n",
      "   ABCDEFG\n",
      "    ABCDE\n",
      "     ABC\n",
      "      A\n"
     ]
    }
   ],
   "source": [
    "# DIAMOND \n",
    "# diamond alphabet pattern\n",
    "n = 7\n",
    "\n",
    "# upward pyramid\n",
    "for i in range(n):\n",
    "    for j in range(n - i - 1):\n",
    "        print(' ', end='')\n",
    "    for j in range(2 * i + 1):\n",
    "        print(chr(65 + j), end='')\n",
    "    print()\n",
    "\n",
    "# downward pyramid\n",
    "for i in range(n - 1):\n",
    "    for j in range(i + 1):\n",
    "        print(' ', end='')\n",
    "    for j in range(2*(n - i - 1) - 1):\n",
    "        print(chr(65 + j), end='')\n",
    "    print()"
   ]
  },
  {
   "cell_type": "code",
   "execution_count": 10,
   "id": "237e1deb",
   "metadata": {},
   "outputs": [
    {
     "name": "stdout",
     "output_type": "stream",
     "text": [
      "ABCDEFGHI\n",
      " ABCDEFG\n",
      "  ABCDE\n",
      "   ABC\n",
      "    A\n",
      "   ABC\n",
      "  ABCDE\n",
      " ABCDEFG\n",
      "ABCDEFGHI\n"
     ]
    }
   ],
   "source": [
    "# hourglass alphabet pattern\n",
    "n = 5\n",
    "\n",
    "# downward pyramid\n",
    "for i in range(n-1):\n",
    "    for j in range(i):\n",
    "        print(' ', end='')\n",
    "    for k in range(2*(n-i)-1):\n",
    "        print(chr(65 + k), end='')\n",
    "    print()\n",
    "# uppward pyramid\n",
    "for i in range(n):\n",
    "    for j in range(n-i-1):\n",
    "        print(' ', end='')\n",
    "    for k in range(2*i+1):\n",
    "        print(chr(65 + k), end='')\n",
    "    print()"
   ]
  },
  {
   "cell_type": "code",
   "execution_count": 11,
   "id": "fe18939f",
   "metadata": {},
   "outputs": [
    {
     "name": "stdout",
     "output_type": "stream",
     "text": [
      "A\n",
      "AB\n",
      "ABC\n",
      "ABCD\n",
      "ABCDE\n",
      "ABCDEF\n",
      "ABCDEFG\n",
      "ABCDEF\n",
      "ABCDE\n",
      "ABCD\n",
      "ABC\n",
      "AB\n",
      "A\n",
      "\n"
     ]
    }
   ],
   "source": [
    "# right pascal triangle\n",
    "n = 7\n",
    "\n",
    "# upper triangle\n",
    "for i in range(n):\n",
    "    for j in range(i + 1):\n",
    "        print(chr(65 + j), end=\"\")\n",
    "    print()\n",
    "# lower triangle\n",
    "for i in range(n):\n",
    "    for j in range(n - i - 1):\n",
    "        print(chr(65 + j), end=\"\")\n",
    "    print()"
   ]
  },
  {
   "cell_type": "code",
   "execution_count": 12,
   "id": "3ac152e6",
   "metadata": {},
   "outputs": [
    {
     "name": "stdout",
     "output_type": "stream",
     "text": [
      "      A\n",
      "     A B\n",
      "    A   B\n",
      "   A     B\n",
      "  A       B\n",
      " A         B\n",
      "ABCDEFGHIJKLM\n"
     ]
    }
   ],
   "source": [
    "# hollow pyramid alphabets pattern\n",
    "n = 7\n",
    "for i in range(n):\n",
    "    # printing spaces\n",
    "    for j in range(n - i - 1):\n",
    "        print(' ', end='')\n",
    "\n",
    "    # printing alphabets\n",
    "    count = 0\n",
    "    for k in range(2 * i + 1):\n",
    "        # print alphabets at start and end of the row\n",
    "        if k == 0 or k == 2 * i:\n",
    "            print(chr(65 + count), end='')\n",
    "            count += 1\n",
    "        else:\n",
    "            if i == n - 1:\n",
    "                print(chr(65 + count), end='')\n",
    "                count += 1\n",
    "            else:\n",
    "                print(' ', end='')\n",
    "    print()"
   ]
  },
  {
   "cell_type": "code",
   "execution_count": null,
   "id": "dc7225f4",
   "metadata": {},
   "outputs": [],
   "source": []
  }
 ],
 "metadata": {
  "kernelspec": {
   "display_name": "Python 3 (ipykernel)",
   "language": "python",
   "name": "python3"
  },
  "language_info": {
   "codemirror_mode": {
    "name": "ipython",
    "version": 3
   },
   "file_extension": ".py",
   "mimetype": "text/x-python",
   "name": "python",
   "nbconvert_exporter": "python",
   "pygments_lexer": "ipython3",
   "version": "3.9.12"
  }
 },
 "nbformat": 4,
 "nbformat_minor": 5
}
