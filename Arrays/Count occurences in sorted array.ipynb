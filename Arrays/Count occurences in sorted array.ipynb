{
 "cells": [
  {
   "cell_type": "markdown",
   "id": "fcf36da9",
   "metadata": {},
   "source": [
    "# Count occurences in sorted array"
   ]
  },
  {
   "cell_type": "code",
   "execution_count": null,
   "id": "fb63df07",
   "metadata": {},
   "outputs": [],
   "source": [
    "n=int(input(\"enter the size of an array : \"))\n",
    "arr=list()\n",
    "for i in range(n):\n",
    "    x=int(input(\"enter the next value : \"))\n",
    "    arr.append(x)\n",
    "print(\"The array from the user side is: \",arr)\n",
    "k=int(input(\"value : \"))\n",
    "def occurence(arr,n,k):\n",
    "    c=0\n",
    "    for i in range(n):\n",
    "        if arr[i]==k:\n",
    "            c+=1    \n",
    "    return c\n",
    "occurence(arr,n,k)"
   ]
  },
  {
   "cell_type": "markdown",
   "id": "4e0773fd",
   "metadata": {},
   "source": [
    "# Index of First occurence"
   ]
  },
  {
   "cell_type": "code",
   "execution_count": null,
   "id": "6516c8f1",
   "metadata": {},
   "outputs": [],
   "source": [
    "n=int(input(\"enter the size of an array : \"))\n",
    "arr=list()\n",
    "for i in range(n):\n",
    "    x=int(input(\"enter the next value : \"))\n",
    "    arr.append(x)\n",
    "print(\"The array from the user side is: \",arr)\n",
    "k=int(input(\"value : \"))\n",
    "def occurence(arr,n,k):\n",
    "    \n",
    "    for i in range(n):\n",
    "        if arr[i]==k:\n",
    "            print(i) \n",
    "            break\n",
    "        i+=1\n",
    "occurence(arr,n,k)"
   ]
  },
  {
   "cell_type": "code",
   "execution_count": null,
   "id": "f27ab8f4",
   "metadata": {},
   "outputs": [],
   "source": []
  },
  {
   "cell_type": "code",
   "execution_count": 1,
   "id": "a94fadaa",
   "metadata": {},
   "outputs": [
    {
     "name": "stdout",
     "output_type": "stream",
     "text": [
      "enter the size of an array : 5\n",
      "enter the next value : 5\n",
      "enter the next value : 4\n",
      "enter the next value : 3\n",
      "enter the next value : 2\n",
      "enter the next value : 1\n",
      "The output array is:  [1, 2, 3, 4, 5]\n",
      "value : 3\n",
      "[1, 2, 3, 3, 4, 5]\n"
     ]
    }
   ],
   "source": [
    "n=int(input(\"enter the size of an array : \"))\n",
    "arr=list()\n",
    "for i in range(n):\n",
    "    x=int(input(\"enter the next value : \"))\n",
    "    arr.append(x)\n",
    "arr.sort()\n",
    "print(\"The output array is: \",arr)\n",
    "k=int(input(\"value : \"))\n",
    "arr.append(k)\n",
    "arr.sort()\n",
    "print(arr)"
   ]
  },
  {
   "cell_type": "code",
   "execution_count": null,
   "id": "ea0a1282",
   "metadata": {},
   "outputs": [],
   "source": []
  }
 ],
 "metadata": {
  "kernelspec": {
   "display_name": "Python 3 (ipykernel)",
   "language": "python",
   "name": "python3"
  },
  "language_info": {
   "codemirror_mode": {
    "name": "ipython",
    "version": 3
   },
   "file_extension": ".py",
   "mimetype": "text/x-python",
   "name": "python",
   "nbconvert_exporter": "python",
   "pygments_lexer": "ipython3",
   "version": "3.10.4"
  }
 },
 "nbformat": 4,
 "nbformat_minor": 5
}
