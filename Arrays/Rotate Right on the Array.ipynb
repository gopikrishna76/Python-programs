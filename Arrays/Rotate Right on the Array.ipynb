{
 "cells": [
  {
   "cell_type": "markdown",
   "id": "3c9be799",
   "metadata": {},
   "source": [
    "# Rotate Right on the Array"
   ]
  },
  {
   "cell_type": "code",
   "execution_count": 1,
   "id": "29f8270b",
   "metadata": {},
   "outputs": [
    {
     "name": "stdout",
     "output_type": "stream",
     "text": [
      "Enter the size of an array : 5\n",
      "Enter the next value : 1\n",
      "Enter the next value : 2\n",
      "Enter the next value : 3\n",
      "Enter the next value : 4\n",
      "Enter the next value : 5\n",
      "[1, 2, 3, 4, 5]\n",
      "2\n"
     ]
    },
    {
     "data": {
      "text/plain": [
       "[3, 4, 5, 1, 2]"
      ]
     },
     "execution_count": 1,
     "metadata": {},
     "output_type": "execute_result"
    }
   ],
   "source": [
    "\n",
    "a = int(input(  \"Enter the size of an array : \"))\n",
    "b = list()\n",
    "for i in range(a):\n",
    "    x = int(input(\"Enter the next value : \"))\n",
    "    b.append(x)\n",
    "print(b)\n",
    "\n",
    "k =int(input())\n",
    "def rotate(b, k):\n",
    "    k = k % len(b)\n",
    "    b[:] = b[k:] + b[:k]\n",
    "    return b\n",
    "rotate(b,k)"
   ]
  },
  {
   "cell_type": "code",
   "execution_count": null,
   "id": "a09ad92f",
   "metadata": {},
   "outputs": [],
   "source": []
  }
 ],
 "metadata": {
  "kernelspec": {
   "display_name": "Python 3 (ipykernel)",
   "language": "python",
   "name": "python3"
  },
  "language_info": {
   "codemirror_mode": {
    "name": "ipython",
    "version": 3
   },
   "file_extension": ".py",
   "mimetype": "text/x-python",
   "name": "python",
   "nbconvert_exporter": "python",
   "pygments_lexer": "ipython3",
   "version": "3.10.4"
  }
 },
 "nbformat": 4,
 "nbformat_minor": 5
}
