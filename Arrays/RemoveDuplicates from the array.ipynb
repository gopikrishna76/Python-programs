{
 "cells": [
  {
   "cell_type": "markdown",
   "id": "f7a525d1",
   "metadata": {},
   "source": [
    "# removeDuplicates from the array( efficient)"
   ]
  },
  {
   "cell_type": "code",
   "execution_count": 7,
   "id": "056d246f",
   "metadata": {},
   "outputs": [
    {
     "name": "stdout",
     "output_type": "stream",
     "text": [
      "enter the size of an array : 5\n",
      "enter the next value : 1\n",
      "enter the next value : 2\n",
      "enter the next value : 2\n",
      "enter the next value : 3\n",
      "enter the next value : 4\n",
      "The array from the user side is:  [1, 2, 2, 3, 4]\n",
      "1 2 3 "
     ]
    },
    {
     "data": {
      "text/plain": [
       "[1, 2, 3, 4, 4]"
      ]
     },
     "execution_count": 7,
     "metadata": {},
     "output_type": "execute_result"
    }
   ],
   "source": [
    "def removeDuplicates(res,arr,n):\n",
    "    res=1\n",
    "    for i in range(1,n):\n",
    "        if (arr[i]!=arr[res-1]):\n",
    "            arr[res]=arr[i]\n",
    "            print(arr[res-1],end=\" \")\n",
    "            res+=1\n",
    "    return arr\n",
    "            \n",
    "        \n",
    "res=1\n",
    "n=int(input(\"enter the size of an array : \"))\n",
    "arr=list()\n",
    "for i in range(n):\n",
    "    x=int(input(\"enter the next value : \"))\n",
    "    arr.append(x)\n",
    "print(\"The array from the user side is: \",arr)\n",
    "\n",
    "removeDuplicates(res,arr,n)"
   ]
  },
  {
   "cell_type": "markdown",
   "id": "42d5d3a4",
   "metadata": {},
   "source": [
    "## def palindrome(n):\n",
    "    sign=1\n",
    "    temp=n\n",
    "    sum=0\n",
    "    if n<0: \n",
    "        n=n*-1 \n",
    "        sign=-1\n",
    "    while n>0: \n",
    "        rem =n%10 \n",
    "        sum=(sum*10)+rem \n",
    "        n=n//10 #print(signsum) \n",
    "    result=sign*sum \n",
    "    if not (-2**31)<n<(2**31-1): \n",
    "        return 0\n",
    "    return temp==result\n",
    "    \n",
    "    \n",
    "n=int(input(\"\"))\n",
    "palindrome(n)"
   ]
  },
  {
   "cell_type": "code",
   "execution_count": null,
   "id": "390b273f",
   "metadata": {},
   "outputs": [],
   "source": [
    "# List slicing approch to rotate the array\n",
    "def rotateArray(a,d):\n",
    "    n=len(a)\n",
    "    a[:]=a[d:]+a[0:d]\n",
    "    return a\n",
    "\n",
    "arr = [1, 2, 3, 4, 5, 6]\n",
    "\n",
    "print(\"Rotated list is\")\n",
    "print(rotateArray(arr,2)) "
   ]
  }
 ],
 "metadata": {
  "kernelspec": {
   "display_name": "Python 3 (ipykernel)",
   "language": "python",
   "name": "python3"
  },
  "language_info": {
   "codemirror_mode": {
    "name": "ipython",
    "version": 3
   },
   "file_extension": ".py",
   "mimetype": "text/x-python",
   "name": "python",
   "nbconvert_exporter": "python",
   "pygments_lexer": "ipython3",
   "version": "3.10.4"
  }
 },
 "nbformat": 4,
 "nbformat_minor": 5
}
