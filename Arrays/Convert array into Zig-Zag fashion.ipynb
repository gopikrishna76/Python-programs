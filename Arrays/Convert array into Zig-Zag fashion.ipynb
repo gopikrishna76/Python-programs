{
 "cells": [
  {
   "cell_type": "markdown",
   "id": "128c4253",
   "metadata": {},
   "source": [
    "## Given an array Arr (distinct elements) of size N. Rearrange the elements of array in zig-zag fashion. \n",
    "#The converted array should be in form a < b > c < d > e < f. The relative order of elements is same in the output i.e you have to iterate on the original array only."
   ]
  },
  {
   "cell_type": "markdown",
   "id": "f9c42e36",
   "metadata": {},
   "source": [
    "# Example:\n",
    "Input:\n",
    "N = 7\n",
    "\n",
    "Arr[] = {4, 3, 7, 8, 6, 2, 1}\n",
    "\n",
    "Output: 3 7 4 8 2 6 1\n",
    "\n",
    "Explanation: 3 < 7 > 4 < 8 > 2 < 6 > 1 "
   ]
  },
  {
   "cell_type": "code",
   "execution_count": 4,
   "id": "c0a9bf87",
   "metadata": {},
   "outputs": [
    {
     "data": {
      "text/plain": [
       "[3, 7, 4, 8, 2, 6, 1]"
      ]
     },
     "execution_count": 4,
     "metadata": {},
     "output_type": "execute_result"
    }
   ],
   "source": [
    "def zigzag(arr):\n",
    "    for i in range(len(arr)-1):\n",
    "        if i%2!=0: #keeping in odd position\n",
    "            if arr[i]<arr[i+1]: #checking \n",
    "                arr[i+1],arr[i]=arr[i],arr[i+1]\n",
    "        else:      #in even position index in array\n",
    "            if arr[i]>arr[i+1]:\n",
    "                arr[i],arr[i+1]=arr[i+1],arr[i]\n",
    "    return arr\n",
    "\n",
    "\n",
    "\n",
    "arr=[4,3,7,8,6,2,1]\n",
    "zigzag(arr)"
   ]
  },
  {
   "cell_type": "code",
   "execution_count": null,
   "id": "ce5560a9",
   "metadata": {},
   "outputs": [],
   "source": []
  }
 ],
 "metadata": {
  "kernelspec": {
   "display_name": "Python 3 (ipykernel)",
   "language": "python",
   "name": "python3"
  },
  "language_info": {
   "codemirror_mode": {
    "name": "ipython",
    "version": 3
   },
   "file_extension": ".py",
   "mimetype": "text/x-python",
   "name": "python",
   "nbconvert_exporter": "python",
   "pygments_lexer": "ipython3",
   "version": "3.10.4"
  }
 },
 "nbformat": 4,
 "nbformat_minor": 5
}
