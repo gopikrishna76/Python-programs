{
 "cells": [
  {
   "cell_type": "code",
   "execution_count": 2,
   "id": "ee9dd89e",
   "metadata": {},
   "outputs": [
    {
     "name": "stdout",
     "output_type": "stream",
     "text": [
      "enter the size of an arry :3\n",
      "enter the next value :4\n",
      "enter the next value :6\n",
      "enter the next value :5\n",
      "array('i', [4, 6, 5])\n",
      "4 6 "
     ]
    }
   ],
   "source": [
    "#printing the only even numbers from the given array from the user\n",
    "from array import*\n",
    "x = int(input(\"enter the size of an arry :\"))\n",
    "arr = array('i',[])\n",
    "for i in range(x):\n",
    "    y = int(input(\"enter the next value :\"))\n",
    "    arr.append(y)\n",
    "print(arr)\n",
    "for i  in range(x):\n",
    "    if arr[i] % 2 == 0:\n",
    "        print(arr[i],end=\" \")\n",
    "    i+=1\n",
    "    \n",
    "  \n",
    "    "
   ]
  },
  {
   "cell_type": "code",
   "execution_count": 3,
   "id": "ebd6e64c",
   "metadata": {},
   "outputs": [
    {
     "name": "stdout",
     "output_type": "stream",
     "text": [
      "enter the size of an arry :3\n",
      "enter the next value :1\n",
      "enter the next value :2\n",
      "enter the next value :3\n",
      "array('i', [1, 2, 3])\n",
      "1 3 "
     ]
    }
   ],
   "source": [
    "#printing the only odd numbers from the given array from the user\n",
    "from array import*\n",
    "x = int(input(\"enter the size of an arry :\"))\n",
    "arr = array('i',[])\n",
    "for i in range(x):\n",
    "    y = int(input(\"enter the next value :\"))\n",
    "    arr.append(y)\n",
    "print(arr)\n",
    "for i  in range(x):\n",
    "    if arr[i] % 2 != 0:\n",
    "        print(arr[i],end=\" \")\n",
    "    i+=1\n",
    "    \n",
    "  \n",
    "    "
   ]
  },
  {
   "cell_type": "code",
   "execution_count": 4,
   "id": "e3b7ef6c",
   "metadata": {},
   "outputs": [
    {
     "name": "stdout",
     "output_type": "stream",
     "text": [
      "enter the size of an arry :3\n",
      "enter the next value :1\n",
      "enter the next value :2\n",
      "enter the next value :3\n",
      "array('i', [1, 2, 3])\n",
      "2 "
     ]
    }
   ],
   "source": []
  },
  {
   "cell_type": "code",
   "execution_count": 9,
   "id": "30fdee99",
   "metadata": {},
   "outputs": [
    {
     "name": "stdout",
     "output_type": "stream",
     "text": [
      "enter the size of an arry :4\n",
      "enter the next value :3\n",
      "enter the next value :5\n",
      "enter the next value :2\n",
      "enter the next value :4\n",
      "array('i', [3, 5, 2, 4])\n",
      "2 4 3 5 "
     ]
    }
   ],
   "source": [
    "#printing the  even numbers first and odd numbers last from the given array from the user input\n",
    "from array import*\n",
    "x = int(input(\"enter the size of an arry :\"))\n",
    "arr = array('i',[])\n",
    "for i in range(x):\n",
    "    y = int(input(\"enter the next value :\"))\n",
    "    arr.append(y)\n",
    "print(arr)\n",
    "for i  in range(x):\n",
    "    if arr[i] % 2 == 0:\n",
    "        print(arr[i],end=\" \")\n",
    "    i+=1\n",
    "\n",
    "for j in range(x):\n",
    "    if arr[j] % 2 != 0:\n",
    "            \n",
    "        print(arr[j],end=\" \")\n",
    "    j+=1\n",
    "\n",
    "    \n",
    "  \n",
    "    "
   ]
  },
  {
   "cell_type": "code",
   "execution_count": null,
   "id": "3b60cd5e",
   "metadata": {},
   "outputs": [],
   "source": []
  }
 ],
 "metadata": {
  "kernelspec": {
   "display_name": "Python 3 (ipykernel)",
   "language": "python",
   "name": "python3"
  },
  "language_info": {
   "codemirror_mode": {
    "name": "ipython",
    "version": 3
   },
   "file_extension": ".py",
   "mimetype": "text/x-python",
   "name": "python",
   "nbconvert_exporter": "python",
   "pygments_lexer": "ipython3",
   "version": "3.10.4"
  }
 },
 "nbformat": 4,
 "nbformat_minor": 5
}
