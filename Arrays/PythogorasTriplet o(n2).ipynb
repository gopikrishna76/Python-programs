{
 "cells": [
  {
   "cell_type": "markdown",
   "id": "e008600e",
   "metadata": {},
   "source": [
    "# Given an array of integers, write a function that returns true if there is a triplet (a, b, c) that satisfies a2 + b2 = c2."
   ]
  },
  {
   "cell_type": "markdown",
   "id": "2d40b54d",
   "metadata": {},
   "source": [
    "### Test Cases\n",
    "Input: arr[] = {3, 1, 4, 6, 5} \n",
    "\n",
    "\n",
    "Output: True \n",
    "\n",
    "\n",
    "There is a Pythagorean triplet (3, 4, 5).\n",
    "\n",
    "\n",
    "\n",
    "Input: arr[] = {10, 4, 6, 12, 5}\n",
    "\n",
    "\n",
    "Output: False \n",
    "\n",
    "\n",
    "There is no Pythagorean triplet."
   ]
  },
  {
   "cell_type": "code",
   "execution_count": null,
   "id": "b9bd44dc",
   "metadata": {},
   "outputs": [],
   "source": [
    "def pythogorastriplet(arr,n):   #o(n2) complexity\n",
    "    for i in range(n):\n",
    "        arr[i]=arr[i]*arr[i]\n",
    "    for i in range(n-1,1,-1):\n",
    "        j=0\n",
    "        k=i-1\n",
    "        while j<k:\n",
    "            if arr[j]+arr[k]==arr[i]:\n",
    "                return True\n",
    "            elif arr[j]+arr[k]<arr[i]:\n",
    "                j = j + 1\n",
    "            else:\n",
    "                k = k - 1\n",
    "    return False\n",
    "arr = [3, 1, 4, 6, 5]\n",
    "c=0\n",
    "n=5\n",
    "pythogorastriplet(arr,n)"
   ]
  }
 ],
 "metadata": {
  "kernelspec": {
   "display_name": "Python 3 (ipykernel)",
   "language": "python",
   "name": "python3"
  },
  "language_info": {
   "codemirror_mode": {
    "name": "ipython",
    "version": 3
   },
   "file_extension": ".py",
   "mimetype": "text/x-python",
   "name": "python",
   "nbconvert_exporter": "python",
   "pygments_lexer": "ipython3",
   "version": "3.10.4"
  }
 },
 "nbformat": 4,
 "nbformat_minor": 5
}
