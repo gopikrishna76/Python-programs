{
 "cells": [
  {
   "cell_type": "code",
   "execution_count": 11,
   "id": "9d578a31",
   "metadata": {},
   "outputs": [
    {
     "name": "stdout",
     "output_type": "stream",
     "text": [
      "[6, 5, 4, 3, 1]\n"
     ]
    }
   ],
   "source": [
    "def sortarray(arr):\n",
    "    j=len(arr)\n",
    "    i=0\n",
    "    \n",
    "    while i<j-1:\n",
    "        if arr[i]<arr[i+1]:\n",
    "            arr[i],arr[i+1]=arr[i+1],arr[i]\n",
    "            i=-1\n",
    "        i+=1\n",
    "    return arr\n",
    "arr=[1,3,4,5,6]\n",
    "ans=sortarray(arr)\n",
    "print(ans)"
   ]
  },
  {
   "cell_type": "code",
   "execution_count": 6,
   "id": "27ff3123",
   "metadata": {},
   "outputs": [
    {
     "name": "stdout",
     "output_type": "stream",
     "text": [
      "Original array:  [4, 3, 2, 1]\n",
      "Sorted array:  [1, 2, 3, 4]\n"
     ]
    }
   ],
   "source": [
    "# Python3 code to sort an array of integers\n",
    "# with the help of single loop\n",
    "\n",
    "# Function for Sorting the array\n",
    "# using a single loop\n",
    "def sortArrays(arr):\n",
    "\n",
    "\t# Finding the length of array 'arr'\n",
    "\tlength = len(arr)\n",
    "\n",
    "\t# Sorting using a single loop\n",
    "\tj = 0\n",
    "\n",
    "\twhile j < length - 1:\n",
    "\n",
    "\t\t# Checking the condition for two\n",
    "\t\t# simultaneous elements of the array\n",
    "\t\tif (arr[j] > arr[j + 1]):\n",
    "\n",
    "\t\t\t# Swapping the elements.\n",
    "\t\t\ttemp = arr[j]\n",
    "\t\t\tarr[j] = arr[j + 1]\n",
    "\t\t\tarr[j + 1] = temp\n",
    "\n",
    "\t\t\t# updating the value of j = -1\n",
    "\t\t\t# so after getting updated for j++\n",
    "\t\t\t# in the loop it becomes 0 and\n",
    "\t\t\t# the loop begins from the start.\n",
    "\t\t\tj = -1\n",
    "\t\tj += 1\n",
    "\n",
    "\treturn arr\n",
    "\n",
    "# Driver Code\n",
    "if __name__ == '__main__':\n",
    "\t\n",
    "\t# Declaring an integer array of size 11.\n",
    "\tarr = [4,3,2,1]\n",
    "\n",
    "\t# Printing the original Array.\n",
    "\tprint(\"Original array: \", arr)\n",
    "\n",
    "\t# Sorting the array using a single loop\n",
    "\tarr = sortArrays(arr)\n",
    "\n",
    "\t# Printing the sorted array.\n",
    "\tprint(\"Sorted array: \", arr)\n",
    "\n",
    "# This code is contributed by Mohit Kumar\n"
   ]
  },
  {
   "cell_type": "code",
   "execution_count": null,
   "id": "456fe9da",
   "metadata": {},
   "outputs": [],
   "source": []
  },
  {
   "cell_type": "code",
   "execution_count": null,
   "id": "f524057e",
   "metadata": {},
   "outputs": [],
   "source": []
  }
 ],
 "metadata": {
  "kernelspec": {
   "display_name": "Python 3 (ipykernel)",
   "language": "python",
   "name": "python3"
  },
  "language_info": {
   "codemirror_mode": {
    "name": "ipython",
    "version": 3
   },
   "file_extension": ".py",
   "mimetype": "text/x-python",
   "name": "python",
   "nbconvert_exporter": "python",
   "pygments_lexer": "ipython3",
   "version": "3.9.12"
  }
 },
 "nbformat": 4,
 "nbformat_minor": 5
}
