{
 "cells": [
  {
   "cell_type": "code",
   "execution_count": 8,
   "id": "220ed59c",
   "metadata": {},
   "outputs": [
    {
     "name": "stdout",
     "output_type": "stream",
     "text": [
      "6\n",
      "1\n",
      "2\n",
      "3\n",
      "4\n",
      "5\n",
      "6\n",
      "[1, 2, 3, 4, 5, 6]\n",
      "enter the number2\n",
      "element found 1\n"
     ]
    }
   ],
   "source": [
    "#create an array from user\n",
    "#linear search\n",
    "\n",
    "a=int(input(\"enter the size of an array : \"))\n",
    "b = list()\n",
    "for i in range(a):\n",
    "    x = int(input(\"enter the next value : \"))\n",
    "    b.append(x)\n",
    "print(b)\n",
    "value = int(input(\"enter the  search number : \"))\n",
    "def search(b,a):\n",
    "    for i in range(a):\n",
    "        if b[i]==value:\n",
    "            print(\"element found at index\",i)\n",
    "        \n",
    "        i+=1\n",
    "search(b,a)"
   ]
  },
  {
   "cell_type": "code",
   "execution_count": null,
   "id": "ad093f1f",
   "metadata": {},
   "outputs": [],
   "source": []
  }
 ],
 "metadata": {
  "kernelspec": {
   "display_name": "Python 3 (ipykernel)",
   "language": "python",
   "name": "python3"
  },
  "language_info": {
   "codemirror_mode": {
    "name": "ipython",
    "version": 3
   },
   "file_extension": ".py",
   "mimetype": "text/x-python",
   "name": "python",
   "nbconvert_exporter": "python",
   "pygments_lexer": "ipython3",
   "version": "3.10.4"
  }
 },
 "nbformat": 4,
 "nbformat_minor": 5
}
