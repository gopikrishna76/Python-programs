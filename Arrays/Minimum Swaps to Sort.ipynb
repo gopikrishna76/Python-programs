{
 "cells": [
  {
   "cell_type": "markdown",
   "id": "0282b6ac",
   "metadata": {},
   "source": [
    "Given an array of n distinct elements. Find the minimum number of swaps required to sort the array in strictly increasing order.\n",
    "\n"
   ]
  },
  {
   "cell_type": "markdown",
   "id": "8047f20c",
   "metadata": {},
   "source": [
    "# example\n",
    "Input:\n",
    "\n",
    "nums = {10, 19, 6, 3, 5}\n",
    "\n",
    "Output:\n",
    "2\n",
    "\n",
    "Explaination:\n",
    "\n",
    "swap 10 with 3 and swap 19 with 5."
   ]
  },
  {
   "cell_type": "code",
   "execution_count": 9,
   "id": "e7fe7d2e",
   "metadata": {},
   "outputs": [
    {
     "data": {
      "text/plain": [
       "2"
      ]
     },
     "execution_count": 9,
     "metadata": {},
     "output_type": "execute_result"
    }
   ],
   "source": [
    "def minSwaps(nums):\n",
    "\t\t#Code here\n",
    "    ans = 0\n",
    "    n=len(nums)\n",
    "    temp=[]\n",
    "    temp = nums.copy()\n",
    "    h = {}\n",
    "    temp.sort()\n",
    " \n",
    "    for i in range(n):\n",
    "         #h.[arr[i]\n",
    "        h[nums[i]] = i\n",
    "         \n",
    "    init = 0\n",
    "    for i in range(n):\n",
    " \n",
    "        # This is checking whether\n",
    "        # the current element is\n",
    "        # at the right place or not\n",
    "        if (nums[i] != temp[i]):\n",
    "            ans += 1\n",
    "            init = nums[i]\n",
    " \n",
    "            # If not, swap this element\n",
    "              # with the index of the\n",
    "              # element which should come here\n",
    "            nums[i], nums[h[temp[i]]] = nums[h[temp[i]]], nums[i]\n",
    " \n",
    "            # Update the indexes in\n",
    "              # the hashmap accordingly\n",
    "            h[init] = h[temp[i]]\n",
    "            h[temp[i]] = i\n",
    "             \n",
    "    return ans\n",
    "nums = [10, 19, 6, 3, 5]\n",
    "minSwaps(nums)"
   ]
  },
  {
   "cell_type": "code",
   "execution_count": null,
   "id": "63ff7b57",
   "metadata": {},
   "outputs": [],
   "source": []
  }
 ],
 "metadata": {
  "kernelspec": {
   "display_name": "Python 3 (ipykernel)",
   "language": "python",
   "name": "python3"
  },
  "language_info": {
   "codemirror_mode": {
    "name": "ipython",
    "version": 3
   },
   "file_extension": ".py",
   "mimetype": "text/x-python",
   "name": "python",
   "nbconvert_exporter": "python",
   "pygments_lexer": "ipython3",
   "version": "3.10.4"
  }
 },
 "nbformat": 4,
 "nbformat_minor": 5
}
