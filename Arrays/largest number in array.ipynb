{
 "cells": [
  {
   "cell_type": "markdown",
   "id": "16a2e5a4",
   "metadata": {},
   "source": [
    "# largest number in array\n",
    "a=int(input())\n",
    "b=list()\n",
    "for i in range(a):\n",
    "    x=int(input())\n",
    "    b.append(x)\n",
    "print(b)\n",
    "i=1\n",
    "res=0\n",
    "for i in range(a):\n",
    "    if (b[i]> b[res]):\n",
    "        res=i\n",
    "    i+=1\n",
    "print(res)"
   ]
  },
  {
   "cell_type": "code",
   "execution_count": null,
   "id": "1c9aafa9",
   "metadata": {},
   "outputs": [],
   "source": []
  },
  {
   "cell_type": "code",
   "execution_count": null,
   "id": "17f9e68b",
   "metadata": {},
   "outputs": [],
   "source": []
  }
 ],
 "metadata": {
  "kernelspec": {
   "display_name": "Python 3 (ipykernel)",
   "language": "python",
   "name": "python3"
  },
  "language_info": {
   "codemirror_mode": {
    "name": "ipython",
    "version": 3
   },
   "file_extension": ".py",
   "mimetype": "text/x-python",
   "name": "python",
   "nbconvert_exporter": "python",
   "pygments_lexer": "ipython3",
   "version": "3.10.4"
  }
 },
 "nbformat": 4,
 "nbformat_minor": 5
}
