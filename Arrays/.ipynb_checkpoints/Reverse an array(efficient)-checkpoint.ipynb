{
 "cells": [
  {
   "cell_type": "markdown",
   "id": "d028eb1b",
   "metadata": {},
   "source": [
    "# Reverse an array"
   ]
  },
  {
   "cell_type": "code",
   "execution_count": 1,
   "id": "dff55aae",
   "metadata": {},
   "outputs": [
    {
     "name": "stdout",
     "output_type": "stream",
     "text": [
      "enter the size of an array : 5\n",
      "enter next value :3\n",
      "enter next value :2\n",
      "enter next value :1\n",
      "enter next value :4\n",
      "enter next value :5\n",
      "[3, 2, 1, 4, 5]\n",
      "[5, 4, 1, 2, 3]\n"
     ]
    }
   ],
   "source": [
    "n=int(input(\"enter the size of an array : \"))\n",
    "arr=list()\n",
    "for i in range(n):\n",
    "    x=int(input(\"enter next value :\"))\n",
    "    arr.append(x)\n",
    "print(arr)\n",
    "low=0\n",
    "high=(n-1)       #high&low is indexing purpose used \n",
    "while (low<high):\n",
    "    temp=arr[low]\n",
    "    arr[low]=arr[high]\n",
    "    arr[high]=temp\n",
    "    low+=1\n",
    "    high-=1\n",
    "print(arr)"
   ]
  },
  {
   "cell_type": "code",
   "execution_count": 3,
   "id": "48dba9ca",
   "metadata": {},
   "outputs": [
    {
     "name": "stdout",
     "output_type": "stream",
     "text": [
      "enter the size of an array : 4\n",
      "enter next value :4\n",
      "enter next value :3\n",
      "enter next value :2\n",
      "enter next value :1\n",
      "[4, 3, 2, 1]\n",
      "[4, 3, 2, 1]\n"
     ]
    }
   ],
   "source": []
  },
  {
   "cell_type": "markdown",
   "id": "da727843",
   "metadata": {},
   "source": [
    "## "
   ]
  }
 ],
 "metadata": {
  "kernelspec": {
   "display_name": "Python 3 (ipykernel)",
   "language": "python",
   "name": "python3"
  },
  "language_info": {
   "codemirror_mode": {
    "name": "ipython",
    "version": 3
   },
   "file_extension": ".py",
   "mimetype": "text/x-python",
   "name": "python",
   "nbconvert_exporter": "python",
   "pygments_lexer": "ipython3",
   "version": "3.9.12"
  }
 },
 "nbformat": 4,
 "nbformat_minor": 5
}
