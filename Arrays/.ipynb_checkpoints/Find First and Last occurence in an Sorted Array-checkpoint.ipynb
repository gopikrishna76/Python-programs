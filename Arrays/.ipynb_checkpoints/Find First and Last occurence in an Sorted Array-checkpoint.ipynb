{
 "cells": [
  {
   "cell_type": "code",
   "execution_count": 10,
   "id": "ae6e3817",
   "metadata": {},
   "outputs": [
    {
     "name": "stdout",
     "output_type": "stream",
     "text": [
      "First Occurrence = 8\n",
      "Last Occurrence = 9\n"
     ]
    }
   ],
   "source": [
    "# Python3 program to find first and\n",
    "# last occurrences of a number in a\n",
    "# given sorted array\n",
    "\n",
    "# If x is present in arr[] then\n",
    "# returns the index of FIRST\n",
    "# occurrence of x in arr[0..n-1],\n",
    "# otherwise returns -1\n",
    "def first(arr, x, n):\n",
    "\t\n",
    "\tlow = 0\n",
    "\thigh = n - 1\n",
    "\tres = -1\n",
    "\t\n",
    "\twhile (low <= high):\n",
    "\t\t\n",
    "\t\t# Normal Binary Search Logic\n",
    "\t\tmid = (low + high) // 2\n",
    "\t\t\n",
    "\t\tif arr[mid] > x:\n",
    "\t\t\thigh = mid - 1\n",
    "\t\telif arr[mid] < x:\n",
    "\t\t\tlow = mid + 1\n",
    "\t\t\t\n",
    "\t\t# If arr[mid] is same as x, we\n",
    "\t\t# update res and move to the left\n",
    "\t\t# half.\n",
    "\t\telse:\n",
    "\t\t\tres = mid\n",
    "\t\t\thigh = mid - 1\n",
    "\n",
    "\treturn res\n",
    "\n",
    "# If x is present in arr[] then returns\n",
    "# the index of FIRST occurrence of x in\n",
    "# arr[0..n-1], otherwise returns -1\n",
    "def last(arr, x, n):\n",
    "\t\n",
    "\tlow = 0\n",
    "\thigh = n - 1\n",
    "\tres = -1\n",
    "\t\n",
    "\twhile(low <= high):\n",
    "\t\t\n",
    "\t\t# Normal Binary Search Logic\n",
    "\t\tmid = (low + high) // 2\n",
    "\t\t\n",
    "\t\tif arr[mid] > x:\n",
    "\t\t\thigh = mid - 1\n",
    "\t\telif arr[mid] < x:\n",
    "\t\t\tlow = mid + 1\n",
    "\t\t\t\n",
    "\t\t# If arr[mid] is same as x, we\n",
    "\t\t# update res and move to the Right\n",
    "\t\t# half.\n",
    "\t\telse:\n",
    "\t\t\tres = mid\n",
    "\t\t\tlow = mid + 1\n",
    "\n",
    "\treturn res\n",
    "\n",
    "# Driver code\n",
    "arr = [ 1, 2, 2, 2, 2, 3, 4, 7, 8, 8 ]\n",
    "n = len(arr)\n",
    "x = 8\n",
    "\n",
    "print(\"First Occurrence =\", first(arr, x, n))\n",
    "print(\"Last Occurrence =\", last(arr, x, n))\n",
    "\n",
    "\n"
   ]
  },
  {
   "cell_type": "code",
   "execution_count": null,
   "id": "fcfb978e",
   "metadata": {},
   "outputs": [],
   "source": []
  }
 ],
 "metadata": {
  "kernelspec": {
   "display_name": "Python 3 (ipykernel)",
   "language": "python",
   "name": "python3"
  },
  "language_info": {
   "codemirror_mode": {
    "name": "ipython",
    "version": 3
   },
   "file_extension": ".py",
   "mimetype": "text/x-python",
   "name": "python",
   "nbconvert_exporter": "python",
   "pygments_lexer": "ipython3",
   "version": "3.9.12"
  }
 },
 "nbformat": 4,
 "nbformat_minor": 5
}
