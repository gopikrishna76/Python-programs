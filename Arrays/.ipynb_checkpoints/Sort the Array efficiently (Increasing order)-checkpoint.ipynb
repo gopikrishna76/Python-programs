{
 "cells": [
  {
   "cell_type": "markdown",
   "id": "a31e890f",
   "metadata": {},
   "source": [
    "                  \n"
   ]
  },
  {
   "cell_type": "markdown",
   "id": "c835b678",
   "metadata": {},
   "source": [
    "# Sort the Array efficiently  [O (n) ]"
   ]
  },
  {
   "cell_type": "code",
   "execution_count": 11,
   "id": "ffa177bd",
   "metadata": {},
   "outputs": [
    {
     "data": {
      "text/plain": [
       "[1, 2, 3, 4, 5, 6]"
      ]
     },
     "execution_count": 11,
     "metadata": {},
     "output_type": "execute_result"
    }
   ],
   "source": [
    "def sortArrays(arr):\n",
    " \n",
    "    # Finding the length of array 'arr'\n",
    "    length = len(arr)\n",
    " \n",
    "    # Sorting using a single loop\n",
    "    j = 0\n",
    " \n",
    "    while j < length - 1:\n",
    " \n",
    "        # Checking the condition for two\n",
    "        # simultaneous elements of the array\n",
    "        if (arr[j] > arr[j + 1]):\n",
    " \n",
    "            # Swapping the elements.\n",
    "            temp = arr[j]\n",
    "            arr[j] = arr[j + 1]\n",
    "            arr[j + 1] = temp\n",
    " \n",
    "            # updating the value of j = -1\n",
    "            # so after getting updated for j++\n",
    "            # in the loop it becomes 0 and\n",
    "            # the loop begins from the start.\n",
    "            j = -1\n",
    "        j += 1\n",
    " \n",
    "    return arr\n",
    "arr=[6,5,4,3,2,1]\n",
    "sortArrays(arr)"
   ]
  },
  {
   "cell_type": "code",
   "execution_count": null,
   "id": "2d1f26b3",
   "metadata": {},
   "outputs": [],
   "source": []
  }
 ],
 "metadata": {
  "kernelspec": {
   "display_name": "Python 3 (ipykernel)",
   "language": "python",
   "name": "python3"
  },
  "language_info": {
   "codemirror_mode": {
    "name": "ipython",
    "version": 3
   },
   "file_extension": ".py",
   "mimetype": "text/x-python",
   "name": "python",
   "nbconvert_exporter": "python",
   "pygments_lexer": "ipython3",
   "version": "3.9.12"
  }
 },
 "nbformat": 4,
 "nbformat_minor": 5
}
