{
 "cells": [
  {
   "cell_type": "markdown",
   "id": "1fdb1324",
   "metadata": {},
   "source": [
    "#  Running Sum of 1d Array "
   ]
  },
  {
   "cell_type": "raw",
   "id": "00add9d3",
   "metadata": {},
   "source": [
    "''' <<<<<<<<<\n",
    "\n",
    "\n",
    "Given an array nums. We define a running sum of an array as runningSum[i] = sum(nums[0]…nums[i]).\n",
    "\n",
    "Return the running sum of nums.\n",
    "\n",
    " \n",
    "\n",
    "Example 1:\n",
    "\n",
    "Input: nums = [1,2,3,4]\n",
    "Output: [1,3,6,10]\n",
    "Explanation: Running sum is obtained as follows: [1, 1+2, 1+2+3, 1+2+3+4].\n",
    "Example 2:\n",
    "\n",
    "Input: nums = [1,1,1,1,1]\n",
    "Output: [1,2,3,4,5]\n",
    "Explanation: Running sum is obtained as follows: [1, 1+1, 1+1+1, 1+1+1+1, 1+1+1+1+1].\n",
    "Example 3:\n",
    "\n",
    "Input: nums = [3,1,2,10,1]\n",
    "Output: [3,4,6,16,17]\n",
    "\n",
    "'''"
   ]
  },
  {
   "cell_type": "code",
   "execution_count": 2,
   "id": "adb88330",
   "metadata": {},
   "outputs": [
    {
     "data": {
      "text/plain": [
       "[1, 3, 6, 10, 15]"
      ]
     },
     "execution_count": 2,
     "metadata": {},
     "output_type": "execute_result"
    }
   ],
   "source": [
    "def sum_of_array(arr,n):\n",
    "    res = [0]*n\n",
    "    sum = 0\n",
    "    for i in range(n):\n",
    "        sum += arr[i]\n",
    "        res[i] = sum\n",
    "    return res\n",
    "\n",
    "arr = [1,2,3,4,5]\n",
    "n = len(arr)\n",
    "\n",
    "sum_of_array(arr,n)"
   ]
  },
  {
   "cell_type": "markdown",
   "id": "08a3ec56",
   "metadata": {},
   "source": [
    "# FIND PIVOT INDEX IN ARRAY"
   ]
  },
  {
   "cell_type": "raw",
   "id": "905db6ce",
   "metadata": {},
   "source": [
    "'''  <<<<<<<  >>>>>>\n",
    "\n",
    "Given an array of integers nums, calculate the pivot index of this array.\n",
    "\n",
    "The pivot index is the index where the sum of all the numbers strictly to the left of the index is equal to the sum of all the numbers strictly to the index's right.\n",
    "\n",
    "If the index is on the left edge of the array, then the left sum is 0 because there are no elements to the left. This also applies to the right edge of the array.\n",
    "\n",
    "Return the leftmost pivot index. If no such index exists, return -1.\n",
    "\n",
    " \n",
    "\n",
    "Example 1:\n",
    "\n",
    "Input: nums = [1,7,3,6,5,6]\n",
    "Output: 3\n",
    "Explanation:\n",
    "The pivot index is 3.\n",
    "Left sum = nums[0] + nums[1] + nums[2] = 1 + 7 + 3 = 11\n",
    "Right sum = nums[4] + nums[5] = 5 + 6 = 11\n",
    "Example 2:\n",
    "\n",
    "Input: nums = [1,2,3]\n",
    "Output: -1\n",
    "Explanation:\n",
    "There is no index that satisfies the conditions in the problem statement.\n",
    "Example 3:\n",
    "\n",
    "Input: nums = [2,1,-1]\n",
    "Output: 0\n",
    "Explanation:\n",
    "The pivot index is 0.\n",
    "Left sum = 0 (no elements to the left of index 0)\n",
    "Right sum = nums[1] + nums[2] = 1 + -1 = 0\n",
    " \n",
    " '''"
   ]
  },
  {
   "cell_type": "code",
   "execution_count": 4,
   "id": "4a92de2b",
   "metadata": {},
   "outputs": [
    {
     "data": {
      "text/plain": [
       "2"
      ]
     },
     "execution_count": 4,
     "metadata": {},
     "output_type": "execute_result"
    }
   ],
   "source": [
    "def pivot(arr, n):\n",
    "    \n",
    "    left = arr[0]\n",
    "    right = sum(arr)\n",
    "    \n",
    "    for i in range(n):\n",
    "        if left==right:\n",
    "            return  i  #prints the index\n",
    "          \n",
    "        if i==n-1:\n",
    "            return -1\n",
    "        \n",
    "        left += arr[i+1]\n",
    "        right -= arr[i]\n",
    "        \n",
    "    return -1\n",
    "\n",
    "arr = [2,0,3,1,1,0]\n",
    "n   = len(arr)\n",
    "\n",
    "pivot(arr,n)"
   ]
  },
  {
   "cell_type": "markdown",
   "id": "3969dabb",
   "metadata": {},
   "source": [
    "# ISOMOPHORIC STRINGS"
   ]
  },
  {
   "cell_type": "raw",
   "id": "d007636a",
   "metadata": {},
   "source": [
    "Given two strings s and t, determine if they are isomorphic.\n",
    "\n",
    "Two strings s and t are isomorphic if the characters in s can be replaced to get t.\n",
    "\n",
    "All occurrences of a character must be replaced with another character while preserving the order of characters. No two characters may map to the same character, but a character may map to itself.\n",
    "\n",
    " \n",
    "\n",
    "Example 1:\n",
    "\n",
    "Input: s = \"egg\", t = \"add\"\n",
    "Output: true\n",
    "\n",
    "Example 2:\n",
    "\n",
    "Input: s = \"foo\", t = \"bar\"\n",
    "Output: false\n",
    "\n",
    "Example 3:\n",
    "\n",
    "Input: s = \"paper\", t = \"title\"\n",
    "Output: true"
   ]
  },
  {
   "cell_type": "code",
   "execution_count": 1,
   "id": "6d9f12f0",
   "metadata": {},
   "outputs": [
    {
     "data": {
      "text/plain": [
       "True"
      ]
     },
     "execution_count": 1,
     "metadata": {},
     "output_type": "execute_result"
    }
   ],
   "source": [
    "def isomophoric_string(a,b):\n",
    "    map1 = map2 = []\n",
    "    for idx in a:\n",
    "        map1.append(a.index(idx))\n",
    "    for idx in b:\n",
    "        map2.append(b.index(idx))\n",
    "        \n",
    "    if map1==map2:\n",
    "        return True\n",
    "    return False\n",
    "\n",
    "a = 'egg'\n",
    "b = 'add'\n",
    "        \n",
    "isomophoric_string(a,b)"
   ]
  },
  {
   "cell_type": "markdown",
   "id": "6145e27f",
   "metadata": {},
   "source": [
    "# SUBSEQUENCE IN STRING"
   ]
  },
  {
   "cell_type": "raw",
   "id": "5faa3ac3",
   "metadata": {},
   "source": [
    "Given two strings s and t, return true if s is a subsequence of t, or false otherwise.\n",
    "\n",
    "A subsequence of a string is a new string that is formed from the original string by deleting some (can be none) of the characters without disturbing the relative positions of the remaining characters. (i.e., \"ace\" is a subsequence of \"abcde\" while \"aec\" is not).\n",
    "\n",
    " \n",
    "\n",
    "Example 1:\n",
    "\n",
    "Input: s = \"abc\", t = \"ahbgdc\"\n",
    "Output: true\n",
    "    \n",
    "Example 2:\n",
    "\n",
    "Input: s = \"axc\", t = \"ahbgdc\"\n",
    "Output: false"
   ]
  },
  {
   "cell_type": "code",
   "execution_count": 1,
   "id": "d9009ca6",
   "metadata": {},
   "outputs": [
    {
     "data": {
      "text/plain": [
       "True"
      ]
     },
     "execution_count": 1,
     "metadata": {},
     "output_type": "execute_result"
    }
   ],
   "source": [
    "def subsequence_in_string(a, b):\n",
    "    \n",
    "    i, j = 0, 0\n",
    "    \n",
    "    while i < len(a) and j < len(b):\n",
    "        if a[i] == b[j]:\n",
    "            i += 1\n",
    "        j += 1\n",
    "    return i==len(a)\n",
    "\n",
    "a = 'abc'\n",
    "b = 'ahbgdc'\n",
    "\n",
    "subsequence_in_string(a, b)"
   ]
  },
  {
   "cell_type": "markdown",
   "id": "a80b149e",
   "metadata": {},
   "source": [
    "# REVERSING A LINKED LIST"
   ]
  },
  {
   "cell_type": "code",
   "execution_count": 2,
   "id": "19e7d078",
   "metadata": {},
   "outputs": [
    {
     "name": "stdout",
     "output_type": "stream",
     "text": [
      "50 40 30 20 10 \n",
      "10 20 30 40 50 \n"
     ]
    }
   ],
   "source": [
    "class Node:\n",
    "    def __init__(self,key):\n",
    "        self.key = key\n",
    "        self.next = None\n",
    "        \n",
    "class linkedList:\n",
    "    def __init__(self):\n",
    "        self.head = None\n",
    "        \n",
    "    def push_node(self,new_data):\n",
    "        new_node = Node(new_data)\n",
    "        new_node.next = self.head\n",
    "        self.head = new_node\n",
    "        \n",
    "    def reverse(self):\n",
    "        curr = self.head\n",
    "        prev = None\n",
    "        while curr:\n",
    "            next = curr.next\n",
    "            curr.next = prev\n",
    "            prev = curr\n",
    "            curr = next\n",
    "        self.head = prev\n",
    "    \n",
    "    def print_List(self):\n",
    "        curr1 = self.head\n",
    "        while curr1:\n",
    "            print(curr1.key,end=\" \")\n",
    "            curr1 = curr1.next   \n",
    "        print()\n",
    "    \n",
    "        \n",
    "\n",
    "    \n",
    "Object = linkedList()\n",
    "Object.push_node(10)\n",
    "Object.push_node(20)\n",
    "Object.push_node(30)\n",
    "Object.push_node(40)\n",
    "Object.push_node(50)\n",
    "\n",
    "#given linked list\n",
    "Object.print_List()\n",
    "\n",
    "#reverse linked list\n",
    "Object.reverse()\n",
    "Object.print_List()\n",
    "\n",
    "    "
   ]
  },
  {
   "cell_type": "markdown",
   "id": "2a441a80",
   "metadata": {},
   "source": [
    "# MERGE TWO SORTED LISTS"
   ]
  },
  {
   "cell_type": "code",
   "execution_count": 30,
   "id": "0d341600",
   "metadata": {},
   "outputs": [
    {
     "name": "stdout",
     "output_type": "stream",
     "text": [
      "30 20 10 35 25 15 5 "
     ]
    }
   ],
   "source": [
    "class Node:\n",
    "    def __init__(self, data):\n",
    "        self.data = data\n",
    "        self.next = None\n",
    "\n",
    "class linkedList1:\n",
    "    def __init__(self):\n",
    "        self.head = None\n",
    "        \n",
    "    def push_node(self, new_data):\n",
    "        new_node = Node(new_data)\n",
    "        new_node.next = self.head\n",
    "        self.head = new_node\n",
    "        \n",
    "    def print_sortedList(self):\n",
    "        curr = self.head\n",
    "        while curr:\n",
    "            print(curr.data,end=\" \")\n",
    "            curr =  curr.next\n",
    "            \n",
    "        \n",
    "def merge_sorted_lists(list1, list2):\n",
    "    if list1 == None:\n",
    "        return list2\n",
    "    if list2 == None:\n",
    "        return list1\n",
    "    \n",
    "    head = tail = None\n",
    "    \n",
    "    if list1.data <= list2.data:\n",
    "        head  = tail = list1\n",
    "        list1 = list1.next\n",
    "    else:\n",
    "        head  = tail = list2\n",
    "        list2 = list2.next\n",
    "    \n",
    "    while list1 != None and list2 != None:\n",
    "        if list1.data <= list2.data:\n",
    "            tail.next = list1\n",
    "            tail = list1\n",
    "            list1 = list1.next\n",
    "        else:\n",
    "            tail.next = list2\n",
    "            tail = list2\n",
    "            list2 = list2.next\n",
    "    \n",
    "    if list1==None:\n",
    "        tail.next = list2\n",
    "    else:\n",
    "        tail.next = list1\n",
    "    return head\n",
    "        \n",
    "        \n",
    "\n",
    "    \n",
    "list11 = linkedList1()\n",
    "list11.push_node(10)\n",
    "list11.push_node(20)\n",
    "list11.push_node(30)\n",
    "\n",
    "list1 = list11.head\n",
    "   \n",
    "list22 = linkedList1()\n",
    "list22.push_node(5)\n",
    "list22.push_node(15)\n",
    "list22.push_node(25)\n",
    "list22.push_node(35)\n",
    "\n",
    "list2 = list22.head\n",
    "\n",
    "\n",
    "list11.head = merge_sorted_lists(list1, list2)\n",
    "        \n",
    "list11.print_sortedList()"
   ]
  },
  {
   "cell_type": "markdown",
   "id": "972e20ff",
   "metadata": {},
   "source": [
    "# Best Time to Buy and Sell Stock"
   ]
  },
  {
   "cell_type": "code",
   "execution_count": 1,
   "id": "d446ceaa",
   "metadata": {},
   "outputs": [
    {
     "data": {
      "text/plain": [
       "0"
      ]
     },
     "execution_count": 1,
     "metadata": {},
     "output_type": "execute_result"
    }
   ],
   "source": [
    "def maxProfit(prices):\n",
    "    min_price = float('inf')\n",
    "    max_profit = 0       \n",
    "    for i in range(len(prices)):\n",
    "        if prices[i] < min_price:\n",
    "            min_price = prices[i]\n",
    "        elif prices[i] - min_price > max_profit:\n",
    "            max_profit = prices[i] - min_price\n",
    "    return max_profit\n",
    "\n",
    "prices = [8,6,4,3,2,1]\n",
    " \n",
    "maxProfit(prices)"
   ]
  },
  {
   "cell_type": "markdown",
   "id": "f7ec7fa0",
   "metadata": {},
   "source": [
    "# MIDDLE OF LINKED LIST"
   ]
  },
  {
   "cell_type": "code",
   "execution_count": 2,
   "id": "087c0cd8",
   "metadata": {},
   "outputs": [
    {
     "data": {
      "text/plain": [
       "5"
      ]
     },
     "execution_count": 2,
     "metadata": {},
     "output_type": "execute_result"
    }
   ],
   "source": [
    "class Node:\n",
    "    def __init__(self,key):\n",
    "        self.key = key\n",
    "        self.next = None\n",
    "        \n",
    "class Linkedlist:\n",
    "    def __init__(self):\n",
    "        self.head = None\n",
    "        \n",
    "    def add_node(self, new_data):\n",
    "        new_node = Node(new_data)\n",
    "        new_node.next = self.head\n",
    "        self.head = new_node\n",
    "        \n",
    "    def middle_of_linkedList(self):\n",
    "        slow = fast = curr = self.head\n",
    "        while fast and fast.next:\n",
    "            slow = slow.next\n",
    "            fast = fast.next.next\n",
    "        return slow.key\n",
    "       \n",
    "        \n",
    "    \n",
    "        \n",
    "llist = Linkedlist()\n",
    "llist.add_node(2)\n",
    "llist.add_node(3)\n",
    "llist.add_node(4)\n",
    "llist.add_node(5)\n",
    "llist.add_node(6)\n",
    "llist.add_node(7)\n",
    "llist.add_node(8)\n",
    "\n",
    "llist.middle_of_linkedList()"
   ]
  },
  {
   "cell_type": "markdown",
   "id": "c6e37b62",
   "metadata": {},
   "source": [
    "# LOOP IN LINKEDLIST"
   ]
  },
  {
   "cell_type": "raw",
   "id": "00a2aa0b",
   "metadata": {},
   "source": [
    "Given the head of a linked list, return the node where the cycle begins. If there is no cycle, return null.\n",
    "\n",
    "There is a cycle in a linked list if there is some node in the list that can be reached again by continuously following the next pointer. Internally, pos is used to denote the index of the node that tail's next pointer is connected to (0-indexed). It is -1 if there is no cycle. Note that pos is not passed as a parameter.\n",
    "\n",
    "Do not modify the linked list.\n",
    "\n",
    " \n",
    "\n",
    "Example 1:\n",
    "\n",
    "\n",
    "Input: head = [3,2,0,-4], pos = 1\n",
    "Output: tail connects to node index 1\n",
    "Explanation: There is a cycle in the linked list, where tail connects to the second node.\n",
    "Example 2:\n",
    "\n",
    "\n",
    "Input: head = [1,2], pos = 0\n",
    "Output: tail connects to node index 0\n",
    "Explanation: There is a cycle in the linked list, where tail connects to the first node.\n",
    "Example 3:\n",
    "\n",
    "\n",
    "Input: head = [1], pos = -1\n",
    "Output: no cycle\n",
    "Explanation: There is no cycle in the linked list.\n",
    " "
   ]
  },
  {
   "cell_type": "code",
   "execution_count": 16,
   "id": "a3f97710",
   "metadata": {},
   "outputs": [
    {
     "data": {
      "text/plain": [
       "7"
      ]
     },
     "execution_count": 16,
     "metadata": {},
     "output_type": "execute_result"
    }
   ],
   "source": [
    "class Node:\n",
    "    def __init__(self,key):\n",
    "        self.key = key\n",
    "        self.next = None\n",
    "        \n",
    "class Linkedlist:\n",
    "    def __init__(self):\n",
    "        self.head = None\n",
    "        \n",
    "    def add_node(self, new_data):\n",
    "        new_node = Node(new_data)\n",
    "        new_node.next = self.head\n",
    "        self.head = new_node\n",
    "        \n",
    "    def middle_of_linkedList(self):\n",
    "        slow = fast = curr = entry = self.head\n",
    "        while fast and fast.next:\n",
    "            slow = slow.next\n",
    "            fast = fast.next.next\n",
    "            if slow==fast:\n",
    "                while slow!=entry:\n",
    "                    slow = slow.next\n",
    "                    entry = entry.next\n",
    "                return entry.key\n",
    "        return 'loop not found in the list'\n",
    "        \n",
    "       \n",
    "        \n",
    "    \n",
    "        \n",
    "llist = Linkedlist()\n",
    "llist.add_node(2)\n",
    "llist.add_node(3)\n",
    "llist.add_node(4)\n",
    "llist.add_node(5)\n",
    "llist.add_node(6)\n",
    "llist.add_node(7)\n",
    "llist.add_node(8)\n",
    "\n",
    "llist.head.next.next.next.next = llist.head.next\n",
    "\n",
    "llist.middle_of_linkedList()"
   ]
  },
  {
   "cell_type": "markdown",
   "id": "9f10b657",
   "metadata": {},
   "source": [
    "# LONGEST PALINDROME IN STRING"
   ]
  },
  {
   "cell_type": "code",
   "execution_count": 17,
   "id": "6909bcb0",
   "metadata": {},
   "outputs": [
    {
     "data": {
      "text/plain": [
       "1"
      ]
     },
     "execution_count": 17,
     "metadata": {},
     "output_type": "execute_result"
    }
   ],
   "source": [
    "from collections import Counter\n",
    "def palindrome_string(s):\n",
    "    result = 0\n",
    "    add = 0\n",
    "    \n",
    "    for count in Counter(s).values():\n",
    "        if count%2==0:\n",
    "            result += 1\n",
    "        else:\n",
    "            add += 1\n",
    "            result += count -1\n",
    "    if add >= 1:\n",
    "        result +=1 \n",
    "    return result\n",
    "        \n",
    "    \n",
    "    \n",
    "\n",
    "s = \"a\"\n",
    "\n",
    "palindrome_string(s)"
   ]
  },
  {
   "cell_type": "code",
   "execution_count": null,
   "id": "f03ee5dc",
   "metadata": {},
   "outputs": [],
   "source": []
  }
 ],
 "metadata": {
  "kernelspec": {
   "display_name": "Python 3 (ipykernel)",
   "language": "python",
   "name": "python3"
  },
  "language_info": {
   "codemirror_mode": {
    "name": "ipython",
    "version": 3
   },
   "file_extension": ".py",
   "mimetype": "text/x-python",
   "name": "python",
   "nbconvert_exporter": "python",
   "pygments_lexer": "ipython3",
   "version": "3.9.12"
  }
 },
 "nbformat": 4,
 "nbformat_minor": 5
}
