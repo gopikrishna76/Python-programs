{
 "cells": [
  {
   "cell_type": "markdown",
   "id": "ac829226",
   "metadata": {},
   "source": [
    "# 1.Fibonacci series"
   ]
  },
  {
   "cell_type": "code",
   "execution_count": 1,
   "id": "31185c22",
   "metadata": {},
   "outputs": [
    {
     "name": "stdout",
     "output_type": "stream",
     "text": [
      "Enter the number : 5\n",
      "0 1 1 2 3 "
     ]
    }
   ],
   "source": [
    "def fibonacci(n):\n",
    "    first = next = 0\n",
    "    second = 1\n",
    "    if n<=0:\n",
    "        return 'there is no fibonacci series'\n",
    "    else:\n",
    "        for i in range(1,n+1):\n",
    "            print(first,end=\" \")\n",
    "            next = first+second\n",
    "            first = second\n",
    "            second = next\n",
    "            \n",
    "            \n",
    "n = int(input(\"Enter the number : \"))\n",
    "\n",
    "fibonacci(n)"
   ]
  },
  {
   "cell_type": "markdown",
   "id": "1a61c481",
   "metadata": {},
   "source": [
    "# 2.checking for prime number\n"
   ]
  },
  {
   "cell_type": "code",
   "execution_count": 2,
   "id": "db9e2fe0",
   "metadata": {},
   "outputs": [
    {
     "name": "stdout",
     "output_type": "stream",
     "text": [
      "entee the number from your side(user side) : 5\n"
     ]
    },
    {
     "data": {
      "text/plain": [
       "'it is a prime number'"
      ]
     },
     "execution_count": 2,
     "metadata": {},
     "output_type": "execute_result"
    }
   ],
   "source": [
    "import math\n",
    "\n",
    "def checkingPrimeNumber(number):\n",
    "    flag = 0\n",
    "    if number>1:\n",
    "        for i in range(2,int(math.sqrt(number))+1):\n",
    "            if number%i==0:\n",
    "                flag = 1\n",
    "                break\n",
    "        if flag==0:\n",
    "            return \"it is a prime number\"\n",
    "        else:\n",
    "            return \"not a prime number\"\n",
    "    return \"not a prime number\"\n",
    "\n",
    "number = int(input(\"entee the number from your side(user side) : \"))\n",
    "\n",
    "checkingPrimeNumber(number)"
   ]
  },
  {
   "cell_type": "markdown",
   "id": "8fa3b1e1",
   "metadata": {},
   "source": [
    "# 3.String palindrome"
   ]
  },
  {
   "cell_type": "code",
   "execution_count": 3,
   "id": "32c3e189",
   "metadata": {},
   "outputs": [
    {
     "data": {
      "text/plain": [
       "'given string is a palindrome'"
      ]
     },
     "execution_count": 3,
     "metadata": {},
     "output_type": "execute_result"
    }
   ],
   "source": [
    "def string_palindrome(a):\n",
    "    n = len(a)\n",
    "    for i in range(0,n//2):\n",
    "        if a[i]!= a[n-i-1]:\n",
    "            return \"Not a palindromic string\"\n",
    "    return \"given string is a palindrome\"\n",
    "\n",
    "a = \"dad\"\n",
    "#simple line code                print(a[::-1]) \n",
    "\n",
    "string_palindrome(a)"
   ]
  },
  {
   "cell_type": "markdown",
   "id": "34125a91",
   "metadata": {},
   "source": [
    "# 4. Integer palindrome"
   ]
  },
  {
   "cell_type": "code",
   "execution_count": 4,
   "id": "d10d2253",
   "metadata": {},
   "outputs": [
    {
     "name": "stdout",
     "output_type": "stream",
     "text": [
      "Enter the number : 545\n"
     ]
    },
    {
     "data": {
      "text/plain": [
       "'palindrome_number'"
      ]
     },
     "execution_count": 4,
     "metadata": {},
     "output_type": "execute_result"
    }
   ],
   "source": [
    "def palindrome(n):\n",
    "    temp = n\n",
    "    palindrome_number = 0\n",
    "    while n>0:\n",
    "        rev = n%10\n",
    "        palindrome_number = (palindrome_number *10)+rev\n",
    "        n = n//10\n",
    "    return 'palindrome_number' if(palindrome_number==temp) else \"not a palindrome\"\n",
    "\n",
    "n = int(input(\"Enter the number : \"))\n",
    "\n",
    "palindrome(n)"
   ]
  },
  {
   "cell_type": "markdown",
   "id": "94f03a21",
   "metadata": {},
   "source": [
    "# 5.Armstrong Number"
   ]
  },
  {
   "cell_type": "code",
   "execution_count": 6,
   "id": "0995d62a",
   "metadata": {},
   "outputs": [
    {
     "name": "stdout",
     "output_type": "stream",
     "text": [
      "enter the number : 678\n"
     ]
    },
    {
     "data": {
      "text/plain": [
       "'not an armstrong number'"
      ]
     },
     "execution_count": 6,
     "metadata": {},
     "output_type": "execute_result"
    }
   ],
   "source": [
    "def armstrong(n):\n",
    "    length = len(str(n))\n",
    "    sum = 0\n",
    "    temp = n\n",
    "    while n!=0:\n",
    "        rev = n%10\n",
    "        sum = sum + (rev**length)\n",
    "        n = n//10\n",
    "    return \"armstrong number\" if (sum==temp) else \"not an armstrong number\"\n",
    "\n",
    "n = int(input(\"enter the number : \"))\n",
    "\n",
    "armstrong(n)"
   ]
  },
  {
   "cell_type": "markdown",
   "id": "43aebcf5",
   "metadata": {},
   "source": [
    "# 6.Factorial program"
   ]
  },
  {
   "cell_type": "code",
   "execution_count": 27,
   "id": "81295abb",
   "metadata": {},
   "outputs": [
    {
     "name": "stdout",
     "output_type": "stream",
     "text": [
      "Enter the number : 5\n"
     ]
    },
    {
     "data": {
      "text/plain": [
       "120"
      ]
     },
     "execution_count": 27,
     "metadata": {},
     "output_type": "execute_result"
    }
   ],
   "source": [
    "def factorial(number):\n",
    "    sum = 1\n",
    "    for i in range(1,number+1):\n",
    "        sum = sum*i\n",
    "    return sum\n",
    "\n",
    "number = int(input(\"Enter the number : \"))\n",
    "factorial(number)"
   ]
  },
  {
   "cell_type": "markdown",
   "id": "aa1e83dd",
   "metadata": {},
   "source": [
    "# 7.LCM & GCD OF NUMBERS"
   ]
  },
  {
   "cell_type": "code",
   "execution_count": 28,
   "id": "ddf6e844",
   "metadata": {},
   "outputs": [
    {
     "name": "stdout",
     "output_type": "stream",
     "text": [
      "enter the number a : 6\n",
      "enter the number b : 2\n",
      "\n",
      " LCM of two numbers is \n",
      "\n",
      "6\n"
     ]
    }
   ],
   "source": [
    "def lcm(a,b):\n",
    "    res = max(a,b)\n",
    "    while True:\n",
    "        if res%a==0 and res%b==0:\n",
    "            return res\n",
    "        res += 1\n",
    "    return res\n",
    "\n",
    "a = int(input(\"enter the number a : \"))\n",
    "b = int(input(\"enter the number b : \"))\n",
    "\n",
    "\n",
    "result = lcm(a,b)\n",
    "\n",
    "print(\"\\n LCM of two numbers is \\n\")\n",
    "print(result)"
   ]
  },
  {
   "cell_type": "code",
   "execution_count": 29,
   "id": "d411b5ab",
   "metadata": {},
   "outputs": [
    {
     "name": "stdout",
     "output_type": "stream",
     "text": [
      "enter the number a : 3\n",
      "enter the number b : 9\n",
      "\n",
      "HCF of two numbers is \n",
      "\n",
      "3\n"
     ]
    }
   ],
   "source": [
    "def gcd_or_hcf(a,b):\n",
    "    res = min(a,b)\n",
    "    \n",
    "    while True:\n",
    "        if a%res==0 and b%res==0:\n",
    "            break\n",
    "        res -= 1\n",
    "    return res\n",
    "\n",
    "a = int(input(\"enter the number a : \"))\n",
    "b = int(input(\"enter the number b : \"))\n",
    "\n",
    "result = gcd_or_hcf(a,b)\n",
    "\n",
    "print(\"\\nHCF of two numbers is \\n\")\n",
    "print(result)"
   ]
  },
  {
   "cell_type": "markdown",
   "id": "8628d7e8",
   "metadata": {},
   "source": [
    "# 8.Square root of number"
   ]
  },
  {
   "cell_type": "code",
   "execution_count": 30,
   "id": "2d361b3c",
   "metadata": {},
   "outputs": [
    {
     "name": "stdout",
     "output_type": "stream",
     "text": [
      "enter the number : 67\n"
     ]
    },
    {
     "data": {
      "text/plain": [
       "8"
      ]
     },
     "execution_count": 30,
     "metadata": {},
     "output_type": "execute_result"
    }
   ],
   "source": [
    "#many ways like x**2 or x*x\n",
    "#actual program (binary search)\n",
    "\n",
    "def squareroot(number):\n",
    "    ans = -1\n",
    "    low = 1\n",
    "    high = number\n",
    "    \n",
    "    while low<=high:\n",
    "        mid = (low+high)//2\n",
    "        square = mid*mid\n",
    "        \n",
    "        if square==number:\n",
    "            return square\n",
    "        elif square>number:\n",
    "            high = mid-1\n",
    "        else:\n",
    "            ans = mid\n",
    "            low = mid+1\n",
    "    return ans\n",
    "\n",
    "number = int(input(\"enter the number : \"))\n",
    "\n",
    "squareroot(number) #if it is greater than power of 2 it will return in floor of it"
   ]
  },
  {
   "cell_type": "markdown",
   "id": "bbe1bfbf",
   "metadata": {},
   "source": [
    "# 9.binay search"
   ]
  },
  {
   "cell_type": "code",
   "execution_count": 31,
   "id": "d76005d3",
   "metadata": {},
   "outputs": [
    {
     "name": "stdout",
     "output_type": "stream",
     "text": [
      "Enter the target/search value : 9\n"
     ]
    },
    {
     "data": {
      "text/plain": [
       "'element is not found in the array..'"
      ]
     },
     "execution_count": 31,
     "metadata": {},
     "output_type": "execute_result"
    }
   ],
   "source": [
    "def binary_search(array , n, target_value):\n",
    "    \n",
    "    low = 0\n",
    "    high = n-1\n",
    "    while low<=high:\n",
    "        mid = (low+high)//2\n",
    "        if array[mid] == target_value:\n",
    "            return mid\n",
    "        elif array[mid] > target_value:\n",
    "            high = mid - 1\n",
    "        else:\n",
    "            low = mid + 1\n",
    "    return \"element is not found in the array..\"\n",
    "\n",
    "array = [1,2,3,4,5,5,56]\n",
    "n     = len(array)\n",
    "\n",
    "target_value = int(input(\"Enter the target/search value : \"))\n",
    "\n",
    "binary_search(array , n, target_value)"
   ]
  },
  {
   "cell_type": "markdown",
   "id": "ab5d068c",
   "metadata": {},
   "source": [
    "# 10. Reversing a  Number"
   ]
  },
  {
   "cell_type": "code",
   "execution_count": 32,
   "id": "68871b4d",
   "metadata": {},
   "outputs": [
    {
     "data": {
      "text/plain": [
       "321"
      ]
     },
     "execution_count": 32,
     "metadata": {},
     "output_type": "execute_result"
    }
   ],
   "source": [
    "def reverse_a_number(number):\n",
    "    \n",
    "    sum = 0\n",
    "    while number > 0:\n",
    "        rev = number%10\n",
    "        sum = sum*10 + (rev)\n",
    "        number = number//10\n",
    "    return sum\n",
    "\n",
    "number = 123\n",
    "\n",
    "reverse_a_number(number)\n",
    "    "
   ]
  },
  {
   "cell_type": "markdown",
   "id": "b2b64490",
   "metadata": {},
   "source": [
    "# 11.middle element in linked list"
   ]
  },
  {
   "cell_type": "code",
   "execution_count": 33,
   "id": "93fd9df5",
   "metadata": {},
   "outputs": [
    {
     "data": {
      "text/plain": [
       "30"
      ]
     },
     "execution_count": 33,
     "metadata": {},
     "output_type": "execute_result"
    }
   ],
   "source": [
    "class Node:\n",
    "    def __init__(self,k):\n",
    "        self.k = k\n",
    "        self.next = None\n",
    "        \n",
    "class linkedList:\n",
    "    def __init__(self):\n",
    "        self.head = None\n",
    "        \n",
    "    def push_node(self,new_data):\n",
    "        new_node = Node(new_data)\n",
    "        new_node.next = self.head\n",
    "        self.head = new_node\n",
    "\n",
    "    def middle_element_of_linkedlist(self):\n",
    "        curr = self.head\n",
    "        slow = fast = self.head\n",
    "        \n",
    "        while fast and fast.next:\n",
    "            slow = slow.next\n",
    "            fast = fast.next.next\n",
    "        return slow.k\n",
    "\n",
    "\n",
    "Object = linkedList()\n",
    "Object.push_node(10)\n",
    "Object.push_node(20)\n",
    "Object.push_node(30)\n",
    "Object.push_node(40)\n",
    "Object.push_node(50)\n",
    "\n",
    "Object.middle_element_of_linkedlist()"
   ]
  },
  {
   "cell_type": "markdown",
   "id": "dbdb41ec",
   "metadata": {},
   "source": [
    "# 12.pre order Traversal"
   ]
  },
  {
   "cell_type": "code",
   "execution_count": 34,
   "id": "45b9be92",
   "metadata": {},
   "outputs": [
    {
     "name": "stdout",
     "output_type": "stream",
     "text": [
      "10 20 40 50 30 60 70 "
     ]
    }
   ],
   "source": [
    "class Node:\n",
    "    def __init__(self, k):\n",
    "        self.key = k\n",
    "        self.left = None\n",
    "        self.right = None\n",
    "        \n",
    "def preorderTraversal(root):  #pre order  traversal with recursion\n",
    "    if root!=None:\n",
    "        print(root.key,end=\" \")\n",
    "        preorderTraversal(root.left)\n",
    "        preorderTraversal(root.right)\n",
    " \n",
    "root = Node(10)\n",
    "root.left = Node(20)\n",
    "root.right = Node(30)\n",
    "root.left.left = Node(40)\n",
    "root.left.right = Node(50)\n",
    "root.right.left = Node(60)\n",
    "root.right.right = Node(70)\n",
    "    \n",
    "preorderTraversal(root)\n"
   ]
  },
  {
   "cell_type": "markdown",
   "id": "9aa9c151",
   "metadata": {},
   "source": [
    "# 13.In order Traversal"
   ]
  },
  {
   "cell_type": "code",
   "execution_count": 35,
   "id": "0efdc4c6",
   "metadata": {},
   "outputs": [
    {
     "name": "stdout",
     "output_type": "stream",
     "text": [
      "40 20 50 10 60 30 70 "
     ]
    }
   ],
   "source": [
    "class Node:\n",
    "    def __init__(self, k):\n",
    "        self.key = k\n",
    "        self.left = None\n",
    "        self.right = None\n",
    "        \n",
    "def inorderTraversal(tree):  #in order  traversal with recursion\n",
    "    if tree!=None:\n",
    "        inorderTraversal(tree.left)\n",
    "        print(tree.key,end=\" \")\n",
    "        inorderTraversal(tree.right)\n",
    " \n",
    "tree = Node(10)\n",
    "tree.left = Node(20)\n",
    "tree.right = Node(30)\n",
    "tree.left.left = Node(40)\n",
    "tree.left.right = Node(50)\n",
    "tree.right.left = Node(60)\n",
    "tree.right.right = Node(70)\n",
    "    \n",
    "inorderTraversal(tree)\n",
    "\n",
    "    "
   ]
  },
  {
   "cell_type": "markdown",
   "id": "527cdd97",
   "metadata": {},
   "source": [
    "# 14.Post order Traversal"
   ]
  },
  {
   "cell_type": "code",
   "execution_count": 36,
   "id": "ad926158",
   "metadata": {},
   "outputs": [
    {
     "name": "stdout",
     "output_type": "stream",
     "text": [
      "40 50 20 60 70 30 10 "
     ]
    }
   ],
   "source": [
    "class Node:\n",
    "    def __init__(self, k):\n",
    "        self.key = k\n",
    "        self.left = None\n",
    "        self.right = None\n",
    "        \n",
    "def postorderTraversal(root):  #post order  traversal with recursion\n",
    "    if root!=None:\n",
    "        postorderTraversal(root.left)\n",
    "        postorderTraversal(root.right)\n",
    "        print(root.key,end=\" \")\n",
    " \n",
    "root = Node(10)\n",
    "root.left = Node(20)\n",
    "root.right = Node(30)\n",
    "root.left.left = Node(40)\n",
    "root.left.right = Node(50)\n",
    "root.right.left = Node(60)\n",
    "root.right.right = Node(70)\n",
    "    \n",
    "postorderTraversal(root)\n"
   ]
  },
  {
   "cell_type": "markdown",
   "id": "dbaab6fe",
   "metadata": {},
   "source": [
    "# 15. Bubble sort"
   ]
  },
  {
   "cell_type": "code",
   "execution_count": 37,
   "id": "b1c06f8d",
   "metadata": {},
   "outputs": [
    {
     "data": {
      "text/plain": [
       "[0, 1, 2, 2, 3, 4, 4, 5, 5]"
      ]
     },
     "execution_count": 37,
     "metadata": {},
     "output_type": "execute_result"
    }
   ],
   "source": [
    "def bubblesort(arr, n):\n",
    "    for i in range(n-1,0,-1):\n",
    "        for j in range(i):\n",
    "            if arr[j]>arr[j+1]:\n",
    "                arr[j],arr[j+1]  = arr[j+1],arr[j]\n",
    "    return arr\n",
    "\n",
    "arr = [2,3,4,5,1,2,4,5,0]\n",
    "n   = len(arr)\n",
    "\n",
    "bubblesort(arr, n)"
   ]
  },
  {
   "cell_type": "markdown",
   "id": "06789937",
   "metadata": {},
   "source": [
    "# 16. Transposing a matrix"
   ]
  },
  {
   "cell_type": "code",
   "execution_count": 38,
   "id": "b8651704",
   "metadata": {},
   "outputs": [
    {
     "data": {
      "text/plain": [
       "[[1, 4, 7], [2, 5, 8], [3, 6, 9]]"
      ]
     },
     "execution_count": 38,
     "metadata": {},
     "output_type": "execute_result"
    }
   ],
   "source": [
    "def  transpose(matrix):\n",
    "    rows    = len(matrix)\n",
    "    columns = len(matrix[0])\n",
    "    \n",
    "    for i in range(0,rows):\n",
    "        for j in range(i+1,columns):\n",
    "            matrix[i][j],matrix[j][i] = matrix[j][i],matrix[i][j]\n",
    "    return matrix\n",
    "\n",
    "matrix = [[1,2,3],\n",
    "          [4,5,6],\n",
    "          [7,8,9]]\n",
    "\n",
    "\n",
    "\n",
    "transpose(matrix)\n"
   ]
  },
  {
   "cell_type": "markdown",
   "id": "9ee9b4cd",
   "metadata": {},
   "source": [
    "# 17. Insertion sort"
   ]
  },
  {
   "cell_type": "code",
   "execution_count": 39,
   "id": "2a8b399c",
   "metadata": {},
   "outputs": [
    {
     "data": {
      "text/plain": [
       "[1, 2, 3, 4, 6, 7, 8]"
      ]
     },
     "execution_count": 39,
     "metadata": {},
     "output_type": "execute_result"
    }
   ],
   "source": [
    "def insertionsort(arr, n):\n",
    "    \n",
    "    for i in range(1,n):\n",
    "        j = i\n",
    "        while arr[j-1]>arr[j] and j>0:\n",
    "            arr[j-1],arr[j]  = arr[j],arr[j-1]\n",
    "            j -= 1\n",
    "    return arr\n",
    "\n",
    "arr = [3,2,4,6,1,8,7]\n",
    "n   = len(arr)\n",
    "\n",
    "insertionsort(arr, n)"
   ]
  },
  {
   "cell_type": "markdown",
   "id": "e4497d9e",
   "metadata": {},
   "source": [
    "# 18.reversing  a linkedlist"
   ]
  },
  {
   "cell_type": "code",
   "execution_count": 40,
   "id": "e4a6d8c9",
   "metadata": {},
   "outputs": [
    {
     "name": "stdout",
     "output_type": "stream",
     "text": [
      "50 40 30 20 10 \n",
      "10 20 30 40 50 \n"
     ]
    }
   ],
   "source": [
    "class Node:\n",
    "    def __init__(self,key):\n",
    "        self.key = key\n",
    "        self.next = None\n",
    "        \n",
    "class linkedList:\n",
    "    def __init__(self):\n",
    "        self.head = None\n",
    "        \n",
    "    def push_node(self,new_data):\n",
    "        new_node = Node(new_data)\n",
    "        new_node.next = self.head\n",
    "        self.head = new_node\n",
    "        \n",
    "    def reverse(self):\n",
    "        curr = self.head\n",
    "        prev = None\n",
    "        while curr:\n",
    "            next = curr.next\n",
    "            curr.next = prev\n",
    "            prev = curr\n",
    "            curr = next\n",
    "        self.head = prev\n",
    "    \n",
    "    def print_List(self):\n",
    "        curr1 = self.head\n",
    "        while curr1:\n",
    "            print(curr1.key,end=\" \")\n",
    "            curr1 = curr1.next   \n",
    "        print()\n",
    "    \n",
    "        \n",
    "\n",
    "    \n",
    "Object = linkedList()\n",
    "Object.push_node(10)\n",
    "Object.push_node(20)\n",
    "Object.push_node(30)\n",
    "Object.push_node(40)\n",
    "Object.push_node(50)\n",
    "\n",
    "#given linked list\n",
    "Object.print_List()\n",
    "\n",
    "#reverse linked list\n",
    "Object.reverse()\n",
    "Object.print_List()\n",
    "\n",
    "    "
   ]
  },
  {
   "cell_type": "markdown",
   "id": "3e06cdb8",
   "metadata": {},
   "source": [
    "# 19.length of linked list"
   ]
  },
  {
   "cell_type": "code",
   "execution_count": 41,
   "id": "72db63c8",
   "metadata": {},
   "outputs": [
    {
     "data": {
      "text/plain": [
       "'Length of given linked list is 5'"
      ]
     },
     "execution_count": 41,
     "metadata": {},
     "output_type": "execute_result"
    }
   ],
   "source": [
    "class Node:\n",
    "    def __init__(self,key):\n",
    "        self.key = key\n",
    "        self.next = None\n",
    "        \n",
    "class Linkedlist:\n",
    "    def __init__(self):\n",
    "        self.head = None\n",
    "        \n",
    "    def add_node(self, new_data):\n",
    "        new_node = Node(new_data)\n",
    "        new_node.next = self.head\n",
    "        self.head = new_node\n",
    "        \n",
    "    def length_linkedList(self):\n",
    "        count = 0\n",
    "        current_term = self.head\n",
    "        while (current_term):\n",
    "            count += 1\n",
    "            current_term = current_term.next\n",
    "        return \"Length of given linked list is \" + str(count)\n",
    "        \n",
    "    \n",
    "        \n",
    "llist = Linkedlist()\n",
    "llist.add_node(2)\n",
    "llist.add_node(3)\n",
    "llist.add_node(4)\n",
    "llist.add_node(5)\n",
    "llist.add_node(6)\n",
    "\n",
    "llist.length_linkedList()"
   ]
  },
  {
   "cell_type": "markdown",
   "id": "18b4a65d",
   "metadata": {},
   "source": [
    "# 20. merge sort"
   ]
  },
  {
   "cell_type": "code",
   "execution_count": 42,
   "id": "b5ac94db",
   "metadata": {},
   "outputs": [
    {
     "name": "stdout",
     "output_type": "stream",
     "text": [
      "[1, 1, 2, 2, 3, 3, 4, 4, 5, 5, 6, 6]\n"
     ]
    }
   ],
   "source": [
    "def merge(left, right):\n",
    "    ans = [] #empty list\n",
    "    i,j = 0,0\n",
    "    while i < len(left) and j < len(right):\n",
    "        if left[i] <= right[j]:\n",
    "            ans.append(left[i])\n",
    "            i += 1\n",
    "        else:\n",
    "            ans.append(right[j])\n",
    "            j += 1\n",
    "    while i<len(left):\n",
    "        ans.append(left[i])\n",
    "        i += 1\n",
    "    while j<len(right):\n",
    "        ans.append(right[j])\n",
    "        j += 1\n",
    "    #ans += left[i:]\n",
    "    #ans += right[j:]\n",
    "    return ans #returning the merge sort array\n",
    "\n",
    "def mergesort(arr):\n",
    "    if len(arr) <= 1:\n",
    "        return arr\n",
    "    mid = int(len(arr)/2)\n",
    "    left = mergesort(arr[:mid])\n",
    "    right = mergesort(arr[mid:])\n",
    "    return merge(left,right)\n",
    "\n",
    "arr = [6,5,4,5,2,1,1,2,3,4,6,3]\n",
    "print(mergesort(arr))"
   ]
  },
  {
   "cell_type": "markdown",
   "id": "24a571a7",
   "metadata": {},
   "source": [
    "# 21.Reverse an array"
   ]
  },
  {
   "cell_type": "code",
   "execution_count": 43,
   "id": "8d234bf1",
   "metadata": {},
   "outputs": [
    {
     "data": {
      "text/plain": [
       "[5, 4, 3, 2, 1]"
      ]
     },
     "execution_count": 43,
     "metadata": {},
     "output_type": "execute_result"
    }
   ],
   "source": [
    "def reverse(arr,n):\n",
    "    low = 0\n",
    "    high = n-1\n",
    "    while low<high:\n",
    "        arr[low],arr[high] = arr[high],arr[low]\n",
    "        low  += 1\n",
    "        high -= 1\n",
    "    return arr\n",
    "\n",
    "arr = [1,2,3,4,5]\n",
    "n   = len(arr)\n",
    "\n",
    "reverse(arr,n)"
   ]
  },
  {
   "cell_type": "markdown",
   "id": "dfe2089a",
   "metadata": {},
   "source": [
    "# 22.Quick sort"
   ]
  },
  {
   "cell_type": "code",
   "execution_count": 44,
   "id": "2681f59b",
   "metadata": {},
   "outputs": [
    {
     "data": {
      "text/plain": [
       "[1, 2, 3, 4, 5, 6, 7]"
      ]
     },
     "execution_count": 44,
     "metadata": {},
     "output_type": "execute_result"
    }
   ],
   "source": [
    "def quicksort(arr):\n",
    "    n = len(arr)\n",
    "    if n<1:\n",
    "        return arr\n",
    "    else:\n",
    "        pivot = arr.pop()\n",
    "    left  = []\n",
    "    right = []\n",
    "    for i in arr:\n",
    "        if i<pivot:\n",
    "            left.append(i)\n",
    "        else:\n",
    "            right.append(i)\n",
    "    return quicksort(left)+[pivot]+quicksort(right)\n",
    "\n",
    "\n",
    "arr = [4,3,2,6,1,7,5]\n",
    "\n",
    "quicksort(arr)\n",
    "    "
   ]
  },
  {
   "cell_type": "markdown",
   "id": "b909be3c",
   "metadata": {},
   "source": [
    "# 23. Inorder Traversal (iteration)"
   ]
  },
  {
   "cell_type": "code",
   "execution_count": 45,
   "id": "7d80a078",
   "metadata": {},
   "outputs": [
    {
     "data": {
      "text/plain": [
       "[40, 20, 50, 10, 60, 30, 70]"
      ]
     },
     "execution_count": 45,
     "metadata": {},
     "output_type": "execute_result"
    }
   ],
   "source": [
    "class Node:\n",
    "    def __init__(self,key):\n",
    "        self.data = key\n",
    "        self.left = None\n",
    "        self.right = None\n",
    "       \n",
    "def inorder(root):\n",
    "    stack = []\n",
    "    res   = []\n",
    "    while root or stack:\n",
    "        while root:\n",
    "            stack.append(root)\n",
    "            root = root.left\n",
    "        root = stack.pop()\n",
    "        res.append(root.data)\n",
    "        root = root.right\n",
    "    return res\n",
    "        \n",
    "        \n",
    "root = Node(10)\n",
    "root.left = Node(20)\n",
    "root.right = Node(30)\n",
    "root.left.left = Node(40)\n",
    "root.left.right = Node(50)\n",
    "root.right.left = Node(60)\n",
    "root.right.right = Node(70)\n",
    "\n",
    "#        10\n",
    "#    20      30\n",
    "# 40  50   60    70\n",
    "\n",
    "\n",
    "inorder(root)"
   ]
  },
  {
   "cell_type": "markdown",
   "id": "d8dedbab",
   "metadata": {},
   "source": [
    "# 24. Preorder Traversal(iteration)"
   ]
  },
  {
   "cell_type": "code",
   "execution_count": 46,
   "id": "71a566c0",
   "metadata": {},
   "outputs": [
    {
     "data": {
      "text/plain": [
       "[10, 20, 40, 50, 30, 60, 70]"
      ]
     },
     "execution_count": 46,
     "metadata": {},
     "output_type": "execute_result"
    }
   ],
   "source": [
    "class Node1:\n",
    "    def __init__(self,key):\n",
    "        self.data = key\n",
    "        self.left = None\n",
    "        self.right = None\n",
    "  \n",
    "def preorder(root1):\n",
    "    stack = [root1]\n",
    "    res = []\n",
    "    while stack:\n",
    "        node = stack.pop()\n",
    "        if node:\n",
    "            res.append(node.data)\n",
    "            stack.append(node.right)\n",
    "            stack.append(node.left)\n",
    "    return res\n",
    "\n",
    "\n",
    "        \n",
    "        \n",
    "root1 = Node1(10)\n",
    "root1.left = Node1(20)\n",
    "root1.right = Node1(30)\n",
    "root1.left.left = Node1(40)\n",
    "root1.left.right = Node1(50)\n",
    "root1.right.left = Node1(60)\n",
    "root1.right.right = Node1(70)\n",
    "\n",
    "#        10\n",
    "#    20      30\n",
    "# 40  50   60    70\n",
    "\n",
    "preorder(root1)"
   ]
  },
  {
   "cell_type": "markdown",
   "id": "441b1a51",
   "metadata": {},
   "source": [
    "# 25.Postorder Traversal(iteration)"
   ]
  },
  {
   "cell_type": "code",
   "execution_count": 47,
   "id": "9b27728b",
   "metadata": {},
   "outputs": [
    {
     "data": {
      "text/plain": [
       "[40, 50, 20, 60, 70, 30, 10]"
      ]
     },
     "execution_count": 47,
     "metadata": {},
     "output_type": "execute_result"
    }
   ],
   "source": [
    "class Node2:\n",
    "    def __init__(self,key):\n",
    "        self.data = key\n",
    "        self.left = None\n",
    "        self.right = None\n",
    "  \n",
    "def postorder(root2):\n",
    "    stack = [root2]\n",
    "    res = []\n",
    "    while stack:\n",
    "        node = stack.pop()\n",
    "        if node:\n",
    "            stack.append(node.left)\n",
    "            stack.append(node.right)\n",
    "            res.append(node.data)\n",
    "    return res [::-1]\n",
    "\n",
    "\n",
    "        \n",
    "        \n",
    "root2 = Node2(10)\n",
    "root2.left = Node2(20)\n",
    "root2.right = Node2(30)\n",
    "root2.left.left = Node2(40)\n",
    "root2.left.right = Node2(50)\n",
    "root2.right.left = Node2(60)\n",
    "root2.right.right = Node2(70)\n",
    "\n",
    "#        10\n",
    "#    20      30\n",
    "# 40  50   60    70\n",
    "\n",
    "postorder(root2)"
   ]
  },
  {
   "cell_type": "markdown",
   "id": "8c025887",
   "metadata": {},
   "source": [
    "# 26. checking for anagrams"
   ]
  },
  {
   "cell_type": "code",
   "execution_count": 48,
   "id": "f58ddbcd",
   "metadata": {},
   "outputs": [
    {
     "data": {
      "text/plain": [
       "False"
      ]
     },
     "execution_count": 48,
     "metadata": {},
     "output_type": "execute_result"
    }
   ],
   "source": [
    "def checking_for_anagrams(a,b):\n",
    "    if len(a)!=len(b):\n",
    "        return False\n",
    "    a = sorted(a)  #giop after sorting\n",
    "    b = sorted(b)  #ikop\n",
    "    return a==b\n",
    "    \n",
    "    \n",
    "a = 'gopi'\n",
    "b = 'ipok'\n",
    "\n",
    "checking_for_anagrams(a,b)"
   ]
  },
  {
   "cell_type": "markdown",
   "id": "822ac4b2",
   "metadata": {},
   "source": [
    "\n",
    "# 27.reversing a number"
   ]
  },
  {
   "cell_type": "code",
   "execution_count": 49,
   "id": "254fba5c",
   "metadata": {},
   "outputs": [
    {
     "data": {
      "text/plain": [
       "321"
      ]
     },
     "execution_count": 49,
     "metadata": {},
     "output_type": "execute_result"
    }
   ],
   "source": [
    "def reverse_a_number(number):\n",
    "    sum = 0\n",
    "    while number>0:\n",
    "        rem = number%10\n",
    "        sum = (sum*10)+rem\n",
    "        number = number//10\n",
    "    return sum\n",
    "\n",
    "number = 123\n",
    "\n",
    "reverse_a_number(number)"
   ]
  },
  {
   "cell_type": "markdown",
   "id": "5eada25e",
   "metadata": {},
   "source": [
    "# 28.first unique character of the string"
   ]
  },
  {
   "cell_type": "code",
   "execution_count": 50,
   "id": "07d8f45b",
   "metadata": {},
   "outputs": [
    {
     "data": {
      "text/plain": [
       "-1"
      ]
     },
     "execution_count": 50,
     "metadata": {},
     "output_type": "execute_result"
    }
   ],
   "source": [
    "def unique(string1):  #prints the index of unique character in the string\n",
    "    res = \"\"\n",
    "    temp =0\n",
    "    for i in string1:\n",
    "        if string1.count(i)==1:\n",
    "            return string1.index(i)\n",
    "    return -1\n",
    "\n",
    "string1 = \"aabb\"\n",
    "\n",
    "unique(string1)\n",
    "            "
   ]
  },
  {
   "cell_type": "markdown",
   "id": "9dcb7520",
   "metadata": {},
   "source": [
    "# 29. Removing repeated elements"
   ]
  },
  {
   "cell_type": "code",
   "execution_count": 51,
   "id": "4d035c32",
   "metadata": {},
   "outputs": [
    {
     "data": {
      "text/plain": [
       "'gopi krshna'"
      ]
     },
     "execution_count": 51,
     "metadata": {},
     "output_type": "execute_result"
    }
   ],
   "source": [
    "def remove(string3):\n",
    "    res = \"\"\n",
    "    for i in string3:\n",
    "        if i not in res:\n",
    "            res += i\n",
    "    return res\n",
    "\n",
    "string3 = \"gopi krishna\"\n",
    "\n",
    "remove(string3)"
   ]
  },
  {
   "cell_type": "markdown",
   "id": "20fa0b52",
   "metadata": {},
   "source": [
    "# 30. Reversing the order of words"
   ]
  },
  {
   "cell_type": "code",
   "execution_count": 52,
   "id": "3e7ef2e3",
   "metadata": {},
   "outputs": [
    {
     "data": {
      "text/plain": [
       "'Krishna Gopi am i Hello'"
      ]
     },
     "execution_count": 52,
     "metadata": {},
     "output_type": "execute_result"
    }
   ],
   "source": [
    "def revering_order_of_words(string2):\n",
    "    words = string2.split(\" \")\n",
    "    \n",
    "    result = []\n",
    "    for word in words:\n",
    "        result.insert(0,word)\n",
    "    return \" \".join(result)\n",
    "    \n",
    "    \n",
    "\n",
    "    \n",
    "string2 =\"Hello i am Gopi Krishna\"\n",
    "revering_order_of_words(string2)"
   ]
  },
  {
   "cell_type": "markdown",
   "id": "ddac590b",
   "metadata": {},
   "source": [
    "# 31.Number of digits in a number"
   ]
  },
  {
   "cell_type": "code",
   "execution_count": 53,
   "id": "f22cc802",
   "metadata": {},
   "outputs": [
    {
     "data": {
      "text/plain": [
       "6"
      ]
     },
     "execution_count": 53,
     "metadata": {},
     "output_type": "execute_result"
    }
   ],
   "source": [
    "def digits(number):\n",
    "    count = 0\n",
    "    while number>0:\n",
    "        number = number//10\n",
    "        count +=1\n",
    "    return count\n",
    "\n",
    "number = 123456\n",
    "\n",
    "digits(number)"
   ]
  },
  {
   "cell_type": "markdown",
   "id": "6213b991",
   "metadata": {},
   "source": [
    "# 32.search in a matrix"
   ]
  },
  {
   "cell_type": "code",
   "execution_count": 54,
   "id": "b5801801",
   "metadata": {},
   "outputs": [
    {
     "name": "stdout",
     "output_type": "stream",
     "text": [
      "enter the search value in the matrix : 8\n"
     ]
    },
    {
     "data": {
      "text/plain": [
       "'Value found in the matrix : i 2 j 1'"
      ]
     },
     "execution_count": 54,
     "metadata": {},
     "output_type": "execute_result"
    }
   ],
   "source": [
    "def search(matrix, rows, col, target):  #row wise and column wise sorted matrix\n",
    "    i = 0\n",
    "    j = col-1\n",
    "    while i < rows and j >= 0:\n",
    "        if matrix[i][j] == target:\n",
    "            return 'Value found in the matrix : ' + 'i '+str(i)+' '+'j '+str(j)\n",
    "        elif matrix[i][j]> target:\n",
    "            j -= 1\n",
    "        else:\n",
    "            i += 1\n",
    "    return 'not found in matrix'\n",
    "\n",
    "matrix = [[1,2,3],\n",
    "         [4,5,6],\n",
    "          [7,8,9]]\n",
    "\n",
    "rows = len(matrix)\n",
    "col = len(matrix[0])\n",
    "\n",
    "target = int(input(\"enter the search value in the matrix : \"))\n",
    "\n",
    "search(matrix, rows, col, target)\n",
    "        \n",
    "    "
   ]
  },
  {
   "cell_type": "markdown",
   "id": "cf724582",
   "metadata": {},
   "source": [
    "# 33 COUNT NODES IN A TREE"
   ]
  },
  {
   "cell_type": "code",
   "execution_count": 55,
   "id": "5c8a5c21",
   "metadata": {},
   "outputs": [
    {
     "data": {
      "text/plain": [
       "7"
      ]
     },
     "execution_count": 55,
     "metadata": {},
     "output_type": "execute_result"
    }
   ],
   "source": [
    "class Node:\n",
    "    def __init__(self,data):\n",
    "        self.data = data\n",
    "        self.left = None\n",
    "        self.right = None\n",
    "\n",
    "\n",
    "def count_nodes(root2):\n",
    "    \n",
    "    curr1 = curr2 = root2\n",
    "    left = right = 0\n",
    "    while curr1:\n",
    "        left += 1\n",
    "        curr1 = curr1.left\n",
    "    while curr2:\n",
    "        right += 1\n",
    "        curr2 = curr2.right\n",
    "    \n",
    "    if left==right:\n",
    "        return (2**left)-1\n",
    "    return 1+count_nodes(root2.left)+count_nodes(root2.right)\n",
    "\n",
    "\n",
    "root2 = Node(10)\n",
    "root2.left = Node(20)\n",
    "root2.right = Node(25)\n",
    "root2.left.left = Node(28)\n",
    "root2.left.right = Node(40)\n",
    "root2.right.right = Node(45)\n",
    "root2.right.left = Node(70) \n",
    "\n",
    "count_nodes(root2)"
   ]
  },
  {
   "cell_type": "markdown",
   "id": "4d4d4f74",
   "metadata": {},
   "source": [
    "# 34.LEVEL ORDER TRAVERSAL IN BINARY TREE"
   ]
  },
  {
   "cell_type": "code",
   "execution_count": 56,
   "id": "06a5f6ae",
   "metadata": {},
   "outputs": [
    {
     "data": {
      "text/plain": [
       "[[10], [20, 30], [40, 50, 60, 70]]"
      ]
     },
     "execution_count": 56,
     "metadata": {},
     "output_type": "execute_result"
    }
   ],
   "source": [
    "from collections import deque\n",
    "class Node:\n",
    "    def __init__(self,key):\n",
    "        self.data = key\n",
    "        self.left = None\n",
    "        self.right = None\n",
    "        \n",
    "        \n",
    "def level_order(root):\n",
    "    \n",
    "    result = []\n",
    "    queue = deque([root])\n",
    "    \n",
    "    while queue:\n",
    "        level = []\n",
    "        for i in range(len(queue)):\n",
    "            node = queue.popleft()\n",
    "            level.append(node.data)\n",
    "            \n",
    "            if node.left:\n",
    "                queue.append(node.left)\n",
    "            if node.right:\n",
    "                queue.append(node.right) \n",
    "        result.append(level)  \n",
    "    return result       \n",
    "\n",
    "        \n",
    "        \n",
    "root = Node(10)\n",
    "root.left = Node(20)\n",
    "root.right = Node(30)\n",
    "root.left.left = Node(40)\n",
    "root.left.right = Node(50)\n",
    "root.right.left = Node(60)\n",
    "root.right.right = Node(70)\n",
    "\n",
    "#        10\n",
    "#    20      30\n",
    "# 40  50   60    70\n",
    "\n",
    "\n",
    "level_order(root)"
   ]
  },
  {
   "cell_type": "markdown",
   "id": "f3fd2228",
   "metadata": {},
   "source": [
    "# 35.SEARCH IN A BINARY SEARCH TREE(BST)"
   ]
  },
  {
   "cell_type": "code",
   "execution_count": 57,
   "id": "fac728ec",
   "metadata": {},
   "outputs": [
    {
     "name": "stdout",
     "output_type": "stream",
     "text": [
      "enter the search value : 7\n"
     ]
    },
    {
     "data": {
      "text/plain": [
       "'element not present in the given tree.. '"
      ]
     },
     "execution_count": 57,
     "metadata": {},
     "output_type": "execute_result"
    }
   ],
   "source": [
    "class Node:\n",
    "    def __init__(self,key):\n",
    "        self.data = key\n",
    "        self.left = None\n",
    "        self.right = None\n",
    "        \n",
    "        \n",
    "def search_in_bst(root):\n",
    "     \n",
    "    while root:\n",
    "        if root.data == target:\n",
    "            return 'Element found in the tree  !! :)'\n",
    "        elif root.data > target:\n",
    "            root = root.left\n",
    "        else:\n",
    "            root = root.right\n",
    "    return 'element not present in the given tree.. '\n",
    "\n",
    "        \n",
    "        \n",
    "root = Node(25)\n",
    "root.left = Node(15)\n",
    "root.right = Node(35)\n",
    "root.left.left = Node(10)\n",
    "root.left.right = Node(20)\n",
    "root.right.left = Node(30)\n",
    "root.right.right = Node(40)\n",
    "\n",
    "#                   25\n",
    "#               15     35\n",
    "#            10  20  30   40\n",
    "\n",
    "\n",
    "target = int(input(\"enter the search value : \"))\n",
    "\n",
    "search_in_bst(root) "
   ]
  },
  {
   "cell_type": "markdown",
   "id": "d7fb946a",
   "metadata": {},
   "source": [
    "# 36.CEIL IN BST TREE"
   ]
  },
  {
   "cell_type": "code",
   "execution_count": 24,
   "id": "153f7c23",
   "metadata": {},
   "outputs": [
    {
     "name": "stdout",
     "output_type": "stream",
     "text": [
      "enter the ceil value : 5\n"
     ]
    },
    {
     "data": {
      "text/plain": [
       "10"
      ]
     },
     "execution_count": 24,
     "metadata": {},
     "output_type": "execute_result"
    }
   ],
   "source": [
    "class Node:\n",
    "    def __init__(self,key):\n",
    "        self.data = key\n",
    "        self.left = None\n",
    "        self.right = None\n",
    "        \n",
    "        \n",
    "def ceil_in_bst(root, x):\n",
    "    res = -1\n",
    "    while root:\n",
    "        if root.data == x:\n",
    "            return root.data\n",
    "        elif root.data < x:\n",
    "            root = root.right\n",
    "        else:\n",
    "            res = root.data\n",
    "            root = root.left\n",
    "    return res\n",
    "\n",
    "        \n",
    "        \n",
    "root = Node(25)\n",
    "root.left = Node(15)\n",
    "root.right = Node(35)\n",
    "root.left.left = Node(10)\n",
    "root.left.right = Node(20)\n",
    "root.right.left = Node(30)\n",
    "root.right.right = Node(40)\n",
    "\n",
    "#                   25\n",
    "#               15     35\n",
    "#            10  20  30   40\n",
    "\n",
    "\n",
    "x = int(input(\"enter the ceil value : \"))\n",
    "\n",
    "ceil_in_bst(root, x) "
   ]
  },
  {
   "cell_type": "markdown",
   "id": "8243763f",
   "metadata": {},
   "source": [
    "# 37.FLOOR IN BST TREE"
   ]
  },
  {
   "cell_type": "code",
   "execution_count": 23,
   "id": "7fd5db8d",
   "metadata": {},
   "outputs": [
    {
     "name": "stdout",
     "output_type": "stream",
     "text": [
      "enter the ceil value : 7\n"
     ]
    },
    {
     "data": {
      "text/plain": [
       "-1"
      ]
     },
     "execution_count": 23,
     "metadata": {},
     "output_type": "execute_result"
    }
   ],
   "source": [
    "class Node:\n",
    "    def __init__(self,key):\n",
    "        self.data = key\n",
    "        self.left = None\n",
    "        self.right = None\n",
    "        \n",
    "        \n",
    "def floor_in_bst(root, x):\n",
    "    res = -1\n",
    "    while root:\n",
    "        if root.data == x:\n",
    "            return root.data\n",
    "        elif root.data > x:\n",
    "            root = root.left\n",
    "        else:\n",
    "            res = root.data\n",
    "            root = root.right\n",
    "    return res\n",
    "\n",
    "        \n",
    "        \n",
    "root = Node(25)\n",
    "root.left = Node(15)\n",
    "root.right = Node(35)\n",
    "root.left.left = Node(10)\n",
    "root.left.right = Node(20)\n",
    "root.right.left = Node(30)\n",
    "root.right.right = Node(40)\n",
    "\n",
    "#                   25\n",
    "#               15     35\n",
    "#            10  20  30   40\n",
    "\n",
    "\n",
    "x = int(input(\"enter the ceil value : \"))\n",
    "\n",
    "floor_in_bst(root, x) "
   ]
  },
  {
   "cell_type": "markdown",
   "id": "f8cb437d",
   "metadata": {},
   "source": [
    "# 38.MIDDLE OF A LINKED LIST"
   ]
  },
  {
   "cell_type": "code",
   "execution_count": 22,
   "id": "9c0ee656",
   "metadata": {},
   "outputs": [
    {
     "data": {
      "text/plain": [
       "5"
      ]
     },
     "execution_count": 22,
     "metadata": {},
     "output_type": "execute_result"
    }
   ],
   "source": [
    "class Node:\n",
    "    def __init__(self,key):\n",
    "        self.key = key\n",
    "        self.next = None\n",
    "        \n",
    "class Linkedlist:\n",
    "    def __init__(self):\n",
    "        self.head = None\n",
    "        \n",
    "    def add_node(self, new_data):\n",
    "        new_node = Node(new_data)\n",
    "        new_node.next = self.head\n",
    "        self.head = new_node\n",
    "        \n",
    "    def middle_of_linkedList(self):\n",
    "        slow = fast = curr = self.head\n",
    "        while fast and fast.next:\n",
    "            slow = slow.next\n",
    "            fast = fast.next.next\n",
    "        return slow.key\n",
    "       \n",
    "        \n",
    "    \n",
    "        \n",
    "llist = Linkedlist()\n",
    "llist.add_node(2)\n",
    "llist.add_node(3)\n",
    "llist.add_node(4)\n",
    "llist.add_node(5)\n",
    "llist.add_node(6)\n",
    "llist.add_node(7)\n",
    "llist.add_node(8)\n",
    "\n",
    "llist.middle_of_linkedList()"
   ]
  },
  {
   "cell_type": "markdown",
   "id": "ac8ab172",
   "metadata": {},
   "source": [
    "# 39.VALIDATE A BST TREE"
   ]
  },
  {
   "cell_type": "code",
   "execution_count": 21,
   "id": "d04aef5a",
   "metadata": {},
   "outputs": [
    {
     "data": {
      "text/plain": [
       "True"
      ]
     },
     "execution_count": 21,
     "metadata": {},
     "output_type": "execute_result"
    }
   ],
   "source": [
    "class Tree:\n",
    "    def __init__(self, key):\n",
    "        self.key = key\n",
    "        self.left = None\n",
    "        self.right = None\n",
    "        \n",
    "def valid_bst(bst1):\n",
    "    stack, prev = [], None\n",
    "    \n",
    "    if not bst1:\n",
    "        return None\n",
    "    root = bst1\n",
    "    while root or stack:\n",
    "        while root:\n",
    "            stack.append(root)\n",
    "            root = root.left\n",
    "        root = stack.pop()\n",
    "        if prev is not None and root is not None and root.key <= prev.key:\n",
    "            return False\n",
    "        prev, root = root, root.right\n",
    "    return True\n",
    "        \n",
    "        \n",
    "        \n",
    "bst1 = Tree(10)\n",
    "bst1.left = Tree(5)\n",
    "bst1.right = Tree(15)\n",
    "bst1.right.left = Tree(14)\n",
    "bst1.right.right = Tree(16)\n",
    "\n",
    "valid_bst(bst1)"
   ]
  },
  {
   "cell_type": "markdown",
   "id": "38ca29e7",
   "metadata": {},
   "source": [
    "# 40.MAXIMUM DEPTH OF A  BINARY TREE"
   ]
  },
  {
   "cell_type": "code",
   "execution_count": 20,
   "id": "db392f47",
   "metadata": {},
   "outputs": [
    {
     "data": {
      "text/plain": [
       "4"
      ]
     },
     "execution_count": 20,
     "metadata": {},
     "output_type": "execute_result"
    }
   ],
   "source": [
    "from collections import deque\n",
    "class Node:\n",
    "    def __init__(self,key):\n",
    "        self.data = key\n",
    "        self.left = None\n",
    "        self.right = None\n",
    "        \n",
    "        \n",
    "def maximum_depth(root):\n",
    "    \n",
    "    stack = deque([root])\n",
    "    \n",
    "    height = 0\n",
    "    while stack:\n",
    "        n = len(stack)\n",
    "        for i in range(n):\n",
    "            node = stack.popleft()\n",
    "            if node.left:\n",
    "                stack.append(node.left)\n",
    "            if node.right:\n",
    "                stack.append(node.right)\n",
    "                \n",
    "        height += 1\n",
    "    return height\n",
    "                    \n",
    "        \n",
    "root = Node(10)\n",
    "root.left = Node(20)\n",
    "root.right = Node(30)\n",
    "root.left.left = Node(40)\n",
    "root.left.right = Node(50)\n",
    "root.right.left = Node(60)\n",
    "root.right.right = Node(70)\n",
    "root.right.right.right = Node(80)\n",
    "\n",
    "#        10\n",
    "#    20      30\n",
    "# 40  50   60    70\n",
    "#                   80\n",
    "\n",
    "\n",
    "maximum_depth(root)"
   ]
  },
  {
   "cell_type": "markdown",
   "id": "52d91e27",
   "metadata": {},
   "source": [
    "# 41. ZIGZAG TRAVERSAL (BFS)"
   ]
  },
  {
   "cell_type": "code",
   "execution_count": 19,
   "id": "2f03b97b",
   "metadata": {},
   "outputs": [
    {
     "data": {
      "text/plain": [
       "[[10], [30, 20], [40, 50, 60, 70]]"
      ]
     },
     "execution_count": 19,
     "metadata": {},
     "output_type": "execute_result"
    }
   ],
   "source": [
    "from collections import deque\n",
    "class Node:\n",
    "    def __init__(self,key):\n",
    "        self.data = key\n",
    "        self.left = None\n",
    "        self.right = None\n",
    "        \n",
    "        \n",
    "def zigzag_traversal(root):\n",
    "    stack = deque([root])\n",
    "    direction = 1\n",
    "    \n",
    "    res = []\n",
    "    while stack:\n",
    "        n = len(stack)\n",
    "        level = []\n",
    "        for i in range(n):\n",
    "            node = stack.popleft()\n",
    "            level.append(node.data)\n",
    "            \n",
    "            if node.left:\n",
    "                stack.append(node.left)\n",
    "            if node.right:\n",
    "                stack.append(node.right)\n",
    "        res.append(level[::direction])\n",
    "        \n",
    "        direction = direction * (-1)\n",
    "        \n",
    "    return res\n",
    "                \n",
    "        \n",
    "root = Node(10)\n",
    "root.left = Node(20)\n",
    "root.right = Node(30)\n",
    "root.left.left = Node(40)\n",
    "root.left.right = Node(50)\n",
    "root.right.left = Node(60)\n",
    "root.right.right = Node(70)\n",
    "\n",
    "\n",
    "#        10\n",
    "#    20      30\n",
    "# 40  50   60    70\n",
    "#                  \n",
    "\n",
    "\n",
    "zigzag_traversal(root)"
   ]
  },
  {
   "cell_type": "markdown",
   "id": "5e0bfe1c",
   "metadata": {},
   "source": [
    "# 42.TRAPPING RAIN WATER"
   ]
  },
  {
   "cell_type": "code",
   "execution_count": 18,
   "id": "d83cd044",
   "metadata": {},
   "outputs": [
    {
     "data": {
      "text/plain": [
       "9"
      ]
     },
     "execution_count": 18,
     "metadata": {},
     "output_type": "execute_result"
    }
   ],
   "source": [
    "def trapping_water(arr, n):\n",
    "    right = [0]*n\n",
    "    left  = [0]*n\n",
    "    \n",
    "    left[0] = arr[0]\n",
    "     \n",
    "    for i in range(1,n):\n",
    "        left[i] = max(left[i-1],arr[i])\n",
    "        \n",
    "    right[n-1] = arr[n-1]\n",
    "    \n",
    "    for i in range(n-2,-1,-1):\n",
    "        right[i] = max(right[i+1],arr[i])  \n",
    "        \n",
    "    water = 0\n",
    "    for i in range(n):\n",
    "        water += (min(left[i],right[i]) -arr[i])\n",
    "    return water\n",
    "        \n",
    "    \n",
    "#arr = [0,1,0,2,1,0,1,3,2,1,2,1]\n",
    "#Output: 6\n",
    "\n",
    "arr = [4,2,0,3,2,5]   #9\n",
    "n   = len(arr)\n",
    "\n",
    "trapping_water(arr, n) "
   ]
  },
  {
   "cell_type": "markdown",
   "id": "781e0059",
   "metadata": {},
   "source": [
    "# 43.IDENTICAL TREES IN BINARY TREE"
   ]
  },
  {
   "cell_type": "code",
   "execution_count": 16,
   "id": "a3013eea",
   "metadata": {},
   "outputs": [
    {
     "data": {
      "text/plain": [
       "True"
      ]
     },
     "execution_count": 16,
     "metadata": {},
     "output_type": "execute_result"
    }
   ],
   "source": [
    "from collections import deque\n",
    "class Node:\n",
    "    def __init__(self,key):\n",
    "        self.data = key\n",
    "        self.left = None\n",
    "        self.right = None\n",
    "        \n",
    "        \n",
    "def identical(root1, root2):\n",
    "    \n",
    "    def check(root1, root2):\n",
    "        if root1==None and root2==None:\n",
    "            return True\n",
    "        if root1 ==None or root2==None:\n",
    "            return False\n",
    "        if root1.data != root2.data:\n",
    "            return False\n",
    "        return True\n",
    "    \n",
    "    queue = deque([(root1,root2),])\n",
    "    \n",
    "    while queue:\n",
    "        root1, root2 = queue.popleft()\n",
    "        \n",
    "        if not check(root1, root2):\n",
    "            return False\n",
    "        \n",
    "        if root1:\n",
    "            queue.append([root1.left, root2.left])\n",
    "            queue.append([root1.right, root2.right])\n",
    "    return True\n",
    "     \n",
    "root1 = Node(10)\n",
    "root1.left = Node(20)\n",
    "root1.right = Node(30)\n",
    "root1.left.left = Node(40)\n",
    "root1.left.right = Node(50)\n",
    "root1.right.left = Node(60)\n",
    "root1.right.right = Node(70)\n",
    "\n",
    "\n",
    "#        10\n",
    "#    20      30\n",
    "# 40  50   60    70\n",
    "#                  \n",
    "\n",
    "root2 = Node(10)\n",
    "root2.left = Node(20)\n",
    "root2.right = Node(30)\n",
    "root2.left.left = Node(40)\n",
    "root2.left.right = Node(50)\n",
    "root2.right.left = Node(60)\n",
    "root2.right.right = Node(70)\n",
    "\n",
    "\n",
    "\n",
    "identical(root1, root2)"
   ]
  },
  {
   "cell_type": "markdown",
   "id": "31314ba6",
   "metadata": {},
   "source": [
    "# 44.IDENTICAL TREES IN BINARY TREEv(recursive)"
   ]
  },
  {
   "cell_type": "code",
   "execution_count": 17,
   "id": "a67852ea",
   "metadata": {},
   "outputs": [
    {
     "data": {
      "text/plain": [
       "True"
      ]
     },
     "execution_count": 17,
     "metadata": {},
     "output_type": "execute_result"
    }
   ],
   "source": [
    "def identical_recursive(root1, root2):  #taken before example\n",
    "\n",
    "    if root1==None and root2==None:\n",
    "        return True\n",
    "    if root1==None or root2==None:\n",
    "        return False\n",
    "    \n",
    "    return (root1.data == root2.data) and identical_recursive(root1.left, root2.left) and identical_recursive(root1.right, root2.right)\n",
    "    \n",
    "identical_recursive(root1, root2)"
   ]
  },
  {
   "cell_type": "markdown",
   "id": "872710a3",
   "metadata": {},
   "source": [
    "# 45.LONGEST PALINDROME IN STRING"
   ]
  },
  {
   "cell_type": "code",
   "execution_count": 14,
   "id": "4b264ee7",
   "metadata": {},
   "outputs": [
    {
     "data": {
      "text/plain": [
       "1"
      ]
     },
     "execution_count": 14,
     "metadata": {},
     "output_type": "execute_result"
    }
   ],
   "source": [
    "from collections import Counter\n",
    "def palindrome_string(s):\n",
    "    result = 0\n",
    "    add = 0\n",
    "    \n",
    "    for count in Counter(s).values():\n",
    "        if count%2==0:\n",
    "            result += 1\n",
    "        else:\n",
    "            add += 1\n",
    "            result += count -1\n",
    "    if add >= 1:\n",
    "        result +=1 \n",
    "    return result\n",
    "        \n",
    "    \n",
    "    \n",
    "\n",
    "s = \"a\"\n",
    "\n",
    "palindrome_string(s)"
   ]
  },
  {
   "cell_type": "markdown",
   "id": "7ae27b55",
   "metadata": {},
   "source": [
    "# 46.LOOP IN A SINGLE LINKED LIST"
   ]
  },
  {
   "cell_type": "code",
   "execution_count": 13,
   "id": "f98f715c",
   "metadata": {},
   "outputs": [
    {
     "data": {
      "text/plain": [
       "False"
      ]
     },
     "execution_count": 13,
     "metadata": {},
     "output_type": "execute_result"
    }
   ],
   "source": [
    "class Node:\n",
    "    def __init__(self,key):\n",
    "        self.key = key\n",
    "        self.next = None\n",
    "        \n",
    "class Linkedlist:\n",
    "    def __init__(self):\n",
    "        self.head = None\n",
    "        \n",
    "    def add_node(self, new_data):\n",
    "        new_node = Node(new_data)\n",
    "        new_node.next = self.head\n",
    "        self.head = new_node\n",
    "        \n",
    "    def middle_of_linkedList(self):\n",
    "        slow = fast = curr = self.head\n",
    "        while fast and fast.next:\n",
    "            slow = slow.next\n",
    "            fast = fast.next.next\n",
    "            if slow == fast:\n",
    "                return True  #means cycle is there in singlely linked list.\n",
    "        return False  #means no cycle \n",
    "        \n",
    "       \n",
    "        \n",
    "    \n",
    "        \n",
    "llist = Linkedlist()\n",
    "llist.add_node(2)\n",
    "llist.add_node(3)\n",
    "llist.add_node(4)\n",
    "llist.add_node(5)\n",
    "llist.add_node(6)\n",
    "llist.add_node(7)\n",
    "llist.add_node(8)\n",
    "\n",
    "llist.middle_of_linkedList()"
   ]
  },
  {
   "cell_type": "markdown",
   "id": "d9ba71bc",
   "metadata": {},
   "source": [
    "# 47. Valid paranthesis"
   ]
  },
  {
   "cell_type": "code",
   "execution_count": 12,
   "id": "4abb48e6",
   "metadata": {},
   "outputs": [
    {
     "data": {
      "text/plain": [
       "False"
      ]
     },
     "execution_count": 12,
     "metadata": {},
     "output_type": "execute_result"
    }
   ],
   "source": [
    "def valid_paranthesis(a):\n",
    "    hashmap = {')':'(', '}':'{', ']': '[' }\n",
    "    stack   = []\n",
    "    \n",
    "    for i in a:\n",
    "        if i in hashmap.values():\n",
    "            stack.append(i)\n",
    "        elif i in hashmap.keys():\n",
    "            try:\n",
    "                value = stack.pop()\n",
    "            except:\n",
    "                return False\n",
    "            if value!=hashmap[i]:\n",
    "                return False\n",
    "    if len(stack)==0:\n",
    "        return True\n",
    "    return False\n",
    "    \n",
    "    \n",
    "    \n",
    "a = \"(())[]{}[\"\n",
    "\n",
    "valid_paranthesis(a)"
   ]
  },
  {
   "cell_type": "markdown",
   "id": "dd36013e",
   "metadata": {},
   "source": [
    "# 48. Invert a tree"
   ]
  },
  {
   "cell_type": "code",
   "execution_count": 11,
   "id": "95c4d812",
   "metadata": {},
   "outputs": [
    {
     "name": "stdout",
     "output_type": "stream",
     "text": [
      "[[10], [30, 20], [70, 60, 50, 40]]\n",
      "[[10], [20, 30], [40, 50, 60, 70]]\n"
     ]
    }
   ],
   "source": [
    "from collections import deque\n",
    "class Node:\n",
    "    def __init__(self,key):\n",
    "        self.data = key\n",
    "        self.left = None\n",
    "        self.right = None\n",
    "        \n",
    "def printTree(root):\n",
    "    \n",
    "    result = []\n",
    "    queue = deque([root])   \n",
    "    \n",
    "    while queue:\n",
    "        level = []            \n",
    "        for i in range(len(queue)):\n",
    "            node = queue.popleft()\n",
    "            level.append(node.data)\n",
    "            if node.left:\n",
    "                queue.append(node.left)\n",
    "            if node.right:\n",
    "                queue.append(node.right)\n",
    "        result.append(level)\n",
    "    return result\n",
    "        \n",
    "        \n",
    "        \n",
    "def invertTree(root):\n",
    "    stack = [root]\n",
    "    \n",
    "    while stack:\n",
    "        node = stack.pop()\n",
    "        if node:\n",
    "            node.left, node.right = node.right, node.left\n",
    "            \n",
    "            stack += node.left, node.right\n",
    "    return root\n",
    "\n",
    "        \n",
    "        \n",
    "root = Node(10)\n",
    "root.left = Node(30)\n",
    "root.right = Node(20)\n",
    "root.left.left = Node(70)\n",
    "root.left.right = Node(60)\n",
    "root.right.left = Node(50)\n",
    "root.right.right = Node(40)\n",
    "\n",
    "print(printTree(root))\n",
    "#              10\n",
    "#         30        20\n",
    "#     70     60   40   50 \n",
    "\n",
    "\n",
    "invertTree(root)\n",
    "\n",
    "print(printTree(root))\n",
    "#              10\n",
    "#         20        30\n",
    "#     40     50   60   70 "
   ]
  },
  {
   "cell_type": "markdown",
   "id": "cd8ada5a",
   "metadata": {},
   "source": [
    "# 49.fibonacci (recursive)"
   ]
  },
  {
   "cell_type": "code",
   "execution_count": 10,
   "id": "880f69f7",
   "metadata": {},
   "outputs": [
    {
     "name": "stdout",
     "output_type": "stream",
     "text": [
      "enter the number from user side : 5\n"
     ]
    },
    {
     "data": {
      "text/plain": [
       "5"
      ]
     },
     "execution_count": 10,
     "metadata": {},
     "output_type": "execute_result"
    }
   ],
   "source": [
    "def fib(n):\n",
    "    if n == 0:\n",
    "        return 0\n",
    "    if n==1:\n",
    "        return 1\n",
    "    return fib(n-1)+fib(n-2)\n",
    "\n",
    "n = int(input(\"enter the number from user side : \"))\n",
    "\n",
    "fib(n)"
   ]
  },
  {
   "cell_type": "markdown",
   "id": "12ebfcb8",
   "metadata": {},
   "source": [
    "# 50.sum of pairs in 1d arrAY (sorted)"
   ]
  },
  {
   "cell_type": "code",
   "execution_count": 9,
   "id": "f0f74229",
   "metadata": {},
   "outputs": [
    {
     "name": "stdout",
     "output_type": "stream",
     "text": [
      "enter the search value : 100\n"
     ]
    },
    {
     "data": {
      "text/plain": [
       "False"
      ]
     },
     "execution_count": 9,
     "metadata": {},
     "output_type": "execute_result"
    }
   ],
   "source": [
    "def sumOfArrays(arr, n, target):\n",
    "    #run two loops O(n^2) .array is sorted apply two pointer approach for this kind of problems.\n",
    "    \n",
    "    low = 0\n",
    "    high = n-1\n",
    "    while low<high:\n",
    "        if arr[low]+arr[high] == target:\n",
    "            return True\n",
    "        elif arr[low]+arr[high] > target:\n",
    "            high = high - 1 \n",
    "        else:\n",
    "            low = low + 1\n",
    "    return False\n",
    "\n",
    "arr = [1,2,3,4,5,6,7]\n",
    "n   = len(arr)\n",
    "\n",
    "target = int(input(\"enter the search value : \"))\n",
    "    \n",
    "sumOfArrays(arr, n, target)\n"
   ]
  }
 ],
 "metadata": {
  "kernelspec": {
   "display_name": "Python 3 (ipykernel)",
   "language": "python",
   "name": "python3"
  },
  "language_info": {
   "codemirror_mode": {
    "name": "ipython",
    "version": 3
   },
   "file_extension": ".py",
   "mimetype": "text/x-python",
   "name": "python",
   "nbconvert_exporter": "python",
   "pygments_lexer": "ipython3",
   "version": "3.9.12"
  }
 },
 "nbformat": 4,
 "nbformat_minor": 5
}
