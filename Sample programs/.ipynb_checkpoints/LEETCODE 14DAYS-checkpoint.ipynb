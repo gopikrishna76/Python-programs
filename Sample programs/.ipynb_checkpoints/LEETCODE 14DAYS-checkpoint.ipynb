{
 "cells": [
  {
   "cell_type": "markdown",
   "id": "55497a33",
   "metadata": {},
   "source": [
    "# CONTAINS DUPLICATE"
   ]
  },
  {
   "cell_type": "code",
   "execution_count": 1,
   "id": "6374f0b4",
   "metadata": {},
   "outputs": [
    {
     "data": {
      "text/plain": [
       "False"
      ]
     },
     "execution_count": 1,
     "metadata": {},
     "output_type": "execute_result"
    }
   ],
   "source": [
    "def duplicate(arr,n):\n",
    "    res= []\n",
    "    \n",
    "    for i in arr:\n",
    "        res.append(i)\n",
    "    set_1 = set(res)\n",
    "    \n",
    "    if len(set_1)!=len(arr):\n",
    "        return True\n",
    "    return False\n",
    "\n",
    "arr = [112,113,114,115]\n",
    "n   = len(arr)\n",
    "\n",
    "duplicate(arr,n)"
   ]
  },
  {
   "cell_type": "markdown",
   "id": "e23414f8",
   "metadata": {},
   "source": [
    "# Maximum subarray"
   ]
  },
  {
   "cell_type": "raw",
   "id": "d85c2962",
   "metadata": {},
   "source": [
    "Given an integer array nums, find the \n",
    "subarray\n",
    " with the largest sum, and return its sum.\n",
    "\n",
    " \n",
    "\n",
    "Example 1:\n",
    "\n",
    "Input: nums = [-2,1,-3,4,-1,2,1,-5,4]\n",
    "Output: 6\n",
    "Explanation: The subarray [4,-1,2,1] has the largest sum 6.\n",
    "Example 2:\n",
    "\n",
    "Input: nums = [1]\n",
    "Output: 1\n",
    "Explanation: The subarray [1] has the largest sum 1.\n",
    "Example 3:\n",
    "\n",
    "Input: nums = [5,4,-1,7,8]\n",
    "Output: 23\n",
    "Explanation: The subarray [5,4,-1,7,8] has the largest sum 23.\n",
    " # "
   ]
  },
  {
   "cell_type": "code",
   "execution_count": 2,
   "id": "355ae438",
   "metadata": {},
   "outputs": [
    {
     "data": {
      "text/plain": [
       "23"
      ]
     },
     "execution_count": 2,
     "metadata": {},
     "output_type": "execute_result"
    }
   ],
   "source": [
    "def subarray(arr,n):\n",
    "    sum = arr[0]\n",
    "    res = arr[0]\n",
    "    \n",
    "    for i in range(1,n):\n",
    "        sum = max(arr[i],sum+arr[i])\n",
    "        res = max(res,sum)\n",
    "    return res\n",
    "\n",
    "arr = [5,4,-1,7,8]\n",
    "n   = len(arr)\n",
    "\n",
    "subarray(arr,n)"
   ]
  },
  {
   "cell_type": "markdown",
   "id": "98f4e95b",
   "metadata": {},
   "source": [
    "# Two sum (array not sorted)"
   ]
  },
  {
   "cell_type": "raw",
   "id": "48cbb407",
   "metadata": {},
   "source": [
    "Input: nums = [2,7,11,15], target = 9\n",
    "Output: [0,1]\n",
    "Explanation: Because nums[0] + nums[1] == 9, we return [0, 1].\n",
    "Example 2:\n",
    "\n",
    "Input: nums = [3,2,4], target = 6\n",
    "Output: [1,2]\n",
    "Example 3:\n",
    "\n",
    "Input: nums = [3,3], target = 6\n",
    "Output: [0,1]"
   ]
  },
  {
   "cell_type": "code",
   "execution_count": 4,
   "id": "3a8bc1bd",
   "metadata": {},
   "outputs": [
    {
     "name": "stdout",
     "output_type": "stream",
     "text": [
      "enter the target value : 6\n"
     ]
    },
    {
     "data": {
      "text/plain": [
       "[2, 1]"
      ]
     },
     "execution_count": 4,
     "metadata": {},
     "output_type": "execute_result"
    }
   ],
   "source": [
    "def twosum(arr, n, target):\n",
    "    hashmap = {}\n",
    "    \n",
    "    for i in range(n):\n",
    "        complement = target - arr[i]\n",
    "        if complement in hashmap:\n",
    "            return [i,hashmap[complement]]\n",
    "        hashmap[arr[i]] = i\n",
    "        \n",
    "arr = [3,2,4]\n",
    "n   = len(arr)\n",
    "\n",
    "target = int(input(\"enter the target value : \"))\n",
    "\n",
    "twosum(arr, n, target)"
   ]
  },
  {
   "cell_type": "markdown",
   "id": "33e7b408",
   "metadata": {},
   "source": [
    "# BEST TIME TO BUY AND SELL STOCK"
   ]
  },
  {
   "cell_type": "raw",
   "id": "5c144262",
   "metadata": {},
   "source": [
    "Input: prices = [7,1,5,3,6,4]\n",
    "Output: 5\n",
    "Explanation: Buy on day 2 (price = 1) and sell on day 5 (price = 6), profit = 6-1 = 5.\n",
    "Note that buying on day 2 and selling on day 1 is not allowed because you must buy before you sell.\n",
    "Example 2:\n",
    "\n",
    "Input: prices = [7,6,4,3,1]\n",
    "Output: 0\n",
    "Explanation: In this case, no transactions are done and the max profit = 0."
   ]
  },
  {
   "cell_type": "code",
   "execution_count": 9,
   "id": "66cf8a09",
   "metadata": {},
   "outputs": [
    {
     "data": {
      "text/plain": [
       "0"
      ]
     },
     "execution_count": 9,
     "metadata": {},
     "output_type": "execute_result"
    }
   ],
   "source": [
    "def maxProfit(prices):\n",
    "    min_price = float('inf')\n",
    "    max_profit = 0       \n",
    "    for i in range(len(prices)):\n",
    "        if prices[i] < min_price:\n",
    "            min_price = prices[i]\n",
    "        elif prices[i] - min_price > max_profit:\n",
    "            max_profit = prices[i] - min_price\n",
    "    return max_profit\n",
    "\n",
    "prices = [8,6,4,3,2,1]\n",
    " \n",
    "maxProfit(prices)"
   ]
  },
  {
   "cell_type": "markdown",
   "id": "b56d8178",
   "metadata": {},
   "source": [
    "# INTERSECTION OF TWO ARRAYS II"
   ]
  },
  {
   "cell_type": "raw",
   "id": "0f092a6f",
   "metadata": {},
   "source": [
    "Given two integer arrays nums1 and nums2, return an array of their intersection. Each element in the result must appear as many times as it shows in both arrays and you may return the result in any order.\n",
    "\n",
    " \n",
    "\n",
    "Example 1:\n",
    "\n",
    "Input: nums1 = [1,2,2,1], nums2 = [2,2]\n",
    "Output: [2,2]\n",
    "Example 2:\n",
    "\n",
    "Input: nums1 = [4,9,5], nums2 = [9,4,9,8,4]\n",
    "Output: [4,9]\n",
    "Explanation: [9,4] is also accepted."
   ]
  },
  {
   "cell_type": "code",
   "execution_count": 15,
   "id": "d3149838",
   "metadata": {},
   "outputs": [
    {
     "data": {
      "text/plain": [
       "[9, 4]"
      ]
     },
     "execution_count": 15,
     "metadata": {},
     "output_type": "execute_result"
    }
   ],
   "source": [
    "import collections\n",
    "from collections import Counter\n",
    "\n",
    "def intersection(arr1, arr2):\n",
    "    if len(arr1)>len(arr2):\n",
    "        return self.intersection(arr2, arr1)\n",
    "    \n",
    "    cnt  = Counter(arr1)\n",
    "    ans = []\n",
    "    for i in arr2:\n",
    "        if cnt[i] > 0:\n",
    "            ans.append(i)\n",
    "            cnt[i] -= 1\n",
    "    return ans\n",
    "\n",
    "arr1 = [4,9,5]\n",
    "arr2 = [9,4,9,8,4]\n",
    "\n",
    "intersection(arr1, arr2)"
   ]
  },
  {
   "cell_type": "markdown",
   "id": "e041ecfe",
   "metadata": {},
   "source": [
    "# MERGE SORTED ARRAY"
   ]
  },
  {
   "cell_type": "raw",
   "id": "2b828a5d",
   "metadata": {},
   "source": [
    "Input: nums1 = [1,2,3,0,0,0], m = 3, nums2 = [2,5,6], n = 3\n",
    "Output: [1,2,2,3,5,6]\n",
    "Explanation: The arrays we are merging are [1,2,3] and [2,5,6].\n",
    "The result of the merge is [1,2,2,3,5,6] with the underlined elements coming from nums1.\n",
    "Example 2:\n",
    "\n",
    "Input: nums1 = [1], m = 1, nums2 = [], n = 0\n",
    "Output: [1]\n",
    "Explanation: The arrays we are merging are [1] and [].\n",
    "The result of the merge is [1].\n",
    "Example 3:\n",
    "\n",
    "Input: nums1 = [0], m = 0, nums2 = [1], n = 1\n",
    "Output: [1]\n",
    "Explanation: The arrays we are merging are [] and [1].\n",
    "The result of the merge is [1].\n",
    "Note that because m = 0, there are no elements in nums1. The 0 is only there to ensure the merge result can fit in nums1.\n",
    " "
   ]
  },
  {
   "cell_type": "code",
   "execution_count": 1,
   "id": "568874d0",
   "metadata": {},
   "outputs": [
    {
     "ename": "IndexError",
     "evalue": "list assignment index out of range",
     "output_type": "error",
     "traceback": [
      "\u001b[1;31m---------------------------------------------------------------------------\u001b[0m",
      "\u001b[1;31mIndexError\u001b[0m                                Traceback (most recent call last)",
      "Input \u001b[1;32mIn [1]\u001b[0m, in \u001b[0;36m<cell line: 25>\u001b[1;34m()\u001b[0m\n\u001b[0;32m     20\u001b[0m arr2 \u001b[38;5;241m=\u001b[39m [\u001b[38;5;241m2\u001b[39m,\u001b[38;5;241m5\u001b[39m,\u001b[38;5;241m6\u001b[39m]\n\u001b[0;32m     21\u001b[0m n    \u001b[38;5;241m=\u001b[39m \u001b[38;5;28mlen\u001b[39m(arr2)\n\u001b[1;32m---> 25\u001b[0m \u001b[43mmergesortedarrays\u001b[49m\u001b[43m(\u001b[49m\u001b[43marr1\u001b[49m\u001b[43m,\u001b[49m\u001b[43m \u001b[49m\u001b[43mm\u001b[49m\u001b[43m,\u001b[49m\u001b[43m \u001b[49m\u001b[43marr2\u001b[49m\u001b[43m,\u001b[49m\u001b[43m \u001b[49m\u001b[43mn\u001b[49m\u001b[43m)\u001b[49m\n",
      "Input \u001b[1;32mIn [1]\u001b[0m, in \u001b[0;36mmergesortedarrays\u001b[1;34m(arr1, m, arr2, n)\u001b[0m\n\u001b[0;32m     11\u001b[0m     i \u001b[38;5;241m-\u001b[39m\u001b[38;5;241m=\u001b[39m \u001b[38;5;241m1\u001b[39m\n\u001b[0;32m     12\u001b[0m \u001b[38;5;28;01melse\u001b[39;00m:\n\u001b[1;32m---> 13\u001b[0m     arr1[k] \u001b[38;5;241m=\u001b[39m arr2[j]\n\u001b[0;32m     14\u001b[0m     k \u001b[38;5;241m-\u001b[39m\u001b[38;5;241m=\u001b[39m \u001b[38;5;241m1\u001b[39m\n\u001b[0;32m     15\u001b[0m     j \u001b[38;5;241m-\u001b[39m\u001b[38;5;241m=\u001b[39m \u001b[38;5;241m1\u001b[39m\n",
      "\u001b[1;31mIndexError\u001b[0m: list assignment index out of range"
     ]
    }
   ],
   "source": [
    "def mergesortedarrays(arr1, m, arr2, n):\n",
    "    \n",
    "    i = m-1\n",
    "    j = n-1\n",
    "    k = m+n-1\n",
    "    \n",
    "    while j>=0:\n",
    "        while i>=0 and arr1[i]>arr2[j]:\n",
    "            arr1[k] = arr1[i]\n",
    "            k -= 1\n",
    "            i -= 1\n",
    "        else:\n",
    "            arr1[k] = arr2[j]\n",
    "            k -= 1\n",
    "            j -= 1\n",
    "\n",
    "arr1 = [1,2,3,0,0,0]\n",
    "m    = len(arr1)\n",
    "\n",
    "arr2 = [2,5,6]\n",
    "n    = len(arr2)\n",
    "    \n",
    "    \n",
    "    \n",
    "mergesortedarrays(arr1, m, arr2, n)"
   ]
  },
  {
   "cell_type": "markdown",
   "id": "31a147d8",
   "metadata": {},
   "source": [
    "# RESHAPE THE MATRIX"
   ]
  },
  {
   "cell_type": "raw",
   "id": "d02bde93",
   "metadata": {},
   "source": [
    "Reshape the Matrix\n",
    "Easy\n",
    "3.1K\n",
    "343\n",
    "Companies\n",
    "In MATLAB, there is a handy function called reshape which can reshape an m x n matrix into a new one with a different size r x c keeping its original data.\n",
    "\n",
    "You are given an m x n matrix mat and two integers r and c representing the number of rows and the number of columns of the wanted reshaped matrix.\n",
    "\n",
    "The reshaped matrix should be filled with all the elements of the original matrix in the same row-traversing order as they were.\n",
    "\n",
    "If the reshape operation with given parameters is possible and legal, output the new reshaped matrix; Otherwise, output the original matrix.\n",
    "\n",
    " \n",
    "\n",
    "Example 1:\n",
    "\n",
    "\n",
    "Input: mat = [[1,2],[3,4]], r = 1, c = 4\n",
    "Output: [[1,2,3,4]]\n",
    "Example 2:\n",
    "\n",
    "\n",
    "Input: mat = [[1,2],[3,4]], r = 2, c = 4\n",
    "Output: [[1,2],[3,4]]"
   ]
  },
  {
   "cell_type": "code",
   "execution_count": 7,
   "id": "be7671f2",
   "metadata": {},
   "outputs": [
    {
     "ename": "TypeError",
     "evalue": "'generator' object does not support item assignment",
     "output_type": "error",
     "traceback": [
      "\u001b[1;31m---------------------------------------------------------------------------\u001b[0m",
      "\u001b[1;31mTypeError\u001b[0m                                 Traceback (most recent call last)",
      "Input \u001b[1;32mIn [7]\u001b[0m, in \u001b[0;36m<cell line: 22>\u001b[1;34m()\u001b[0m\n\u001b[0;32m     19\u001b[0m r \u001b[38;5;241m=\u001b[39m \u001b[38;5;241m1\u001b[39m\n\u001b[0;32m     20\u001b[0m c \u001b[38;5;241m=\u001b[39m \u001b[38;5;241m4\u001b[39m\n\u001b[1;32m---> 22\u001b[0m \u001b[43mreshape_matrix\u001b[49m\u001b[43m(\u001b[49m\u001b[43mmatrix\u001b[49m\u001b[43m,\u001b[49m\u001b[43m \u001b[49m\u001b[43mr\u001b[49m\u001b[43m,\u001b[49m\u001b[43m \u001b[49m\u001b[43mc\u001b[49m\u001b[43m)\u001b[49m\n",
      "Input \u001b[1;32mIn [7]\u001b[0m, in \u001b[0;36mreshape_matrix\u001b[1;34m(matrix, r, c)\u001b[0m\n\u001b[0;32m     10\u001b[0m index  \u001b[38;5;241m=\u001b[39m \u001b[38;5;241m0\u001b[39m\n\u001b[0;32m     12\u001b[0m \u001b[38;5;28;01mwhile\u001b[39;00m index \u001b[38;5;241m<\u001b[39m (r\u001b[38;5;241m*\u001b[39mc):\n\u001b[1;32m---> 13\u001b[0m     output[index \u001b[38;5;241m/\u001b[39m\u001b[38;5;241m/\u001b[39m c][index \u001b[38;5;241m%\u001b[39m c] \u001b[38;5;241m=\u001b[39m matrix[index \u001b[38;5;241m/\u001b[39m\u001b[38;5;241m/\u001b[39m \u001b[38;5;28mlen\u001b[39m(matrix[\u001b[38;5;241m0\u001b[39m])][index \u001b[38;5;241m%\u001b[39m \u001b[38;5;28mlen\u001b[39m(matrix[\u001b[38;5;241m0\u001b[39m])]\n\u001b[0;32m     14\u001b[0m     index \u001b[38;5;241m+\u001b[39m\u001b[38;5;241m=\u001b[39m \u001b[38;5;241m1\u001b[39m\n\u001b[0;32m     15\u001b[0m \u001b[38;5;28;01mreturn\u001b[39;00m output\n",
      "\u001b[1;31mTypeError\u001b[0m: 'generator' object does not support item assignment"
     ]
    }
   ],
   "source": [
    "def reshape_matrix(matrix ,r , c):\n",
    "    \n",
    "    if not matrix:\n",
    "        return matrix\n",
    "    \n",
    "    if len(matrix)*len(matrix[0]) != (r*c):\n",
    "        return matrix\n",
    "    \n",
    "    output = [(0 for i in range(c)) for i in range(r)]\n",
    "    index  = 0\n",
    "    \n",
    "    while index < (r*c):\n",
    "        output[index // c][index % c] = matrix[index // len(matrix[0])][index % len(matrix[0])]\n",
    "        index += 1\n",
    "    return output\n",
    "\n",
    "matrix = [[1,2],[3,4]]\n",
    "\n",
    "r = 1\n",
    "c = 4\n",
    "\n",
    "reshape_matrix(matrix, r, c)"
   ]
  },
  {
   "cell_type": "markdown",
   "id": "7d0b85ac",
   "metadata": {},
   "source": [
    "# PASCAL'S TRAINGLE"
   ]
  },
  {
   "cell_type": "code",
   "execution_count": 13,
   "id": "7d01de7d",
   "metadata": {},
   "outputs": [
    {
     "name": "stdout",
     "output_type": "stream",
     "text": [
      "enter the no.of rows for the pascal triangle : 4\n"
     ]
    },
    {
     "data": {
      "text/plain": [
       "[[1], [1, 1], [1, 2, 1], [1, 3, 3, 1]]"
      ]
     },
     "execution_count": 13,
     "metadata": {},
     "output_type": "execute_result"
    }
   ],
   "source": [
    "def pascals_traingle(number_of_rows):\n",
    "    \n",
    "    pascal = [[1]*(i+1) for i in range(number_of_rows)]\n",
    "    \n",
    "    for i in range(number_of_rows):\n",
    "        for j in range(1,i):\n",
    "            pascal[i][j] = pascal[i-1][j-1] + pascal[i-1][j]\n",
    "    return pascal\n",
    "    \n",
    "\n",
    "number_of_rows = int(input(\"enter the no.of rows for the pascal triangle : \"))\n",
    "\n",
    "pascals_traingle(number_of_rows) # [[1], [1, 1], [1, 2, 1], [1, 3, 3, 1]]"
   ]
  },
  {
   "cell_type": "markdown",
   "id": "02b82e38",
   "metadata": {},
   "source": [
    "# SEARCH IN A 2D MATRIX"
   ]
  },
  {
   "cell_type": "code",
   "execution_count": 17,
   "id": "79916b9e",
   "metadata": {},
   "outputs": [
    {
     "name": "stdout",
     "output_type": "stream",
     "text": [
      "enter the search value : 6\n"
     ]
    },
    {
     "data": {
      "text/plain": [
       "'element found at row 1 column 2'"
      ]
     },
     "execution_count": 17,
     "metadata": {},
     "output_type": "execute_result"
    }
   ],
   "source": [
    "def search_matrix(mat, r, c, target):\n",
    "    i = 0\n",
    "    j = c-1\n",
    "    while i<r and j>=0:\n",
    "        if mat[i][j]==target:\n",
    "            return \"element found at row \"+ str(i) + \" column \"+str(j)\n",
    "        elif mat[i][j] > target:\n",
    "            j -= 1\n",
    "        else:\n",
    "            i += 1\n",
    "    return 'element not found'\n",
    "            \n",
    "            \n",
    "mat = [[1,2,3],\n",
    "       [4,5,6],\n",
    "       [7,8,9]]\n",
    "\n",
    "r   = len(mat)\n",
    "c   = len(mat[0])\n",
    "\n",
    "target = int(input(\"enter the search value : \"))\n",
    "\n",
    "search_matrix(mat, r, c, target)"
   ]
  },
  {
   "cell_type": "markdown",
   "id": "3933c788",
   "metadata": {},
   "source": [
    "# PREORDER TRAVERSAL"
   ]
  },
  {
   "cell_type": "code",
   "execution_count": 19,
   "id": "f753ac58",
   "metadata": {},
   "outputs": [
    {
     "data": {
      "text/plain": [
       "[10, 20, 40, 50, 30, 60, 70]"
      ]
     },
     "execution_count": 19,
     "metadata": {},
     "output_type": "execute_result"
    }
   ],
   "source": [
    "class Node1:\n",
    "    def __init__(self,key):\n",
    "        self.data = key\n",
    "        self.left = None\n",
    "        self.right = None\n",
    "  \n",
    "def preorder(root1):\n",
    "    stack = [root1]\n",
    "    res = []\n",
    "    while stack:\n",
    "        node = stack.pop()\n",
    "        if node:\n",
    "            res.append(node.data)\n",
    "            stack.append(node.right)\n",
    "            stack.append(node.left)\n",
    "    return res\n",
    "\n",
    "\n",
    "        \n",
    "        \n",
    "root1 = Node1(10)\n",
    "root1.left = Node1(20)\n",
    "root1.right = Node1(30)\n",
    "root1.left.left = Node1(40)\n",
    "root1.left.right = Node1(50)\n",
    "root1.right.left = Node1(60)\n",
    "root1.right.right = Node1(70)\n",
    "\n",
    "#        10\n",
    "#    20      30\n",
    "# 40  50   60    70\n",
    "\n",
    "preorder(root1)"
   ]
  },
  {
   "cell_type": "markdown",
   "id": "00b40fe0",
   "metadata": {},
   "source": [
    "# INORDER TRAVERSAL"
   ]
  },
  {
   "cell_type": "code",
   "execution_count": 20,
   "id": "30c2413d",
   "metadata": {},
   "outputs": [
    {
     "data": {
      "text/plain": [
       "[40, 20, 50, 10, 60, 30, 70]"
      ]
     },
     "execution_count": 20,
     "metadata": {},
     "output_type": "execute_result"
    }
   ],
   "source": [
    "class Node:\n",
    "    def __init__(self,key):\n",
    "        self.data = key\n",
    "        self.left = None\n",
    "        self.right = None\n",
    "       \n",
    "def inorder(root):\n",
    "    stack = []\n",
    "    res   = []\n",
    "    while root or stack:\n",
    "        while root:\n",
    "            stack.append(root)\n",
    "            root = root.left\n",
    "        root = stack.pop()\n",
    "        res.append(root.data)\n",
    "        root = root.right\n",
    "    return res\n",
    "        \n",
    "        \n",
    "root = Node(10)\n",
    "root.left = Node(20)\n",
    "root.right = Node(30)\n",
    "root.left.left = Node(40)\n",
    "root.left.right = Node(50)\n",
    "root.right.left = Node(60)\n",
    "root.right.right = Node(70)\n",
    "\n",
    "#        10\n",
    "#    20      30\n",
    "# 40  50   60    70\n",
    "\n",
    "\n",
    "inorder(root)"
   ]
  },
  {
   "cell_type": "markdown",
   "id": "8c7a555e",
   "metadata": {},
   "source": [
    "# POSTORDER TRAVERSAL"
   ]
  },
  {
   "cell_type": "code",
   "execution_count": 18,
   "id": "f11d15ec",
   "metadata": {},
   "outputs": [
    {
     "data": {
      "text/plain": [
       "[40, 50, 20, 60, 70, 30, 10]"
      ]
     },
     "execution_count": 18,
     "metadata": {},
     "output_type": "execute_result"
    }
   ],
   "source": [
    "class Node2:\n",
    "    def __init__(self,key):\n",
    "        self.data = key\n",
    "        self.left = None\n",
    "        self.right = None\n",
    "  \n",
    "def postorder(root2):\n",
    "    stack = [root2]\n",
    "    res = []\n",
    "    while stack:\n",
    "        node = stack.pop()\n",
    "        if node:\n",
    "            stack.append(node.left)\n",
    "            stack.append(node.right)\n",
    "            res.append(node.data)\n",
    "    return res [::-1]\n",
    "\n",
    "\n",
    "        \n",
    "        \n",
    "root2 = Node2(10)\n",
    "root2.left = Node2(20)\n",
    "root2.right = Node2(30)\n",
    "root2.left.left = Node2(40)\n",
    "root2.left.right = Node2(50)\n",
    "root2.right.left = Node2(60)\n",
    "root2.right.right = Node2(70)\n",
    "\n",
    "#        10\n",
    "#    20      30\n",
    "# 40  50   60    70\n",
    "\n",
    "postorder(root2)"
   ]
  },
  {
   "cell_type": "markdown",
   "id": "b4773190",
   "metadata": {},
   "source": [
    "# REVERSE A LINKEDLIST"
   ]
  },
  {
   "cell_type": "code",
   "execution_count": 21,
   "id": "bf0a5a3f",
   "metadata": {},
   "outputs": [
    {
     "name": "stdout",
     "output_type": "stream",
     "text": [
      "50 40 30 20 10 \n",
      "10 20 30 40 50 \n"
     ]
    }
   ],
   "source": [
    "class Node:\n",
    "    def __init__(self,key):\n",
    "        self.key = key\n",
    "        self.next = None\n",
    "        \n",
    "class linkedList:\n",
    "    def __init__(self):\n",
    "        self.head = None\n",
    "        \n",
    "    def push_node(self,new_data):\n",
    "        new_node = Node(new_data)\n",
    "        new_node.next = self.head\n",
    "        self.head = new_node\n",
    "        \n",
    "    def reverse(self):\n",
    "        curr = self.head\n",
    "        prev = None\n",
    "        while curr:\n",
    "            next = curr.next\n",
    "            curr.next = prev\n",
    "            prev = curr\n",
    "            curr = next\n",
    "        self.head = prev\n",
    "    \n",
    "    def print_List(self):\n",
    "        curr1 = self.head\n",
    "        while curr1:\n",
    "            print(curr1.key,end=\" \")\n",
    "            curr1 = curr1.next   \n",
    "        print()\n",
    "    \n",
    "        \n",
    "\n",
    "    \n",
    "Object = linkedList()\n",
    "Object.push_node(10)\n",
    "Object.push_node(20)\n",
    "Object.push_node(30)\n",
    "Object.push_node(40)\n",
    "Object.push_node(50)\n",
    "\n",
    "#given linked list\n",
    "Object.print_List()\n",
    "\n",
    "#reverse linked list\n",
    "Object.reverse()\n",
    "Object.print_List()\n",
    "\n",
    "    "
   ]
  },
  {
   "cell_type": "markdown",
   "id": "8cd3f33f",
   "metadata": {},
   "source": [
    "# LEVEL ORDER TRAVERSAL IN BINARY TREE"
   ]
  },
  {
   "cell_type": "code",
   "execution_count": 31,
   "id": "75d020d6",
   "metadata": {},
   "outputs": [
    {
     "data": {
      "text/plain": [
       "[[10], [20, 30], [40, 50, 60, 70]]"
      ]
     },
     "execution_count": 31,
     "metadata": {},
     "output_type": "execute_result"
    }
   ],
   "source": [
    "class Node:\n",
    "    def __init__(self,key):\n",
    "        self.data = key\n",
    "        self.left = None\n",
    "        self.right = None\n",
    "        \n",
    "        \n",
    "def level_order(root):\n",
    "    \n",
    "    result = []\n",
    "    queue = deque([root])\n",
    "    \n",
    "    while queue:\n",
    "        level = []\n",
    "        for i in range(len(queue)):\n",
    "            node = queue.popleft()\n",
    "            level.append(node.data)\n",
    "            \n",
    "            if node.left:\n",
    "                queue.append(node.left)\n",
    "            if node.right:\n",
    "                queue.append(node.right) \n",
    "        result.append(level)  \n",
    "    return result       \n",
    "\n",
    "        \n",
    "        \n",
    "root = Node(10)\n",
    "root.left = Node(20)\n",
    "root.right = Node(30)\n",
    "root.left.left = Node(40)\n",
    "root.left.right = Node(50)\n",
    "root.right.left = Node(60)\n",
    "root.right.right = Node(70)\n",
    "\n",
    "#        10\n",
    "#    20      30\n",
    "# 40  50   60    70\n",
    "\n",
    "\n",
    "level_order(root)"
   ]
  },
  {
   "cell_type": "markdown",
   "id": "e1be92c2",
   "metadata": {},
   "source": [
    "# SEARCH IN A BINARY SEARCH TREE(BST)"
   ]
  },
  {
   "cell_type": "code",
   "execution_count": 1,
   "id": "265229fd",
   "metadata": {},
   "outputs": [
    {
     "name": "stdout",
     "output_type": "stream",
     "text": [
      "enter the search value : 56\n"
     ]
    },
    {
     "data": {
      "text/plain": [
       "'element not present in the given tree.. '"
      ]
     },
     "execution_count": 1,
     "metadata": {},
     "output_type": "execute_result"
    }
   ],
   "source": [
    "class Node:\n",
    "    def __init__(self,key):\n",
    "        self.data = key\n",
    "        self.left = None\n",
    "        self.right = None\n",
    "        \n",
    "        \n",
    "def search_in_bst(root):\n",
    "     \n",
    "    while root:\n",
    "        if root.data == target:\n",
    "            return 'Element found in the tree  !! :)'\n",
    "        elif root.data > target:\n",
    "            root = root.left\n",
    "        else:\n",
    "            root = root.right\n",
    "    return 'element not present in the given tree.. '\n",
    "\n",
    "        \n",
    "        \n",
    "root = Node(25)\n",
    "root.left = Node(15)\n",
    "root.right = Node(35)\n",
    "root.left.left = Node(10)\n",
    "root.left.right = Node(20)\n",
    "root.right.left = Node(30)\n",
    "root.right.right = Node(40)\n",
    "\n",
    "#                   25\n",
    "#               15     35\n",
    "#            10  20  30   40\n",
    "\n",
    "\n",
    "target = int(input(\"enter the search value : \"))\n",
    "\n",
    "search_in_bst(root) "
   ]
  },
  {
   "cell_type": "markdown",
   "id": "e035f369",
   "metadata": {},
   "source": [
    "# VALID ANAGRAMS"
   ]
  },
  {
   "cell_type": "code",
   "execution_count": 1,
   "id": "6f9819cf",
   "metadata": {},
   "outputs": [
    {
     "data": {
      "text/plain": [
       "False"
      ]
     },
     "execution_count": 1,
     "metadata": {},
     "output_type": "execute_result"
    }
   ],
   "source": [
    "def checking_for_anagrams(a,b):\n",
    "    if len(a)!=len(b):\n",
    "        return False\n",
    "    a = sorted(a)  #giop after sorting\n",
    "    b = sorted(b)  #ikop\n",
    "    return a==b\n",
    "    \n",
    "    \n",
    "a = 'gopi'\n",
    "b = 'ipok'\n",
    "\n",
    "checking_for_anagrams(a,b)"
   ]
  },
  {
   "cell_type": "markdown",
   "id": "9b5e0dc6",
   "metadata": {},
   "source": [
    "# VALIDATE A BST TREE"
   ]
  },
  {
   "cell_type": "code",
   "execution_count": 15,
   "id": "97dca149",
   "metadata": {},
   "outputs": [
    {
     "data": {
      "text/plain": [
       "True"
      ]
     },
     "execution_count": 15,
     "metadata": {},
     "output_type": "execute_result"
    }
   ],
   "source": [
    "class Tree:\n",
    "    def __init__(self, key):\n",
    "        self.key = key\n",
    "        self.left = None\n",
    "        self.right = None\n",
    "        \n",
    "def valid_bst(bst1):\n",
    "    stack, prev = [], None\n",
    "    \n",
    "    if not bst1:\n",
    "        return None\n",
    "    root = bst1\n",
    "    while root or stack:\n",
    "        while root:\n",
    "            stack.append(root)\n",
    "            root = root.left\n",
    "        root = stack.pop()\n",
    "        if prev is not None and root is not None and root.key <= prev.key:\n",
    "            return False\n",
    "        prev, root = root, root.right\n",
    "    return True\n",
    "        \n",
    "        \n",
    "        \n",
    "bst1 = Tree(10)\n",
    "bst1.left = Tree(5)\n",
    "bst1.right = Tree(15)\n",
    "bst1.right.left = Tree(14)\n",
    "bst1.right.right = Tree(16)\n",
    "\n",
    "valid_bst(bst1)"
   ]
  },
  {
   "cell_type": "markdown",
   "id": "05bb8daa",
   "metadata": {},
   "source": [
    "# loop in a single linked list"
   ]
  },
  {
   "cell_type": "code",
   "execution_count": 1,
   "id": "6af6eb0c",
   "metadata": {},
   "outputs": [
    {
     "data": {
      "text/plain": [
       "False"
      ]
     },
     "execution_count": 1,
     "metadata": {},
     "output_type": "execute_result"
    }
   ],
   "source": [
    "class Node:\n",
    "    def __init__(self,key):\n",
    "        self.key = key\n",
    "        self.next = None\n",
    "        \n",
    "class Linkedlist:\n",
    "    def __init__(self):\n",
    "        self.head = None\n",
    "        \n",
    "    def add_node(self, new_data):\n",
    "        new_node = Node(new_data)\n",
    "        new_node.next = self.head\n",
    "        self.head = new_node\n",
    "        \n",
    "    def middle_of_linkedList(self):\n",
    "        slow = fast = curr = self.head\n",
    "        while fast and fast.next:\n",
    "            slow = slow.next\n",
    "            fast = fast.next.next\n",
    "            if slow == fast:\n",
    "                return True  #means cycle is there in singlely linked list.\n",
    "        return False  #means no cycle \n",
    "        \n",
    "       \n",
    "        \n",
    "    \n",
    "        \n",
    "llist = Linkedlist()\n",
    "llist.add_node(2)\n",
    "llist.add_node(3)\n",
    "llist.add_node(4)\n",
    "llist.add_node(5)\n",
    "llist.add_node(6)\n",
    "llist.add_node(7)\n",
    "llist.add_node(8)\n",
    "\n",
    "llist.middle_of_linkedList()"
   ]
  },
  {
   "cell_type": "markdown",
   "id": "0486eace",
   "metadata": {},
   "source": [
    "# FIRST UNIQUE LETTER IN STRING"
   ]
  },
  {
   "cell_type": "code",
   "execution_count": 2,
   "id": "d08f9bd5",
   "metadata": {},
   "outputs": [
    {
     "data": {
      "text/plain": [
       "0"
      ]
     },
     "execution_count": 2,
     "metadata": {},
     "output_type": "execute_result"
    }
   ],
   "source": [
    "def uniqueString(s):\n",
    "    for i in s:\n",
    "        if s.count(i)==1:\n",
    "            return s.index(i) #prints the index\n",
    "    return -1\n",
    "\n",
    "s = \"gopi\"\n",
    "\n",
    "uniqueString(s)"
   ]
  },
  {
   "cell_type": "markdown",
   "id": "ef5d78cf",
   "metadata": {},
   "source": [
    "# RANSOM NOTE"
   ]
  },
  {
   "cell_type": "raw",
   "id": "111ac0e4",
   "metadata": {},
   "source": [
    "Given two strings ransomNote and magazine, return true if ransomNote can be constructed by using the letters from magazine and false otherwise.\n",
    "\n",
    "Each letter in magazine can only be used once in ransomNote.\n",
    "\n",
    " \n",
    "\n",
    "Example 1:\n",
    "\n",
    "Input: ransomNote = \"a\", magazine = \"b\"\n",
    "Output: false\n",
    "Example 2:\n",
    "\n",
    "Input: ransomNote = \"aa\", magazine = \"ab\"\n",
    "Output: false\n",
    "Example 3:\n",
    "\n",
    "Input: ransomNote = \"aa\", magazine = \"aab\"\n",
    "Output: true\n",
    " "
   ]
  },
  {
   "cell_type": "code",
   "execution_count": 8,
   "id": "65d5a959",
   "metadata": {},
   "outputs": [
    {
     "data": {
      "text/plain": [
       "True"
      ]
     },
     "execution_count": 8,
     "metadata": {},
     "output_type": "execute_result"
    }
   ],
   "source": [
    "from collections import Counter\n",
    "\n",
    "def ransom_note(ransomNote, magazine):\n",
    "    \n",
    "    d1 = Counter(ransomNote)\n",
    "    d2 = Counter(magazine)\n",
    "    \n",
    "    for key,val in d1.items():\n",
    "        if key not in d2:\n",
    "            return False\n",
    "        else:\n",
    "            if d2[key] < val:\n",
    "                return False\n",
    "    return True\n",
    "\n",
    "ransomNote = \"aa\"\n",
    "magazine = \"bbaa\"\n",
    "\n",
    "ransom_note(ransomNote, magazine)"
   ]
  },
  {
   "cell_type": "markdown",
   "id": "e1332c74",
   "metadata": {},
   "source": [
    "# VALID ANAGRAM"
   ]
  },
  {
   "cell_type": "code",
   "execution_count": 11,
   "id": "428011fa",
   "metadata": {},
   "outputs": [
    {
     "data": {
      "text/plain": [
       "True"
      ]
     },
     "execution_count": 11,
     "metadata": {},
     "output_type": "execute_result"
    }
   ],
   "source": [
    "def anagram(a,b):\n",
    "    a = sorted(a)\n",
    "    b = sorted(b)\n",
    "    return (a==b)\n",
    "\n",
    "a = \"gopikrishna\"\n",
    "b = \"krishnagopi\"\n",
    "\n",
    "anagram(a,b)"
   ]
  },
  {
   "cell_type": "code",
   "execution_count": null,
   "id": "6f5cc7f4",
   "metadata": {},
   "outputs": [],
   "source": []
  }
 ],
 "metadata": {
  "kernelspec": {
   "display_name": "Python 3 (ipykernel)",
   "language": "python",
   "name": "python3"
  },
  "language_info": {
   "codemirror_mode": {
    "name": "ipython",
    "version": 3
   },
   "file_extension": ".py",
   "mimetype": "text/x-python",
   "name": "python",
   "nbconvert_exporter": "python",
   "pygments_lexer": "ipython3",
   "version": "3.9.12"
  }
 },
 "nbformat": 4,
 "nbformat_minor": 5
}
