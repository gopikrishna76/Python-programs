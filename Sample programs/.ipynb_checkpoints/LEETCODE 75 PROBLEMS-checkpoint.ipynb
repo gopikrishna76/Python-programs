{
 "cells": [
  {
   "cell_type": "markdown",
   "id": "1fdb1324",
   "metadata": {},
   "source": [
    "#  Running Sum of 1d Array "
   ]
  },
  {
   "cell_type": "raw",
   "id": "00add9d3",
   "metadata": {},
   "source": [
    "''' <<<<<<<<<\n",
    "\n",
    "\n",
    "Given an array nums. We define a running sum of an array as runningSum[i] = sum(nums[0]…nums[i]).\n",
    "\n",
    "Return the running sum of nums.\n",
    "\n",
    " \n",
    "\n",
    "Example 1:\n",
    "\n",
    "Input: nums = [1,2,3,4]\n",
    "Output: [1,3,6,10]\n",
    "Explanation: Running sum is obtained as follows: [1, 1+2, 1+2+3, 1+2+3+4].\n",
    "Example 2:\n",
    "\n",
    "Input: nums = [1,1,1,1,1]\n",
    "Output: [1,2,3,4,5]\n",
    "Explanation: Running sum is obtained as follows: [1, 1+1, 1+1+1, 1+1+1+1, 1+1+1+1+1].\n",
    "Example 3:\n",
    "\n",
    "Input: nums = [3,1,2,10,1]\n",
    "Output: [3,4,6,16,17]\n",
    "\n",
    "'''"
   ]
  },
  {
   "cell_type": "code",
   "execution_count": 2,
   "id": "adb88330",
   "metadata": {},
   "outputs": [
    {
     "data": {
      "text/plain": [
       "[1, 3, 6, 10, 15]"
      ]
     },
     "execution_count": 2,
     "metadata": {},
     "output_type": "execute_result"
    }
   ],
   "source": [
    "def sum_of_array(arr,n):\n",
    "    res = [0]*n\n",
    "    sum = 0\n",
    "    for i in range(n):\n",
    "        sum += arr[i]\n",
    "        res[i] = sum\n",
    "    return res\n",
    "\n",
    "arr = [1,2,3,4,5]\n",
    "n = len(arr)\n",
    "\n",
    "sum_of_array(arr,n)"
   ]
  },
  {
   "cell_type": "markdown",
   "id": "08a3ec56",
   "metadata": {},
   "source": [
    "# FIND PIVOT INDEX IN ARRAY"
   ]
  },
  {
   "cell_type": "raw",
   "id": "905db6ce",
   "metadata": {},
   "source": [
    "'''  <<<<<<<  >>>>>>\n",
    "\n",
    "Given an array of integers nums, calculate the pivot index of this array.\n",
    "\n",
    "The pivot index is the index where the sum of all the numbers strictly to the left of the index is equal to the sum of all the numbers strictly to the index's right.\n",
    "\n",
    "If the index is on the left edge of the array, then the left sum is 0 because there are no elements to the left. This also applies to the right edge of the array.\n",
    "\n",
    "Return the leftmost pivot index. If no such index exists, return -1.\n",
    "\n",
    " \n",
    "\n",
    "Example 1:\n",
    "\n",
    "Input: nums = [1,7,3,6,5,6]\n",
    "Output: 3\n",
    "Explanation:\n",
    "The pivot index is 3.\n",
    "Left sum = nums[0] + nums[1] + nums[2] = 1 + 7 + 3 = 11\n",
    "Right sum = nums[4] + nums[5] = 5 + 6 = 11\n",
    "Example 2:\n",
    "\n",
    "Input: nums = [1,2,3]\n",
    "Output: -1\n",
    "Explanation:\n",
    "There is no index that satisfies the conditions in the problem statement.\n",
    "Example 3:\n",
    "\n",
    "Input: nums = [2,1,-1]\n",
    "Output: 0\n",
    "Explanation:\n",
    "The pivot index is 0.\n",
    "Left sum = 0 (no elements to the left of index 0)\n",
    "Right sum = nums[1] + nums[2] = 1 + -1 = 0\n",
    " \n",
    " '''"
   ]
  },
  {
   "cell_type": "code",
   "execution_count": 4,
   "id": "4a92de2b",
   "metadata": {},
   "outputs": [
    {
     "data": {
      "text/plain": [
       "2"
      ]
     },
     "execution_count": 4,
     "metadata": {},
     "output_type": "execute_result"
    }
   ],
   "source": [
    "def pivot(arr, n):\n",
    "    \n",
    "    left = arr[0]\n",
    "    right = sum(arr)\n",
    "    \n",
    "    for i in range(n):\n",
    "        if left==right:\n",
    "            return  i  #prints the index\n",
    "          \n",
    "        if i==n-1:\n",
    "            return -1\n",
    "        \n",
    "        left += arr[i+1]\n",
    "        right -= arr[i]\n",
    "        \n",
    "    return -1\n",
    "\n",
    "arr = [2,0,3,1,1,0]\n",
    "n   = len(arr)\n",
    "\n",
    "pivot(arr,n)"
   ]
  },
  {
   "cell_type": "markdown",
   "id": "3969dabb",
   "metadata": {},
   "source": [
    "# ISOMOPHORIC STRINGS"
   ]
  },
  {
   "cell_type": "raw",
   "id": "d007636a",
   "metadata": {},
   "source": [
    "Given two strings s and t, determine if they are isomorphic.\n",
    "\n",
    "Two strings s and t are isomorphic if the characters in s can be replaced to get t.\n",
    "\n",
    "All occurrences of a character must be replaced with another character while preserving the order of characters. No two characters may map to the same character, but a character may map to itself.\n",
    "\n",
    " \n",
    "\n",
    "Example 1:\n",
    "\n",
    "Input: s = \"egg\", t = \"add\"\n",
    "Output: true\n",
    "\n",
    "Example 2:\n",
    "\n",
    "Input: s = \"foo\", t = \"bar\"\n",
    "Output: false\n",
    "\n",
    "Example 3:\n",
    "\n",
    "Input: s = \"paper\", t = \"title\"\n",
    "Output: true"
   ]
  },
  {
   "cell_type": "code",
   "execution_count": 1,
   "id": "6d9f12f0",
   "metadata": {},
   "outputs": [
    {
     "data": {
      "text/plain": [
       "True"
      ]
     },
     "execution_count": 1,
     "metadata": {},
     "output_type": "execute_result"
    }
   ],
   "source": [
    "def isomophoric_string(a,b):\n",
    "    map1 = map2 = []\n",
    "    for idx in a:\n",
    "        map1.append(a.index(idx))\n",
    "    for idx in b:\n",
    "        map2.append(b.index(idx))\n",
    "        \n",
    "    if map1==map2:\n",
    "        return True\n",
    "    return False\n",
    "\n",
    "a = 'egg'\n",
    "b = 'add'\n",
    "        \n",
    "isomophoric_string(a,b)"
   ]
  },
  {
   "cell_type": "markdown",
   "id": "6145e27f",
   "metadata": {},
   "source": [
    "# SUBSEQUENCE IN STRING"
   ]
  },
  {
   "cell_type": "raw",
   "id": "5faa3ac3",
   "metadata": {},
   "source": [
    "Given two strings s and t, return true if s is a subsequence of t, or false otherwise.\n",
    "\n",
    "A subsequence of a string is a new string that is formed from the original string by deleting some (can be none) of the characters without disturbing the relative positions of the remaining characters. (i.e., \"ace\" is a subsequence of \"abcde\" while \"aec\" is not).\n",
    "\n",
    " \n",
    "\n",
    "Example 1:\n",
    "\n",
    "Input: s = \"abc\", t = \"ahbgdc\"\n",
    "Output: true\n",
    "    \n",
    "Example 2:\n",
    "\n",
    "Input: s = \"axc\", t = \"ahbgdc\"\n",
    "Output: false"
   ]
  },
  {
   "cell_type": "code",
   "execution_count": 4,
   "id": "d9009ca6",
   "metadata": {},
   "outputs": [
    {
     "data": {
      "text/plain": [
       "True"
      ]
     },
     "execution_count": 4,
     "metadata": {},
     "output_type": "execute_result"
    }
   ],
   "source": [
    "def subsequence_in_string(a, b):\n",
    "    \n",
    "    i, j = 0, 0\n",
    "    \n",
    "    while i < len(a) and j < len(b):\n",
    "        if a[i] == b[j]:\n",
    "            i += 1\n",
    "        j += 1\n",
    "    return i==len(a)\n",
    "\n",
    "a = 'abc'\n",
    "b = 'ahbgdc'\n",
    "\n",
    "subsequence_in_string(a, b)"
   ]
  },
  {
   "cell_type": "markdown",
   "id": "a80b149e",
   "metadata": {},
   "source": []
  },
  {
   "cell_type": "code",
   "execution_count": null,
   "id": "19e7d078",
   "metadata": {},
   "outputs": [],
   "source": []
  }
 ],
 "metadata": {
  "kernelspec": {
   "display_name": "Python 3 (ipykernel)",
   "language": "python",
   "name": "python3"
  },
  "language_info": {
   "codemirror_mode": {
    "name": "ipython",
    "version": 3
   },
   "file_extension": ".py",
   "mimetype": "text/x-python",
   "name": "python",
   "nbconvert_exporter": "python",
   "pygments_lexer": "ipython3",
   "version": "3.9.12"
  }
 },
 "nbformat": 4,
 "nbformat_minor": 5
}
