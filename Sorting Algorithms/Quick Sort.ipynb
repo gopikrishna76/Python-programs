{
 "cells": [
  {
   "cell_type": "markdown",
   "id": "e060f468",
   "metadata": {},
   "source": [
    "# Quick Sort O(NlogN)"
   ]
  },
  {
   "cell_type": "code",
   "execution_count": 3,
   "id": "ef4cb835",
   "metadata": {},
   "outputs": [
    {
     "name": "stdout",
     "output_type": "stream",
     "text": [
      "[1, 1, 2, 2, 3, 3, 4, 4, 5, 6, 7]\n"
     ]
    }
   ],
   "source": [
    "def quicksort(arr):\n",
    "    n = len(arr)\n",
    "    if n <= 1:\n",
    "        return arr\n",
    "    else:\n",
    "        pivot = arr.pop() #pop function will pick the last element in the list/array.\n",
    "        \n",
    "    right = [] #empty list (greater)\n",
    "    left = [] #lower \n",
    "    \n",
    "    for i in arr:\n",
    "        if i > pivot:\n",
    "            right.append(i)\n",
    "        else:\n",
    "            left.append(i)\n",
    "    return quicksort(left) + [pivot] + quicksort(right)\n",
    "\n",
    "arr = [4,3,2,1,1,2,3,4,7,6,5] #input array\n",
    "\n",
    "print(quicksort(arr))"
   ]
  },
  {
   "cell_type": "code",
   "execution_count": null,
   "id": "2977fd66",
   "metadata": {},
   "outputs": [],
   "source": []
  }
 ],
 "metadata": {
  "kernelspec": {
   "display_name": "Python 3 (ipykernel)",
   "language": "python",
   "name": "python3"
  },
  "language_info": {
   "codemirror_mode": {
    "name": "ipython",
    "version": 3
   },
   "file_extension": ".py",
   "mimetype": "text/x-python",
   "name": "python",
   "nbconvert_exporter": "python",
   "pygments_lexer": "ipython3",
   "version": "3.9.12"
  }
 },
 "nbformat": 4,
 "nbformat_minor": 5
}
