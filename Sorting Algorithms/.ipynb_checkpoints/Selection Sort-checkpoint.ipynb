{
 "cells": [
  {
   "cell_type": "markdown",
   "id": "683c00c5",
   "metadata": {},
   "source": [
    "# Selection Sort - O(n2)"
   ]
  },
  {
   "cell_type": "code",
   "execution_count": 3,
   "id": "7f702ae1",
   "metadata": {},
   "outputs": [
    {
     "name": "stdout",
     "output_type": "stream",
     "text": [
      "[0, 1, 2, 3, 4, 6, 7, 8, 9]\n"
     ]
    }
   ],
   "source": [
    "def selectionSort(arr, n):\n",
    "    #code\n",
    "    for i in range(0,n-1):\n",
    "        current_min_index = i\n",
    "        for j in range(i+1,n):\n",
    "            if arr[j] < arr[current_min_index]:\n",
    "                current_min_index = j\n",
    "        arr[i],arr[current_min_index] = arr[current_min_index],arr[i]\n",
    "    return arr\n",
    "        \n",
    "        \n",
    "        \n",
    "arr = [4,2,1,3,7,6,9,8,0]\n",
    "n = len(arr)\n",
    "\n",
    "print(selectionSort(arr, n))"
   ]
  },
  {
   "cell_type": "code",
   "execution_count": null,
   "id": "635123db",
   "metadata": {},
   "outputs": [],
   "source": []
  }
 ],
 "metadata": {
  "kernelspec": {
   "display_name": "Python 3 (ipykernel)",
   "language": "python",
   "name": "python3"
  },
  "language_info": {
   "codemirror_mode": {
    "name": "ipython",
    "version": 3
   },
   "file_extension": ".py",
   "mimetype": "text/x-python",
   "name": "python",
   "nbconvert_exporter": "python",
   "pygments_lexer": "ipython3",
   "version": "3.9.12"
  }
 },
 "nbformat": 4,
 "nbformat_minor": 5
}
