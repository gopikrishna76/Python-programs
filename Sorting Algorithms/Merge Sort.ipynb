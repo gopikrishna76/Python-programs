{
 "cells": [
  {
   "cell_type": "markdown",
   "id": "37e40481",
   "metadata": {},
   "source": [
    "# Merge Sort - O(NlogN)"
   ]
  },
  {
   "cell_type": "code",
   "execution_count": 1,
   "id": "46b19e77",
   "metadata": {},
   "outputs": [
    {
     "name": "stdout",
     "output_type": "stream",
     "text": [
      "[1, 1, 2, 2, 3, 3, 4, 4, 5, 5, 6, 6]\n"
     ]
    }
   ],
   "source": [
    "def merge(left, right):\n",
    "    ans = [] #empty list\n",
    "    i,j = 0,0\n",
    "    while i < len(left) and j < len(right):\n",
    "        if left[i] <= right[j]:\n",
    "            ans.append(left[i])\n",
    "            i += 1\n",
    "        else:\n",
    "            ans.append(right[j])\n",
    "            j += 1\n",
    "    while i<len(left):\n",
    "        ans.append(left[i])\n",
    "        i += 1\n",
    "    while j<len(right):\n",
    "        ans.append(right[j])\n",
    "        j += 1\n",
    "    #ans += left[i:]\n",
    "    #ans += right[j:]\n",
    "    return ans #returning the merge sort array\n",
    "def mergesort(arr):\n",
    "    if len(arr) <= 1:\n",
    "        return arr\n",
    "    mid = int(len(arr)/2)\n",
    "    left = mergesort(arr[:mid])\n",
    "    right = mergesort(arr[mid:])\n",
    "    return merge(left,right)\n",
    "\n",
    "arr = [6,5,4,5,2,1,1,2,3,4,6,3]\n",
    "print(mergesort(arr))"
   ]
  },
  {
   "cell_type": "code",
   "execution_count": null,
   "id": "9f7b9e71",
   "metadata": {},
   "outputs": [],
   "source": [
    " "
   ]
  }
 ],
 "metadata": {
  "kernelspec": {
   "display_name": "Python 3 (ipykernel)",
   "language": "python",
   "name": "python3"
  },
  "language_info": {
   "codemirror_mode": {
    "name": "ipython",
    "version": 3
   },
   "file_extension": ".py",
   "mimetype": "text/x-python",
   "name": "python",
   "nbconvert_exporter": "python",
   "pygments_lexer": "ipython3",
   "version": "3.9.12"
  }
 },
 "nbformat": 4,
 "nbformat_minor": 5
}
