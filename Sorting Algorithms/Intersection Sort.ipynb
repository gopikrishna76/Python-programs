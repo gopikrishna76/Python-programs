{
 "cells": [
  {
   "cell_type": "markdown",
   "id": "4ae4d5b1",
   "metadata": {},
   "source": [
    "# O(n2)"
   ]
  },
  {
   "cell_type": "code",
   "execution_count": 2,
   "id": "7b06053e",
   "metadata": {},
   "outputs": [
    {
     "name": "stdout",
     "output_type": "stream",
     "text": [
      "[0, 1, 2, 3, 4, 5, 7, 8, 9]\n"
     ]
    }
   ],
   "source": [
    "def intersection_sort(arr, n):\n",
    "    \n",
    "    #code \n",
    "    for i in range(1,n):\n",
    "        j = i\n",
    "        while arr[j-1] > arr[j] and j > 0:\n",
    "            arr[j-1],arr[j] = arr[j],arr[j-1]\n",
    "            j -= 1\n",
    "    return arr\n",
    "\n",
    "arr = [5,4,1,3,2,7,0,9,8]\n",
    "n = len(arr)\n",
    "\n",
    "print(intersection_sort(arr, n))"
   ]
  },
  {
   "cell_type": "code",
   "execution_count": null,
   "id": "44acf714",
   "metadata": {},
   "outputs": [],
   "source": []
  }
 ],
 "metadata": {
  "kernelspec": {
   "display_name": "Python 3 (ipykernel)",
   "language": "python",
   "name": "python3"
  },
  "language_info": {
   "codemirror_mode": {
    "name": "ipython",
    "version": 3
   },
   "file_extension": ".py",
   "mimetype": "text/x-python",
   "name": "python",
   "nbconvert_exporter": "python",
   "pygments_lexer": "ipython3",
   "version": "3.9.12"
  }
 },
 "nbformat": 4,
 "nbformat_minor": 5
}
