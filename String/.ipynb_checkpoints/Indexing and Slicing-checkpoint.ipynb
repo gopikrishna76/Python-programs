{
 "cells": [
  {
   "cell_type": "markdown",
   "id": "c5f65054",
   "metadata": {},
   "source": [
    "# Indexing \n",
    "\n",
    "\n",
    "\n",
    "#it means accessing the particular element in the string.(only one element is accessible)"
   ]
  },
  {
   "cell_type": "code",
   "execution_count": 1,
   "id": "a84ccc19",
   "metadata": {},
   "outputs": [
    {
     "name": "stdout",
     "output_type": "stream",
     "text": [
      "H\n"
     ]
    }
   ],
   "source": [
    "a=\"Hello world\" #indexing starts from 0 to n-1\n",
    "print(a[0])\n"
   ]
  },
  {
   "cell_type": "code",
   "execution_count": 2,
   "id": "9b6405a6",
   "metadata": {},
   "outputs": [
    {
     "name": "stdout",
     "output_type": "stream",
     "text": [
      "e\n"
     ]
    }
   ],
   "source": [
    "print(a[1])\n"
   ]
  },
  {
   "cell_type": "markdown",
   "id": "34cdd3f9",
   "metadata": {},
   "source": [
    "# Indexing is two types:-\n",
    "    Forward indexing\n",
    "    Negative indexing"
   ]
  },
  {
   "cell_type": "code",
   "execution_count": 3,
   "id": "43dd336e",
   "metadata": {},
   "outputs": [
    {
     "name": "stdout",
     "output_type": "stream",
     "text": [
      "H\n"
     ]
    }
   ],
   "source": [
    "a=\"Hello world\" #indexing starts from 0 to n-1\n",
    "print(a[0]) #forward (positive value)\n"
   ]
  },
  {
   "cell_type": "code",
   "execution_count": 5,
   "id": "9b74300d",
   "metadata": {},
   "outputs": [
    {
     "name": "stdout",
     "output_type": "stream",
     "text": [
      "d\n"
     ]
    }
   ],
   "source": [
    "a=\"Hello world\" #indexing starts from -1 \n",
    "print(a[-1])             #   H   e   l   l   o     w  o  r  l  d\n",
    "                         # -11  -10  -9  -8  -7 -6 -5 -4 -3 -2 -1"
   ]
  },
  {
   "cell_type": "markdown",
   "id": "b6697055",
   "metadata": {},
   "source": [
    "# Slicing"
   ]
  },
  {
   "cell_type": "code",
   "execution_count": 6,
   "id": "94ce1b9c",
   "metadata": {},
   "outputs": [
    {
     "name": "stdout",
     "output_type": "stream",
     "text": [
      "Hello\n"
     ]
    }
   ],
   "source": [
    "a=\"Hello world\"\n",
    "print(a[0:5])             #prints from 0 to 5-1 range index elements"
   ]
  },
  {
   "cell_type": "code",
   "execution_count": 8,
   "id": "09e99dcd",
   "metadata": {},
   "outputs": [
    {
     "name": "stdout",
     "output_type": "stream",
     "text": [
      "Hello world\n"
     ]
    }
   ],
   "source": [
    "a=\"Hello world\"\n",
    "print(a[:])    #  >> : prints all elements"
   ]
  },
  {
   "cell_type": "code",
   "execution_count": 16,
   "id": "af80cf14",
   "metadata": {},
   "outputs": [
    {
     "name": "stdout",
     "output_type": "stream",
     "text": [
      " world\n"
     ]
    }
   ],
   "source": [
    "a=\"Hello world\"\n",
    "print(a[-6:12]) #using negative indexing"
   ]
  },
  {
   "cell_type": "code",
   "execution_count": null,
   "id": "8f49e111",
   "metadata": {},
   "outputs": [],
   "source": []
  }
 ],
 "metadata": {
  "kernelspec": {
   "display_name": "Python 3 (ipykernel)",
   "language": "python",
   "name": "python3"
  },
  "language_info": {
   "codemirror_mode": {
    "name": "ipython",
    "version": 3
   },
   "file_extension": ".py",
   "mimetype": "text/x-python",
   "name": "python",
   "nbconvert_exporter": "python",
   "pygments_lexer": "ipython3",
   "version": "3.9.12"
  }
 },
 "nbformat": 4,
 "nbformat_minor": 5
}
