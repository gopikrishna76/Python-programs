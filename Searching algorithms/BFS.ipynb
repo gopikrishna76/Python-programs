{
 "cells": [
  {
   "cell_type": "markdown",
   "id": "d6742397",
   "metadata": {},
   "source": [
    "# BFS (Level order Traversal)"
   ]
  },
  {
   "cell_type": "code",
   "execution_count": null,
   "id": "06b44460",
   "metadata": {},
   "outputs": [],
   "source": [
    "        \"\"\"                5\n",
    "                       3       7\n",
    "                    2   4   8   9\n",
    "        \n",
    "        \"\"\""
   ]
  },
  {
   "cell_type": "code",
   "execution_count": 3,
   "id": "fa68ee1d",
   "metadata": {},
   "outputs": [
    {
     "name": "stdout",
     "output_type": "stream",
     "text": [
      "5 3 7 2 4 8 9 None\n"
     ]
    }
   ],
   "source": [
    "graph = { '5':['3','7'],\n",
    "        '3':['2','4'],\n",
    "        '7':['8','9'],\n",
    "        '2':[],\n",
    "        '4':[],\n",
    "        '8':[],\n",
    "        '9':[]\n",
    "        }\n",
    "\n",
    "visited = [] #list for the visited nodes\n",
    "queue = [] #initialize the queue\n",
    "\n",
    "def bfs(visited,graph,node):\n",
    "    visited.append(node)\n",
    "    queue.append(node)\n",
    "     \n",
    "    while queue:  #creating the loop to visit the each node .if queue is empty it will come out of the loop\n",
    "        m = queue.pop(0)\n",
    "        print(m, end=\" \")\n",
    "        for neighbour in graph[m]:\n",
    "            if neighbour not in visited:\n",
    "                visited.append(neighbour)\n",
    "                queue.append(neighbour)\n",
    "        \n",
    "print(bfs(visited,graph,'5')) #5 will be the initial node in the graph"
   ]
  },
  {
   "cell_type": "code",
   "execution_count": null,
   "id": "4f38c814",
   "metadata": {},
   "outputs": [],
   "source": []
  }
 ],
 "metadata": {
  "kernelspec": {
   "display_name": "Python 3 (ipykernel)",
   "language": "python",
   "name": "python3"
  },
  "language_info": {
   "codemirror_mode": {
    "name": "ipython",
    "version": 3
   },
   "file_extension": ".py",
   "mimetype": "text/x-python",
   "name": "python",
   "nbconvert_exporter": "python",
   "pygments_lexer": "ipython3",
   "version": "3.9.12"
  }
 },
 "nbformat": 4,
 "nbformat_minor": 5
}
