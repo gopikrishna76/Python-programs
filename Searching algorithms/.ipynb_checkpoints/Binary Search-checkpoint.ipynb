{
 "cells": [
  {
   "cell_type": "markdown",
   "id": "32225931",
   "metadata": {},
   "source": [
    "# Binary search complexity : - O(logN)"
   ]
  },
  {
   "cell_type": "code",
   "execution_count": 2,
   "id": "72d3a842",
   "metadata": {},
   "outputs": [
    {
     "name": "stdout",
     "output_type": "stream",
     "text": [
      "Enter the search value : 3\n",
      "Element found in the given array at index position 2\n"
     ]
    }
   ],
   "source": [
    "def binarysearch(arr, n, x):\n",
    "    low = 0\n",
    "    high = n-1\n",
    "    while low <= high:\n",
    "        mid = int((low+high)/2)\n",
    "        if arr[mid] == x:\n",
    "            return \"Element found in the given array at index position \"+str(mid)\n",
    "        elif arr[mid] > x:                                               #converting the int into string ....\n",
    "            high = mid - 1\n",
    "        else:\n",
    "            low = mid + 1\n",
    "    return \"Element not found in the given array\"\n",
    "\n",
    "arr = [1,2,3,4,5,6]\n",
    "n = 6\n",
    "x = int(input(\"Enter the search value : \"))  #search value\n",
    "\n",
    "print(binarysearch(arr, n, x))\n",
    "    \n",
    "    \n",
    "#################################################################################\n",
    " #Note : - Array must be sorted before doing binary search on it\n",
    "#################################################################################"
   ]
  },
  {
   "cell_type": "code",
   "execution_count": null,
   "id": "04ce6cc0",
   "metadata": {},
   "outputs": [],
   "source": []
  }
 ],
 "metadata": {
  "kernelspec": {
   "display_name": "Python 3 (ipykernel)",
   "language": "python",
   "name": "python3"
  },
  "language_info": {
   "codemirror_mode": {
    "name": "ipython",
    "version": 3
   },
   "file_extension": ".py",
   "mimetype": "text/x-python",
   "name": "python",
   "nbconvert_exporter": "python",
   "pygments_lexer": "ipython3",
   "version": "3.9.12"
  }
 },
 "nbformat": 4,
 "nbformat_minor": 5
}
