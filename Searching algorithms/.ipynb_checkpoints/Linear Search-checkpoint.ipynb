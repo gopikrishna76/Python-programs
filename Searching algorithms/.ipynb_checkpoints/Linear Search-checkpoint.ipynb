{
 "cells": [
  {
   "cell_type": "markdown",
   "id": "0b7cdad1",
   "metadata": {},
   "source": [
    "Linear Search is also called as Sequential search."
   ]
  },
  {
   "cell_type": "markdown",
   "id": "4920f07d",
   "metadata": {},
   "source": [
    "complexity :- O(n)"
   ]
  },
  {
   "cell_type": "code",
   "execution_count": 9,
   "id": "79d8e944",
   "metadata": {},
   "outputs": [
    {
     "name": "stdout",
     "output_type": "stream",
     "text": [
      "Enter the search value : 3\n",
      "Element found in the given array\n"
     ]
    }
   ],
   "source": [
    "\n",
    "def linearsearch(arr, x,n):\n",
    "    n = len(arr) \n",
    "    for i in range(n): #starts from 0th to n-1 index range\n",
    "        if arr[i] == x:\n",
    "            return \"Element found in the given array\"\n",
    "    return \"Element  not found in the given array\"\n",
    "        \n",
    "\n",
    "arr = [1,2,3,4,5,6]\n",
    "x = int(input(\"Enter the search value : \"))  #search value\n",
    "\n",
    "\n",
    "\n",
    "print(linearsearch(arr, x,n))"
   ]
  },
  {
   "cell_type": "code",
   "execution_count": null,
   "id": "970eb344",
   "metadata": {},
   "outputs": [],
   "source": []
  }
 ],
 "metadata": {
  "kernelspec": {
   "display_name": "Python 3 (ipykernel)",
   "language": "python",
   "name": "python3"
  },
  "language_info": {
   "codemirror_mode": {
    "name": "ipython",
    "version": 3
   },
   "file_extension": ".py",
   "mimetype": "text/x-python",
   "name": "python",
   "nbconvert_exporter": "python",
   "pygments_lexer": "ipython3",
   "version": "3.9.12"
  }
 },
 "nbformat": 4,
 "nbformat_minor": 5
}
